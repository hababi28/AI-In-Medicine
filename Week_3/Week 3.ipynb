{
 "cells": [
  {
   "cell_type": "markdown",
   "id": "811cedce-3347-478b-acd6-e276907ba975",
   "metadata": {
    "id": "811cedce-3347-478b-acd6-e276907ba975"
   },
   "source": [
    "# Week 3 - Data Analysis and Visualisation"
   ]
  },
  {
   "cell_type": "code",
   "execution_count": 126,
   "id": "oEpy4PwyglCt",
   "metadata": {
    "id": "oEpy4PwyglCt"
   },
   "outputs": [
    {
     "data": {
      "text/plain": [
       "'\\nfrom google.colab import drive\\ndrive.mount(\\'/content/drive/\\')\\n\\nimport os\\nfolders_in_between = \\'data\\' #if no folders in between change folder path accordingly\\nfolder_path = f\"/content/drive/My Drive/{folders_in_between}/python_course/Week_2\"\\n\\nos.chdir(folder_path)\\n\\nprint(\"Current working directory:\", os.getcwd())\\n'"
      ]
     },
     "execution_count": 126,
     "metadata": {},
     "output_type": "execute_result"
    }
   ],
   "source": [
    "\"\"\"\n",
    "from google.colab import drive\n",
    "drive.mount('/content/drive/')\n",
    "\n",
    "import os\n",
    "folders_in_between = 'data' #if no folders in between change folder path accordingly\n",
    "folder_path = f\"/content/drive/My Drive/{folders_in_between}/python_course/Week_2\"\n",
    "\n",
    "os.chdir(folder_path)\n",
    "\n",
    "print(\"Current working directory:\", os.getcwd())\n",
    "\"\"\""
   ]
  },
  {
   "cell_type": "markdown",
   "id": "a594909b-fc02-43d3-97ea-3c02ce357010",
   "metadata": {
    "id": "a594909b-fc02-43d3-97ea-3c02ce357010"
   },
   "source": [
    "# More on Lists"
   ]
  },
  {
   "cell_type": "markdown",
   "id": "cb654d03-a60d-4531-8428-f53e1bac865a",
   "metadata": {
    "id": "cb654d03-a60d-4531-8428-f53e1bac865a"
   },
   "source": [
    "In this section, we're going to familiarise ourselves with Python list operations using a simple dataset.\n",
    "\n",
    "The dataset is a mock representation of basic patient information commonly encountered in medical databases.\n",
    "\n",
    "We'll start by creating lists that represent different attributes for each patient: their name, age, and height."
   ]
  },
  {
   "cell_type": "code",
   "execution_count": 127,
   "id": "f1bb36a0-1e42-4b34-8989-b3e868642338",
   "metadata": {
    "id": "f1bb36a0-1e42-4b34-8989-b3e868642338",
    "tags": []
   },
   "outputs": [],
   "source": [
    "names = ['John', 'Anna', 'Peter', 'Linda']\n",
    "ages = [28, 23, 34, 29]\n",
    "heights = [175, 168, 180, 165]"
   ]
  },
  {
   "cell_type": "markdown",
   "id": "3a8b4396-3f10-44ee-8bd2-739440bb2cd4",
   "metadata": {
    "id": "3a8b4396-3f10-44ee-8bd2-739440bb2cd4"
   },
   "source": [
    "### ``list.append()``"
   ]
  },
  {
   "cell_type": "markdown",
   "id": "8ff2fb2d-40bc-4b40-8e7c-dcc98a915a71",
   "metadata": {
    "id": "8ff2fb2d-40bc-4b40-8e7c-dcc98a915a71"
   },
   "source": [
    "If you remember back to Week 1, we looked at the ``append`` method."
   ]
  },
  {
   "cell_type": "code",
   "execution_count": 128,
   "id": "5be810de-8d22-42e7-8e7f-eda3ff5496f9",
   "metadata": {
    "id": "5be810de-8d22-42e7-8e7f-eda3ff5496f9"
   },
   "outputs": [],
   "source": [
    "# Appending new entries to the lists\n",
    "names.append('Tom')\n",
    "ages.append(26)\n",
    "heights.append(172)"
   ]
  },
  {
   "cell_type": "code",
   "execution_count": 129,
   "id": "9b228574-3300-455e-a5fb-97502adb42a1",
   "metadata": {
    "colab": {
     "base_uri": "https://localhost:8080/"
    },
    "executionInfo": {
     "elapsed": 49,
     "status": "ok",
     "timestamp": 1740067236274,
     "user": {
      "displayName": "Kheerthiharan Saravanan",
      "userId": "07635665106801978897"
     },
     "user_tz": 0
    },
    "id": "9b228574-3300-455e-a5fb-97502adb42a1",
    "outputId": "d0a0542d-9bd6-49cd-ecb8-ae1784243ee9",
    "tags": []
   },
   "outputs": [
    {
     "data": {
      "text/plain": [
       "(['John', 'Anna', 'Peter', 'Linda', 'Tom'],\n",
       " [28, 23, 34, 29, 26],\n",
       " [175, 168, 180, 165, 172])"
      ]
     },
     "execution_count": 129,
     "metadata": {},
     "output_type": "execute_result"
    }
   ],
   "source": [
    "names, ages, heights"
   ]
  },
  {
   "cell_type": "markdown",
   "id": "9d90a164-0ed8-49d7-81fd-812723b975e3",
   "metadata": {
    "id": "9d90a164-0ed8-49d7-81fd-812723b975e3"
   },
   "source": [
    "### ``list.extend()``"
   ]
  },
  {
   "cell_type": "markdown",
   "id": "253634a0-63f5-43f8-b163-7399e78aec98",
   "metadata": {
    "id": "253634a0-63f5-43f8-b163-7399e78aec98"
   },
   "source": [
    "If we have multiple new entries that we want to add, we can extend our list using the extend() method. Suppose we have two new people \"Sara\" and \"James\" to add to the lists:"
   ]
  },
  {
   "cell_type": "code",
   "execution_count": 130,
   "id": "9ee39663-738b-4995-8d3f-8ff7aea68385",
   "metadata": {
    "id": "9ee39663-738b-4995-8d3f-8ff7aea68385",
    "tags": []
   },
   "outputs": [],
   "source": [
    "names.extend(['Sara', 'John'])\n",
    "ages.extend([30, 25])\n",
    "heights.extend([162, 175])"
   ]
  },
  {
   "cell_type": "code",
   "execution_count": 131,
   "id": "c39dc8a2-4cf5-4688-ade5-b981d2388b3f",
   "metadata": {
    "id": "c39dc8a2-4cf5-4688-ade5-b981d2388b3f"
   },
   "outputs": [],
   "source": [
    "# names, ages, heights"
   ]
  },
  {
   "cell_type": "markdown",
   "id": "65da4935-d27c-4db2-b2df-67e9169c1a05",
   "metadata": {
    "id": "65da4935-d27c-4db2-b2df-67e9169c1a05"
   },
   "source": [
    "### ``list.insert()``"
   ]
  },
  {
   "cell_type": "markdown",
   "id": "352d5eaf-c57f-4899-9361-a69573c65375",
   "metadata": {
    "id": "352d5eaf-c57f-4899-9361-a69573c65375"
   },
   "source": [
    "We might need to insert a new patient into a specific position in our list. For instance, if we wanted to insert \"Mike\" at the beginning of the list:"
   ]
  },
  {
   "cell_type": "code",
   "execution_count": 132,
   "id": "b14c279e-b5f7-46c9-879b-a664c7089b91",
   "metadata": {
    "id": "b14c279e-b5f7-46c9-879b-a664c7089b91",
    "tags": []
   },
   "outputs": [],
   "source": [
    "# Inserting an entry at the beginning of the list\n",
    "names.insert(0, 'Mike')\n",
    "ages.insert(0, 31)\n",
    "heights.insert(0, 177)"
   ]
  },
  {
   "cell_type": "code",
   "execution_count": 133,
   "id": "4abdc053-9373-4f1e-b987-539add53fd66",
   "metadata": {
    "id": "4abdc053-9373-4f1e-b987-539add53fd66"
   },
   "outputs": [],
   "source": [
    "# names, ages, heights"
   ]
  },
  {
   "cell_type": "markdown",
   "id": "358e9192-52c7-4527-af55-5689656db32d",
   "metadata": {
    "id": "358e9192-52c7-4527-af55-5689656db32d"
   },
   "source": [
    "### ``list.remove()``"
   ]
  },
  {
   "cell_type": "markdown",
   "id": "4416cce5-6e46-453a-b4fe-1844f031c0ff",
   "metadata": {
    "id": "4416cce5-6e46-453a-b4fe-1844f031c0ff"
   },
   "source": [
    "To remove an entry, such as if a patient record was added by mistake, we use the remove() method:"
   ]
  },
  {
   "cell_type": "code",
   "execution_count": 134,
   "id": "69628124-2c33-4d4e-b901-de693e66dc2f",
   "metadata": {
    "colab": {
     "base_uri": "https://localhost:8080/"
    },
    "executionInfo": {
     "elapsed": 214,
     "status": "ok",
     "timestamp": 1740067236588,
     "user": {
      "displayName": "Kheerthiharan Saravanan",
      "userId": "07635665106801978897"
     },
     "user_tz": 0
    },
    "id": "69628124-2c33-4d4e-b901-de693e66dc2f",
    "outputId": "f0059493-5eda-4cce-8401-510a164d42ea",
    "tags": []
   },
   "outputs": [
    {
     "data": {
      "text/plain": [
       "['abc', 'abcde', 'abcdef']"
      ]
     },
     "execution_count": 134,
     "metadata": {},
     "output_type": "execute_result"
    }
   ],
   "source": [
    "# Removing an entry from the lists\n",
    "example_list = ['abc', 'abcd', 'abcde', 'abcdef']\n",
    "\n",
    "example_list.remove('abcd')\n",
    "example_list"
   ]
  },
  {
   "cell_type": "markdown",
   "id": "57ba1ccc-7708-4512-92d8-3bf07f733bb5",
   "metadata": {
    "id": "57ba1ccc-7708-4512-92d8-3bf07f733bb5"
   },
   "source": [
    "### ``list.pop()``"
   ]
  },
  {
   "cell_type": "code",
   "execution_count": 135,
   "id": "9923ada6-ac8e-4acd-a940-b7989c23e5a1",
   "metadata": {
    "colab": {
     "base_uri": "https://localhost:8080/"
    },
    "executionInfo": {
     "elapsed": 4,
     "status": "ok",
     "timestamp": 1740067236593,
     "user": {
      "displayName": "Kheerthiharan Saravanan",
      "userId": "07635665106801978897"
     },
     "user_tz": 0
    },
    "id": "9923ada6-ac8e-4acd-a940-b7989c23e5a1",
    "outputId": "483a023b-8c93-47db-c374-b510294a7776",
    "tags": []
   },
   "outputs": [
    {
     "name": "stdout",
     "output_type": "stream",
     "text": [
      "Last Removed Item : abcdef\n",
      "['abc', 'abcde']\n"
     ]
    }
   ],
   "source": [
    "# Popping the last entry from the list\n",
    "last_removed_item = example_list.pop()\n",
    "print('Last Removed Item :', last_removed_item)\n",
    "print(example_list)"
   ]
  },
  {
   "cell_type": "markdown",
   "id": "1b954e32-c42b-4a8c-9f18-a76b08d7017e",
   "metadata": {
    "id": "1b954e32-c42b-4a8c-9f18-a76b08d7017e"
   },
   "source": [
    "If we need to remove a patient record based on its index and possibly use the data, we can use pop(). Without an index, it removes the last item:"
   ]
  },
  {
   "cell_type": "markdown",
   "id": "e842a277-80cc-4c1d-8d8f-85ffe5ceed9f",
   "metadata": {
    "id": "e842a277-80cc-4c1d-8d8f-85ffe5ceed9f"
   },
   "source": [
    "### ``list.clear()``"
   ]
  },
  {
   "cell_type": "markdown",
   "id": "3c70e6d6-20d6-4a59-a196-b2fdaf132a19",
   "metadata": {
    "id": "3c70e6d6-20d6-4a59-a196-b2fdaf132a19"
   },
   "source": [
    "To clear all entries, perhaps to start a new dataset, we use clear():"
   ]
  },
  {
   "cell_type": "code",
   "execution_count": 136,
   "id": "d50b437a-339f-483f-a296-8284f7d44bb4",
   "metadata": {
    "colab": {
     "base_uri": "https://localhost:8080/"
    },
    "executionInfo": {
     "elapsed": 12,
     "status": "ok",
     "timestamp": 1740067236606,
     "user": {
      "displayName": "Kheerthiharan Saravanan",
      "userId": "07635665106801978897"
     },
     "user_tz": 0
    },
    "id": "d50b437a-339f-483f-a296-8284f7d44bb4",
    "outputId": "4b3fa09e-6ea0-4aae-8286-aa81513ec171"
   },
   "outputs": [
    {
     "data": {
      "text/plain": [
       "[]"
      ]
     },
     "execution_count": 136,
     "metadata": {},
     "output_type": "execute_result"
    }
   ],
   "source": [
    "example_list = [7, 2, 1, 10]\n",
    "example_list.clear()\n",
    "example_list"
   ]
  },
  {
   "cell_type": "markdown",
   "id": "5c28db5f-b841-4a82-bbc5-e28970631e27",
   "metadata": {
    "id": "5c28db5f-b841-4a82-bbc5-e28970631e27"
   },
   "source": [
    "Alternatively, you could overwrite the list you want to clear an empty list:"
   ]
  },
  {
   "cell_type": "code",
   "execution_count": 137,
   "id": "b295297f-233f-4ab0-b4fa-ac859ebfdc07",
   "metadata": {
    "colab": {
     "base_uri": "https://localhost:8080/"
    },
    "executionInfo": {
     "elapsed": 42,
     "status": "ok",
     "timestamp": 1740067236649,
     "user": {
      "displayName": "Kheerthiharan Saravanan",
      "userId": "07635665106801978897"
     },
     "user_tz": 0
    },
    "id": "b295297f-233f-4ab0-b4fa-ac859ebfdc07",
    "outputId": "c1ff6d6f-1885-423b-ef58-8e5e81838a47",
    "tags": []
   },
   "outputs": [
    {
     "data": {
      "text/plain": [
       "[]"
      ]
     },
     "execution_count": 137,
     "metadata": {},
     "output_type": "execute_result"
    }
   ],
   "source": [
    "example_list = [7, 2, 1, 10]\n",
    "example_list = []\n",
    "example_list"
   ]
  },
  {
   "cell_type": "markdown",
   "id": "03a68ed8-cb87-4f70-bbcf-2efa799a2515",
   "metadata": {
    "id": "03a68ed8-cb87-4f70-bbcf-2efa799a2515"
   },
   "source": [
    "### ``list.index()``"
   ]
  },
  {
   "cell_type": "markdown",
   "id": "fb344615-acf1-41d2-ab4a-a180b16fabe7",
   "metadata": {
    "id": "fb344615-acf1-41d2-ab4a-a180b16fabe7"
   },
   "source": [
    "To find the position of a patient in the list, we use index():"
   ]
  },
  {
   "cell_type": "code",
   "execution_count": 138,
   "id": "eefe6e5a-c8c8-4ecc-947f-db846a20acec",
   "metadata": {
    "colab": {
     "base_uri": "https://localhost:8080/"
    },
    "executionInfo": {
     "elapsed": 74,
     "status": "ok",
     "timestamp": 1740067236724,
     "user": {
      "displayName": "Kheerthiharan Saravanan",
      "userId": "07635665106801978897"
     },
     "user_tz": 0
    },
    "id": "eefe6e5a-c8c8-4ecc-947f-db846a20acec",
    "outputId": "605e4f7b-f24b-4e36-a71f-73260cd52a6f",
    "tags": []
   },
   "outputs": [
    {
     "data": {
      "text/plain": [
       "2"
      ]
     },
     "execution_count": 138,
     "metadata": {},
     "output_type": "execute_result"
    }
   ],
   "source": [
    "anna_index = names.index('Anna')\n",
    "anna_index"
   ]
  },
  {
   "cell_type": "markdown",
   "id": "019baa29-92e9-4f17-a9cd-3fd655913cdf",
   "metadata": {
    "id": "019baa29-92e9-4f17-a9cd-3fd655913cdf"
   },
   "source": [
    "### ``list.count()``"
   ]
  },
  {
   "cell_type": "markdown",
   "id": "8d8c5f28-ccfe-430a-ba9e-54328977b286",
   "metadata": {
    "id": "8d8c5f28-ccfe-430a-ba9e-54328977b286"
   },
   "source": [
    "To count how many times a value appears, we use count(). This could be used to count how many patients have the same name:"
   ]
  },
  {
   "cell_type": "code",
   "execution_count": 139,
   "id": "8aab85bb-1bf8-4c48-a6dc-efdf2360fff6",
   "metadata": {
    "colab": {
     "base_uri": "https://localhost:8080/"
    },
    "executionInfo": {
     "elapsed": 121,
     "status": "ok",
     "timestamp": 1740067236846,
     "user": {
      "displayName": "Kheerthiharan Saravanan",
      "userId": "07635665106801978897"
     },
     "user_tz": 0
    },
    "id": "8aab85bb-1bf8-4c48-a6dc-efdf2360fff6",
    "outputId": "035a4088-60f8-45e6-f1cd-ddc88f771b2b",
    "tags": []
   },
   "outputs": [
    {
     "data": {
      "text/plain": [
       "2"
      ]
     },
     "execution_count": 139,
     "metadata": {},
     "output_type": "execute_result"
    }
   ],
   "source": [
    "john_count = names.count('John')\n",
    "john_count"
   ]
  },
  {
   "cell_type": "markdown",
   "id": "e81dd6d2-96d9-4d7b-b3da-07070cf7880e",
   "metadata": {
    "id": "e81dd6d2-96d9-4d7b-b3da-07070cf7880e"
   },
   "source": [
    "### ``list.sort()``"
   ]
  },
  {
   "cell_type": "markdown",
   "id": "fcdb2639-d297-4ff4-aaa7-8635ca1517a4",
   "metadata": {
    "id": "fcdb2639-d297-4ff4-aaa7-8635ca1517a4"
   },
   "source": [
    "This operation sorts the list in place, in other words it modifies the list without you needing to assign it as a variable to update it.\n",
    "\n"
   ]
  },
  {
   "cell_type": "code",
   "execution_count": 140,
   "id": "d5173a1f-a2de-4fd8-97ae-4e9b36ad2798",
   "metadata": {
    "colab": {
     "base_uri": "https://localhost:8080/"
    },
    "executionInfo": {
     "elapsed": 7,
     "status": "ok",
     "timestamp": 1740067236847,
     "user": {
      "displayName": "Kheerthiharan Saravanan",
      "userId": "07635665106801978897"
     },
     "user_tz": 0
    },
    "id": "d5173a1f-a2de-4fd8-97ae-4e9b36ad2798",
    "outputId": "c071e2b9-4d1a-4fdf-9c68-dfff8f076e90",
    "tags": []
   },
   "outputs": [
    {
     "data": {
      "text/plain": [
       "[52, 82, 91, 127, 918]"
      ]
     },
     "execution_count": 140,
     "metadata": {},
     "output_type": "execute_result"
    }
   ],
   "source": [
    "example_list = [918, 82, 127, 52, 91]\n",
    "example_list.sort()\n",
    "example_list"
   ]
  },
  {
   "cell_type": "markdown",
   "id": "dcf33a6b-4d6d-4316-8481-5588f37e1397",
   "metadata": {
    "id": "dcf33a6b-4d6d-4316-8481-5588f37e1397",
    "tags": []
   },
   "source": [
    "### ``sorted()``"
   ]
  },
  {
   "cell_type": "markdown",
   "id": "9d06038b-7540-4dce-85e4-87c201e92e21",
   "metadata": {
    "id": "9d06038b-7540-4dce-85e4-87c201e92e21"
   },
   "source": [
    "In order to create a new list that is sorted but keep the orginal list unchanged, we can use the ``sorted()`` function."
   ]
  },
  {
   "cell_type": "code",
   "execution_count": 141,
   "id": "743c9687-d8bc-4f26-9033-00c17f1e5a94",
   "metadata": {
    "colab": {
     "base_uri": "https://localhost:8080/"
    },
    "executionInfo": {
     "elapsed": 5,
     "status": "ok",
     "timestamp": 1740067236868,
     "user": {
      "displayName": "Kheerthiharan Saravanan",
      "userId": "07635665106801978897"
     },
     "user_tz": 0
    },
    "id": "743c9687-d8bc-4f26-9033-00c17f1e5a94",
    "outputId": "c07d33d6-f30c-452f-f960-e4c186ab165e",
    "tags": []
   },
   "outputs": [
    {
     "name": "stdout",
     "output_type": "stream",
     "text": [
      "Unsorted:  [31, 28, 23, 34, 29, 26, 30, 25]\n",
      "Sorted:  [23, 25, 26, 28, 29, 30, 31, 34]\n"
     ]
    }
   ],
   "source": [
    "sorted_ages = sorted(ages)\n",
    "print('Unsorted: ', ages)\n",
    "print('Sorted: ', sorted_ages)"
   ]
  },
  {
   "cell_type": "markdown",
   "id": "253e90dd-29c1-490f-a188-4cda10f19a03",
   "metadata": {
    "id": "253e90dd-29c1-490f-a188-4cda10f19a03"
   },
   "source": [
    "To sort the data, perhaps by age, we use sort():"
   ]
  },
  {
   "cell_type": "markdown",
   "id": "0dfcdd5b-7ce1-4dc6-a291-bfe636b1eb3b",
   "metadata": {
    "id": "0dfcdd5b-7ce1-4dc6-a291-bfe636b1eb3b"
   },
   "source": [
    "### ``list.reverse()``"
   ]
  },
  {
   "cell_type": "code",
   "execution_count": 142,
   "id": "a23d7f8c-527e-4763-8549-1e1e60042769",
   "metadata": {
    "colab": {
     "base_uri": "https://localhost:8080/"
    },
    "executionInfo": {
     "elapsed": 24,
     "status": "ok",
     "timestamp": 1740067236893,
     "user": {
      "displayName": "Kheerthiharan Saravanan",
      "userId": "07635665106801978897"
     },
     "user_tz": 0
    },
    "id": "a23d7f8c-527e-4763-8549-1e1e60042769",
    "outputId": "8d47ebdd-157b-4683-a293-820aa9f6490b"
   },
   "outputs": [
    {
     "data": {
      "text/plain": [
       "[918, 127, 91, 82, 52]"
      ]
     },
     "execution_count": 142,
     "metadata": {},
     "output_type": "execute_result"
    }
   ],
   "source": [
    "example_list.reverse()\n",
    "example_list"
   ]
  },
  {
   "cell_type": "markdown",
   "id": "0dacb0e5-66db-4333-bdda-550e24d33f78",
   "metadata": {
    "id": "0dacb0e5-66db-4333-bdda-550e24d33f78"
   },
   "source": [
    "### ``list.copy()``"
   ]
  },
  {
   "cell_type": "markdown",
   "id": "c4570042-3e05-4d5e-9aa3-7e39db59d936",
   "metadata": {
    "id": "c4570042-3e05-4d5e-9aa3-7e39db59d936",
    "tags": []
   },
   "source": [
    "If we need a copy of our list to work with that won't affect the original, we use copy():"
   ]
  },
  {
   "cell_type": "code",
   "execution_count": 143,
   "id": "c8d407f0-9ae8-4924-bedb-1c567b723111",
   "metadata": {
    "colab": {
     "base_uri": "https://localhost:8080/"
    },
    "executionInfo": {
     "elapsed": 2,
     "status": "ok",
     "timestamp": 1740067236896,
     "user": {
      "displayName": "Kheerthiharan Saravanan",
      "userId": "07635665106801978897"
     },
     "user_tz": 0
    },
    "id": "c8d407f0-9ae8-4924-bedb-1c567b723111",
    "outputId": "262de810-b8a3-4401-ce8a-87220c221c2a",
    "tags": []
   },
   "outputs": [
    {
     "data": {
      "text/plain": [
       "['Mike', 'John', 'Anna', 'Peter', 'Linda', 'Tom', 'Sara', 'John']"
      ]
     },
     "execution_count": 143,
     "metadata": {},
     "output_type": "execute_result"
    }
   ],
   "source": [
    "names_copy = names.copy()\n",
    "names_copy"
   ]
  },
  {
   "cell_type": "markdown",
   "id": "63a35be6-1e11-4426-a75e-f5c4225e722b",
   "metadata": {
    "id": "63a35be6-1e11-4426-a75e-f5c4225e722b"
   },
   "source": [
    "### ``len(list)``"
   ]
  },
  {
   "cell_type": "markdown",
   "id": "3cd37c94-e0b8-436a-b509-90bbe1461c56",
   "metadata": {
    "id": "3cd37c94-e0b8-436a-b509-90bbe1461c56"
   },
   "source": [
    "Get length of list."
   ]
  },
  {
   "cell_type": "code",
   "execution_count": 144,
   "id": "42824316-1f7c-475d-92b6-270430f618ab",
   "metadata": {
    "colab": {
     "base_uri": "https://localhost:8080/"
    },
    "executionInfo": {
     "elapsed": 18,
     "status": "ok",
     "timestamp": 1740067236915,
     "user": {
      "displayName": "Kheerthiharan Saravanan",
      "userId": "07635665106801978897"
     },
     "user_tz": 0
    },
    "id": "42824316-1f7c-475d-92b6-270430f618ab",
    "outputId": "28a082d4-1108-4000-fe39-aec5c9e3e79d",
    "tags": []
   },
   "outputs": [
    {
     "data": {
      "text/plain": [
       "(8, 8)"
      ]
     },
     "execution_count": 144,
     "metadata": {},
     "output_type": "execute_result"
    }
   ],
   "source": [
    "len(names), len(ages)"
   ]
  },
  {
   "cell_type": "markdown",
   "id": "a4a854e4-2249-42e2-84c9-518ee6ce5b6e",
   "metadata": {
    "id": "a4a854e4-2249-42e2-84c9-518ee6ce5b6e"
   },
   "source": [
    "## List Comprehensions"
   ]
  },
  {
   "cell_type": "markdown",
   "id": "11674cb6-6e37-4160-9c0b-521b88e5c973",
   "metadata": {
    "id": "11674cb6-6e37-4160-9c0b-521b88e5c973"
   },
   "source": [
    "List comprehensions provide a better way to create lists in Python. They're generally more compact and faster than normal functions and loops for creating lists.\n",
    "\n",
    "They consist of brackets containing an expression followed by a ``for`` clause. Like this:\n",
    "\n",
    "``[expression for item in iterable]``\n",
    "\n",
    "Then optionally more ``for`` or ``if`` clauses:\n",
    "\n",
    "``[expression for item in iterable if condition]``\n",
    "\n",
    "\n",
    "The expressions can be anything, meaning you can put in all kinds of objects in lists.\n",
    "\n"
   ]
  },
  {
   "cell_type": "markdown",
   "id": "2789a4b8-05be-48f4-bdc4-e0f38a2d1b1c",
   "metadata": {
    "id": "2789a4b8-05be-48f4-bdc4-e0f38a2d1b1c"
   },
   "source": [
    "Suppose we want to create a list of squares, like [1, 4, 9, 16, 25, ...]. Here's how you could do it using a for loop:"
   ]
  },
  {
   "cell_type": "code",
   "execution_count": 145,
   "id": "953d5fed-e1ae-46cd-87e1-1be35142f1e3",
   "metadata": {
    "colab": {
     "base_uri": "https://localhost:8080/"
    },
    "executionInfo": {
     "elapsed": 3,
     "status": "ok",
     "timestamp": 1740067236919,
     "user": {
      "displayName": "Kheerthiharan Saravanan",
      "userId": "07635665106801978897"
     },
     "user_tz": 0
    },
    "id": "953d5fed-e1ae-46cd-87e1-1be35142f1e3",
    "outputId": "eb0dcf09-951b-4122-bc2f-4b0274fe84ef",
    "tags": []
   },
   "outputs": [
    {
     "data": {
      "text/plain": [
       "[0, 1, 4, 9, 16, 25, 36, 49, 64, 81]"
      ]
     },
     "execution_count": 145,
     "metadata": {},
     "output_type": "execute_result"
    }
   ],
   "source": [
    "squares = []\n",
    "for x in range(10):\n",
    "    squares.append(x**2)\n",
    "squares"
   ]
  },
  {
   "cell_type": "markdown",
   "id": "d9f500ad-0e15-4b0d-9ec1-9277f1bef3b0",
   "metadata": {
    "id": "d9f500ad-0e15-4b0d-9ec1-9277f1bef3b0"
   },
   "source": [
    "This can be simplified using a list comprehension:"
   ]
  },
  {
   "cell_type": "code",
   "execution_count": 146,
   "id": "fe7787b0-5ad4-4ad6-b9be-95831d5b2c7f",
   "metadata": {
    "colab": {
     "base_uri": "https://localhost:8080/"
    },
    "executionInfo": {
     "elapsed": 16,
     "status": "ok",
     "timestamp": 1740067236936,
     "user": {
      "displayName": "Kheerthiharan Saravanan",
      "userId": "07635665106801978897"
     },
     "user_tz": 0
    },
    "id": "fe7787b0-5ad4-4ad6-b9be-95831d5b2c7f",
    "outputId": "9fc124f3-4e75-437f-8222-48dd12636104",
    "tags": []
   },
   "outputs": [
    {
     "data": {
      "text/plain": [
       "[0, 1, 4, 9, 16, 25, 36, 49, 64, 81]"
      ]
     },
     "execution_count": 146,
     "metadata": {},
     "output_type": "execute_result"
    }
   ],
   "source": [
    "squares = [x**2 for x in range(10)]\n",
    "squares"
   ]
  },
  {
   "cell_type": "markdown",
   "id": "6567f0ed-94f4-4e1a-ac59-7dc63505bfcc",
   "metadata": {
    "id": "6567f0ed-94f4-4e1a-ac59-7dc63505bfcc"
   },
   "source": [
    "Both snippets of code produce identical lists."
   ]
  },
  {
   "cell_type": "markdown",
   "id": "177bc69c-78d6-4cb3-9d4a-0adbf5946a9f",
   "metadata": {
    "id": "177bc69c-78d6-4cb3-9d4a-0adbf5946a9f",
    "tags": []
   },
   "source": [
    "List comprehensions can also contain conditions:"
   ]
  },
  {
   "cell_type": "code",
   "execution_count": 147,
   "id": "f3fbf23b-7830-4501-8743-cb535ba6f157",
   "metadata": {
    "colab": {
     "base_uri": "https://localhost:8080/"
    },
    "executionInfo": {
     "elapsed": 35,
     "status": "ok",
     "timestamp": 1740067236971,
     "user": {
      "displayName": "Kheerthiharan Saravanan",
      "userId": "07635665106801978897"
     },
     "user_tz": 0
    },
    "id": "f3fbf23b-7830-4501-8743-cb535ba6f157",
    "outputId": "de3c9af8-9c2e-4f66-d81c-53701a7b88ae",
    "tags": []
   },
   "outputs": [
    {
     "data": {
      "text/plain": [
       "[0, 4, 16, 36, 64]"
      ]
     },
     "execution_count": 147,
     "metadata": {},
     "output_type": "execute_result"
    }
   ],
   "source": [
    "even_squares = [x**2 for x in range(10) if x % 2 == 0]\n",
    "even_squares"
   ]
  },
  {
   "cell_type": "markdown",
   "id": "0aedbb25-0a1b-48aa-ac69-aa4a59f52506",
   "metadata": {
    "id": "0aedbb25-0a1b-48aa-ac69-aa4a59f52506"
   },
   "source": [
    "**Random Integer Between a Range**\n",
    "\n",
    "To create a list of random integers between a range, you can use ``random.randint(start, end)``:"
   ]
  },
  {
   "cell_type": "code",
   "execution_count": 148,
   "id": "e76d595c-82b7-4a2a-bf2a-f89c1c9f868b",
   "metadata": {
    "colab": {
     "base_uri": "https://localhost:8080/"
    },
    "executionInfo": {
     "elapsed": 3,
     "status": "ok",
     "timestamp": 1740067236974,
     "user": {
      "displayName": "Kheerthiharan Saravanan",
      "userId": "07635665106801978897"
     },
     "user_tz": 0
    },
    "id": "e76d595c-82b7-4a2a-bf2a-f89c1c9f868b",
    "outputId": "35db5955-06e3-4bb4-a71c-880e9a60b452",
    "tags": []
   },
   "outputs": [
    {
     "name": "stdout",
     "output_type": "stream",
     "text": [
      "[83, 23, 78, 65, 96, 92, 71, 48, 62, 6]\n"
     ]
    }
   ],
   "source": [
    "# Generate a list of 10 random integers between 1 and 100\n",
    "import random\n",
    "\n",
    "random_integers = [random.randint(1, 100) for _ in range(10)]\n",
    "\n",
    "print(random_integers)"
   ]
  },
  {
   "cell_type": "markdown",
   "id": "113a1b1c-f1ba-4522-ab2a-6c582b3b552f",
   "metadata": {
    "id": "113a1b1c-f1ba-4522-ab2a-6c582b3b552f"
   },
   "source": [
    "In this code, random.randint(1, 100) is called 10 times, generating a list of 10 numbers where each number is between 1 and 100, inclusive."
   ]
  },
  {
   "cell_type": "markdown",
   "id": "74c4e494-a51c-4ffe-94e0-47faaf7134fe",
   "metadata": {
    "id": "74c4e494-a51c-4ffe-94e0-47faaf7134fe"
   },
   "source": [
    "**Random Gaussian Values**\n",
    "\n",
    "For Gaussian (or normal) distribution, you can use ``random.gauss(mu, sigma)`` where ``mu`` is the mean and ``sigma`` is the standard deviation:"
   ]
  },
  {
   "cell_type": "code",
   "execution_count": 149,
   "id": "165ac0e0-a7e1-4456-85a7-a6ca19498210",
   "metadata": {
    "colab": {
     "base_uri": "https://localhost:8080/"
    },
    "executionInfo": {
     "elapsed": 16,
     "status": "ok",
     "timestamp": 1740067236990,
     "user": {
      "displayName": "Kheerthiharan Saravanan",
      "userId": "07635665106801978897"
     },
     "user_tz": 0
    },
    "id": "165ac0e0-a7e1-4456-85a7-a6ca19498210",
    "outputId": "23660c95-2ce2-4b3e-8df2-40a809f58acf",
    "tags": []
   },
   "outputs": [
    {
     "name": "stdout",
     "output_type": "stream",
     "text": [
      "[-0.351209814934578, 1.3978524858545431, -0.7934171417364645, -1.9820598369708446, -1.2108198359604256, 1.4540870854210752, 1.0257582902077471, 0.875203485670271, -2.0897711970125603, 0.4980225391887738]\n"
     ]
    }
   ],
   "source": [
    "random_gaussians = [random.gauss(0, 1) for _ in range(10)]\n",
    "\n",
    "print(random_gaussians)"
   ]
  },
  {
   "cell_type": "markdown",
   "id": "7c06f1a2-d529-4897-950e-7d7eda4b1310",
   "metadata": {
    "id": "7c06f1a2-d529-4897-950e-7d7eda4b1310"
   },
   "source": [
    "In this example, random.gauss(0, 1) generates numbers according to a Gaussian distribution with a mean of 0 and a standard deviation of 1. Each number in the list is the result of a separate call to random.gauss(0, 1).\n",
    "\n",
    "**Note:** The underscore _ is used as a variable name when the variable itself isn't going to be used. It's a convention in Python to indicate that a variable is a throwaway.\n",
    "\n",
    "Both of these comprehensions will give you a list where each element is a result of the random function called on each iteration of the loop within the list comprehension. Keep in mind that every time you run these snippets, you'll get a different set of numbers due to the nature of randomness."
   ]
  },
  {
   "cell_type": "markdown",
   "id": "fa09a177-63c3-4375-ac2f-cbc16147b80b",
   "metadata": {
    "id": "fa09a177-63c3-4375-ac2f-cbc16147b80b"
   },
   "source": [
    "# Dictionaries"
   ]
  },
  {
   "cell_type": "markdown",
   "id": "78fc9d86-bcc8-4942-b270-a9ceb9bde403",
   "metadata": {
    "id": "78fc9d86-bcc8-4942-b270-a9ceb9bde403"
   },
   "source": [
    "Dictionaries in Python are versatile data structures that allow us to store data in a key-value pair format. They are mutable, which means they can be changed after they are created.\n",
    "\n",
    "A dictionary is defined using curly braces ``{}``, with each key-value pair separated by a colon ``:`` and each pair separated by a comma ``,``.\n",
    "\n",
    "\n",
    "Parts of a Dictionary:\n",
    "- **Key**: This is the unique identifier for a value in the dictionary. Keys are immutable, which means they cannot be changed. You can use strings, numbers, or tuples as dictionary keys.\n",
    "- **Value**: This is the data that is associated with a key. Values can be of any data type and can be duplicated across different keys.\n",
    "- **Item**: A key-value pair in a dictionary is referred to as an item."
   ]
  },
  {
   "cell_type": "code",
   "execution_count": 150,
   "id": "cad0932c-20a0-4179-b3ac-40d57b4f64d4",
   "metadata": {
    "id": "cad0932c-20a0-4179-b3ac-40d57b4f64d4",
    "tags": []
   },
   "outputs": [],
   "source": [
    "one_person_data = {\n",
    "    'Name': 'John Doe',\n",
    "    'Age': 30,\n",
    "    'Height': 175,\n",
    "    'Weight': 70\n",
    "}"
   ]
  },
  {
   "cell_type": "markdown",
   "id": "516e4b9b-6b21-42a5-ac7e-cd3b3c2326b6",
   "metadata": {
    "id": "516e4b9b-6b21-42a5-ac7e-cd3b3c2326b6"
   },
   "source": [
    "### Accessing Elements in a Dictionary"
   ]
  },
  {
   "cell_type": "markdown",
   "id": "e31b25c9-0b38-4f8a-9f5e-14489a2878ea",
   "metadata": {
    "id": "e31b25c9-0b38-4f8a-9f5e-14489a2878ea"
   },
   "source": [
    "Accessing Values by Key: You can access the value associated with a key using square brackets ``[]``:"
   ]
  },
  {
   "cell_type": "code",
   "execution_count": 151,
   "id": "db941309-5c60-4cc1-8ef6-7f143ca2dac0",
   "metadata": {
    "colab": {
     "base_uri": "https://localhost:8080/"
    },
    "executionInfo": {
     "elapsed": 3,
     "status": "ok",
     "timestamp": 1740067237141,
     "user": {
      "displayName": "Kheerthiharan Saravanan",
      "userId": "07635665106801978897"
     },
     "user_tz": 0
    },
    "id": "db941309-5c60-4cc1-8ef6-7f143ca2dac0",
    "outputId": "f0fb2ba7-5128-4eb2-e7fb-de7315238fdf",
    "tags": []
   },
   "outputs": [
    {
     "name": "stdout",
     "output_type": "stream",
     "text": [
      "John Doe\n"
     ]
    }
   ],
   "source": [
    "# Accessing the value associated with the key 'Name'\n",
    "patient_name = one_person_data['Name']\n",
    "print(patient_name)\n"
   ]
  },
  {
   "cell_type": "markdown",
   "id": "b7a254f4-9429-46f9-96ba-ce8487267045",
   "metadata": {
    "id": "b7a254f4-9429-46f9-96ba-ce8487267045"
   },
   "source": [
    "#### Accessing All Keys:\n",
    "You can access all the keys using the ``.keys()`` method:"
   ]
  },
  {
   "cell_type": "code",
   "execution_count": 152,
   "id": "24708426-a499-4e64-a5ea-6d344aa2ee52",
   "metadata": {
    "colab": {
     "base_uri": "https://localhost:8080/"
    },
    "executionInfo": {
     "elapsed": 2,
     "status": "ok",
     "timestamp": 1740067237144,
     "user": {
      "displayName": "Kheerthiharan Saravanan",
      "userId": "07635665106801978897"
     },
     "user_tz": 0
    },
    "id": "24708426-a499-4e64-a5ea-6d344aa2ee52",
    "outputId": "559239bf-1504-4e4c-9aa5-b1b4aee8826d",
    "tags": []
   },
   "outputs": [
    {
     "name": "stdout",
     "output_type": "stream",
     "text": [
      "['Name', 'Age', 'Height', 'Weight']\n"
     ]
    }
   ],
   "source": [
    "# Getting all keys from the dictionary\n",
    "keys = one_person_data.keys()\n",
    "print(list(keys))"
   ]
  },
  {
   "cell_type": "markdown",
   "id": "67e1340c-0176-4f1e-bc6c-d4c63054dc74",
   "metadata": {
    "id": "67e1340c-0176-4f1e-bc6c-d4c63054dc74"
   },
   "source": [
    "#### Accessing All Values:\n",
    "Similarly, you can access all the values using the ``.values()`` method:"
   ]
  },
  {
   "cell_type": "code",
   "execution_count": 153,
   "id": "877cbc24-bb5d-4ce8-943f-dc5b380ab3da",
   "metadata": {
    "colab": {
     "base_uri": "https://localhost:8080/"
    },
    "executionInfo": {
     "elapsed": 2,
     "status": "ok",
     "timestamp": 1740067237146,
     "user": {
      "displayName": "Kheerthiharan Saravanan",
      "userId": "07635665106801978897"
     },
     "user_tz": 0
    },
    "id": "877cbc24-bb5d-4ce8-943f-dc5b380ab3da",
    "outputId": "eea0d5be-5052-40e2-a528-77ac286d05c9",
    "tags": []
   },
   "outputs": [
    {
     "name": "stdout",
     "output_type": "stream",
     "text": [
      "['John Doe', 30, 175, 70]\n"
     ]
    }
   ],
   "source": [
    "# Getting all values from the dictionary\n",
    "values = one_person_data.values()\n",
    "print(list(values))\n"
   ]
  },
  {
   "cell_type": "markdown",
   "id": "81991063-f18d-49d9-a982-b247fe9662d0",
   "metadata": {
    "id": "81991063-f18d-49d9-a982-b247fe9662d0"
   },
   "source": [
    "#### Accessing All Items:\n",
    "To get all the key-value pairs as tuples, you use the ``.items()`` method:"
   ]
  },
  {
   "cell_type": "code",
   "execution_count": 154,
   "id": "e14cab47-fd15-40e5-add2-dcaa8f7e1d7f",
   "metadata": {
    "colab": {
     "base_uri": "https://localhost:8080/"
    },
    "executionInfo": {
     "elapsed": 2,
     "status": "ok",
     "timestamp": 1740067237148,
     "user": {
      "displayName": "Kheerthiharan Saravanan",
      "userId": "07635665106801978897"
     },
     "user_tz": 0
    },
    "id": "e14cab47-fd15-40e5-add2-dcaa8f7e1d7f",
    "outputId": "4d901484-2e9d-4a45-cea7-075f7604d510",
    "tags": []
   },
   "outputs": [
    {
     "name": "stdout",
     "output_type": "stream",
     "text": [
      "('Name', 'John Doe')\n",
      "('Age', 30)\n",
      "('Height', 175)\n",
      "('Weight', 70)\n"
     ]
    }
   ],
   "source": [
    "# Getting all items from the dictionary as (key, value) tuples\n",
    "items = one_person_data.items()\n",
    "for item in items:\n",
    "    print(item)\n"
   ]
  },
  {
   "cell_type": "code",
   "execution_count": 155,
   "id": "OJu1x1CAsJab",
   "metadata": {
    "colab": {
     "base_uri": "https://localhost:8080/"
    },
    "executionInfo": {
     "elapsed": 9,
     "status": "ok",
     "timestamp": 1740067237175,
     "user": {
      "displayName": "Kheerthiharan Saravanan",
      "userId": "07635665106801978897"
     },
     "user_tz": 0
    },
    "id": "OJu1x1CAsJab",
    "outputId": "010b5146-188f-43f8-9196-e6ed630774b9"
   },
   "outputs": [
    {
     "name": "stdout",
     "output_type": "stream",
     "text": [
      "dict_items([('Name', 'John Doe'), ('Age', 30), ('Height', 175), ('Weight', 70)])\n"
     ]
    }
   ],
   "source": [
    "print(items)"
   ]
  },
  {
   "cell_type": "markdown",
   "id": "443c6058-98ff-4f5d-82b1-cec5d3687e6d",
   "metadata": {
    "id": "443c6058-98ff-4f5d-82b1-cec5d3687e6d"
   },
   "source": [
    "#### Checking if a Key Exists:\n",
    "Use the ``in`` keyword to check if a key exists in the dictionary:"
   ]
  },
  {
   "cell_type": "code",
   "execution_count": 156,
   "id": "b41e39be-ca1d-40a9-b3bc-acab5789980c",
   "metadata": {
    "colab": {
     "base_uri": "https://localhost:8080/"
    },
    "executionInfo": {
     "elapsed": 2,
     "status": "ok",
     "timestamp": 1740067237178,
     "user": {
      "displayName": "Kheerthiharan Saravanan",
      "userId": "07635665106801978897"
     },
     "user_tz": 0
    },
    "id": "b41e39be-ca1d-40a9-b3bc-acab5789980c",
    "outputId": "b9d748fe-a371-40da-fe3f-57222ac60bb8",
    "tags": []
   },
   "outputs": [
    {
     "data": {
      "text/plain": [
       "True"
      ]
     },
     "execution_count": 156,
     "metadata": {},
     "output_type": "execute_result"
    }
   ],
   "source": [
    "# Check if 'Age' is a key in the dictionary\n",
    "'Age' in one_person_data"
   ]
  },
  {
   "cell_type": "markdown",
   "id": "a9d2ee82-fcf4-4cb1-8242-ee72376473af",
   "metadata": {
    "id": "a9d2ee82-fcf4-4cb1-8242-ee72376473af"
   },
   "source": [
    "#### Access with ``get()``:\n",
    "The ``get()`` method provides a safe way to access values by key. If the key does not exist, it returns None (or a default value if provided), instead of throwing an error:"
   ]
  },
  {
   "cell_type": "code",
   "execution_count": 157,
   "id": "c794d522-0f9a-47b3-81fa-35eb65af677b",
   "metadata": {
    "colab": {
     "base_uri": "https://localhost:8080/"
    },
    "executionInfo": {
     "elapsed": 2,
     "status": "ok",
     "timestamp": 1740067237180,
     "user": {
      "displayName": "Kheerthiharan Saravanan",
      "userId": "07635665106801978897"
     },
     "user_tz": 0
    },
    "id": "c794d522-0f9a-47b3-81fa-35eb65af677b",
    "outputId": "8c2a62f7-7c4c-4828-da4e-a5f41f255d3c",
    "tags": []
   },
   "outputs": [
    {
     "name": "stdout",
     "output_type": "stream",
     "text": [
      "70\n",
      "None\n"
     ]
    }
   ],
   "source": [
    "# Safely accessing the value for 'Weight'\n",
    "weight = one_person_data.get('Weight')\n",
    "print(weight)\n",
    "\n",
    "# Safely accessing a value for a non-existent key, which will return None\n",
    "blood_type = one_person_data.get('Blood_Type')\n",
    "print(blood_type)"
   ]
  },
  {
   "cell_type": "markdown",
   "id": "0ff0e1c8-7e9f-47c4-9cc6-4fd9c614d743",
   "metadata": {
    "id": "0ff0e1c8-7e9f-47c4-9cc6-4fd9c614d743"
   },
   "source": [
    "# Generate Synthetic Dataset:"
   ]
  },
  {
   "cell_type": "markdown",
   "id": "a041fc99-120c-4a17-a254-542b613ca20e",
   "metadata": {
    "id": "a041fc99-120c-4a17-a254-542b613ca20e",
    "tags": []
   },
   "source": [
    "### Names: Example"
   ]
  },
  {
   "cell_type": "markdown",
   "id": "89af56b2-842c-462e-b798-145b6db90980",
   "metadata": {
    "id": "89af56b2-842c-462e-b798-145b6db90980"
   },
   "source": [
    "Create a function to generate patient names."
   ]
  },
  {
   "cell_type": "markdown",
   "id": "3ae6e236-69bb-4320-bb94-48fbb969d1d5",
   "metadata": {
    "id": "3ae6e236-69bb-4320-bb94-48fbb969d1d5"
   },
   "source": [
    "The faker package is a Python library that allows for the creation of fake data for various types of information, such as names, addresses, and phone numbers, useful for testing and filling databases with placeholder information."
   ]
  },
  {
   "cell_type": "code",
   "execution_count": 158,
   "id": "4056ff1f-8dd4-4787-a5b3-0df394274ec8",
   "metadata": {
    "colab": {
     "base_uri": "https://localhost:8080/"
    },
    "executionInfo": {
     "elapsed": 5347,
     "status": "ok",
     "timestamp": 1740067242528,
     "user": {
      "displayName": "Kheerthiharan Saravanan",
      "userId": "07635665106801978897"
     },
     "user_tz": 0
    },
    "id": "4056ff1f-8dd4-4787-a5b3-0df394274ec8",
    "outputId": "ed06886d-1278-4624-c889-d18a207bf24c",
    "tags": []
   },
   "outputs": [],
   "source": [
    "!pip -q install faker"
   ]
  },
  {
   "cell_type": "code",
   "execution_count": 159,
   "id": "804d2229-1ce8-4be0-8660-538ca36f1e86",
   "metadata": {
    "colab": {
     "base_uri": "https://localhost:8080/"
    },
    "executionInfo": {
     "elapsed": 166,
     "status": "ok",
     "timestamp": 1740067242694,
     "user": {
      "displayName": "Kheerthiharan Saravanan",
      "userId": "07635665106801978897"
     },
     "user_tz": 0
    },
    "id": "804d2229-1ce8-4be0-8660-538ca36f1e86",
    "outputId": "6f184163-20f1-4859-cbfc-db892abfdd5a",
    "tags": []
   },
   "outputs": [
    {
     "name": "stdout",
     "output_type": "stream",
     "text": [
      "['Michael Jones', 'Natalie Meyers', 'Mrs. Kimberly Johnson MD', 'Michael Dixon', 'Bradley Walker', 'Amanda Harris', 'Paula Little', 'Lee Long']\n"
     ]
    }
   ],
   "source": [
    "from faker import Faker\n",
    "\n",
    "def generate_patient_names(number_of_patients):\n",
    "    \"\"\"\n",
    "    Generate a list of random patient names.\n",
    "\n",
    "    Parameters:\n",
    "    number_of_patients (int): The number of random names to generate.\n",
    "\n",
    "    Returns:\n",
    "    list: A list containing the generated names.\n",
    "    \"\"\"\n",
    "    fake = Faker()\n",
    "    return [fake.name() for _ in range(number_of_patients)]\n",
    "\n",
    "# Use the function to generate 2000 patient names\n",
    "num_patients = 8\n",
    "patient_names = generate_patient_names(num_patients)\n",
    "print(patient_names)"
   ]
  },
  {
   "cell_type": "markdown",
   "id": "ee8a9d5f-0b02-444c-8c5b-5b3caef53a87",
   "metadata": {
    "id": "ee8a9d5f-0b02-444c-8c5b-5b3caef53a87"
   },
   "source": [
    "### Date of Birth: Exercise 1\n",
    "\n",
    "Use the documentation at the following link to finish this programme to randomly generate Date of Births with a minimum age of 21 and a maximum age of 95:\n",
    "\n",
    "https://faker.readthedocs.io/en/master/providers/faker.providers.date_time.html#faker.providers.date_time.Provider.date_of_birth"
   ]
  },
  {
   "cell_type": "code",
   "execution_count": 160,
   "id": "ca73ed47-5705-4c87-b880-f86b38a5d859",
   "metadata": {
    "colab": {
     "base_uri": "https://localhost:8080/",
     "height": 110
    },
    "executionInfo": {
     "elapsed": 19,
     "status": "error",
     "timestamp": 1740067242714,
     "user": {
      "displayName": "Kheerthiharan Saravanan",
      "userId": "07635665106801978897"
     },
     "user_tz": 0
    },
    "id": "ca73ed47-5705-4c87-b880-f86b38a5d859",
    "outputId": "76ab7b1f-dbda-45ce-9dc3-9497723e48c1"
   },
   "outputs": [
    {
     "name": "stdout",
     "output_type": "stream",
     "text": [
      "[datetime.date(1946, 6, 5), datetime.date(1966, 4, 23), datetime.date(1914, 11, 17), datetime.date(1915, 5, 31), datetime.date(1982, 5, 19), datetime.date(1999, 12, 11), datetime.date(1941, 5, 13), datetime.date(1986, 11, 7)]\n"
     ]
    }
   ],
   "source": [
    "def generate_random_dob(number_of_patients, min_age, max_age, date_format='%d-%m-%Y'):\n",
    "    \"\"\"\n",
    "    Generate a random date of birth as a string for a person within a specified age range.\n",
    "\n",
    "    Parameters:\n",
    "    min_age (int): The minimum age of the person.\n",
    "    max_age (int): The maximum age of the person.\n",
    "    date_format (str): The format in which the date of birth should be returned.\n",
    "\n",
    "    Returns:\n",
    "    str: The generated date of birth in the specified format.\n",
    "    \"\"\"\n",
    "    fake = Faker()\n",
    "    dob_list = [fake.date_of_birth() for _ in range(number_of_patients)] # Your code here\n",
    "    return dob_list\n",
    "\n",
    "# Example usage:\n",
    "num_patients = 8\n",
    "patient_dobs = generate_random_dob(num_patients, 21, 95)\n",
    "print(patient_dobs)  # Outputs a date of birth as a string"
   ]
  },
  {
   "cell_type": "markdown",
   "id": "5441c13c-b1f1-4f75-b4fa-548af0de4331",
   "metadata": {
    "id": "5441c13c-b1f1-4f75-b4fa-548af0de4331",
    "tags": []
   },
   "source": [
    "### Heights (cm): Example"
   ]
  },
  {
   "cell_type": "markdown",
   "id": "998d5f89-277e-4baf-b127-e4806eb0727f",
   "metadata": {
    "id": "998d5f89-277e-4baf-b127-e4806eb0727f"
   },
   "source": [
    "To simulate heights, we can use a random Gaussian (Normal) distribution to generate heights with a certain mean and standard deviation.\n",
    "\n",
    "However, to further ensure that the generated heights stay within realistic human ranges, we can use a range limitation by clipping the values to a minimum and maximum height."
   ]
  },
  {
   "cell_type": "code",
   "execution_count": 161,
   "id": "89e64b0e-1ee6-44ec-8305-5030c6cc524e",
   "metadata": {
    "colab": {
     "base_uri": "https://localhost:8080/"
    },
    "executionInfo": {
     "elapsed": 10,
     "status": "ok",
     "timestamp": 1740067247890,
     "user": {
      "displayName": "Kheerthiharan Saravanan",
      "userId": "07635665106801978897"
     },
     "user_tz": 0
    },
    "id": "89e64b0e-1ee6-44ec-8305-5030c6cc524e",
    "outputId": "c907a1d7-eb98-4897-8e87-19f2340fb81b",
    "tags": []
   },
   "outputs": [
    {
     "name": "stdout",
     "output_type": "stream",
     "text": [
      "[173, 169, 152, 188, 168, 164, 165, 150]\n"
     ]
    }
   ],
   "source": [
    "import random\n",
    "\n",
    "def generate_random_heights(num_patients, mean_height=170, height_std_dev=10, min_height=150, max_height=200):\n",
    "    \"\"\"\n",
    "    Generate a list of random heights for a specified number of patients.\n",
    "\n",
    "    :param num_patients: Number of random heights to generate\n",
    "    :param mean_height: Mean height in centimeters, default is 170 cm\n",
    "    :param height_std_dev: Standard deviation of the heights, default is 10 cm\n",
    "    :param min_height: Minimum possible height, default is 150 cm\n",
    "    :param max_height: Maximum possible height, default is 200 cm\n",
    "    :return: List of heights\n",
    "    \"\"\"\n",
    "    heights = [max(min_height, min(max_height, int(random.gauss(mean_height, height_std_dev))))\n",
    "               for _ in range(num_patients)]\n",
    "    return heights\n",
    "\n",
    "# Usage example\n",
    "num_patients = 8  # Specify the number of patients\n",
    "patient_heights = generate_random_heights(num_patients)\n",
    "print(patient_heights)"
   ]
  },
  {
   "cell_type": "markdown",
   "id": "ba1f5a96-fcdc-4c6c-8d9f-46b2f985ca15",
   "metadata": {
    "id": "ba1f5a96-fcdc-4c6c-8d9f-46b2f985ca15"
   },
   "source": [
    "### Weights: Exercise 2"
   ]
  },
  {
   "cell_type": "markdown",
   "id": "64df37b2-512c-4be8-bf30-55aa12282961",
   "metadata": {
    "id": "64df37b2-512c-4be8-bf30-55aa12282961"
   },
   "source": [
    "Create a function to create a random list of a specifiable length (using the ``random`` library)\n",
    "\n",
    "The mean worldwide adult weight is 62kg.\n",
    "\n",
    "Ensure believable values are generated. You can use assume weights follow a normal distribution.\n"
   ]
  },
  {
   "cell_type": "code",
   "execution_count": 162,
   "id": "27e213a8-e6be-4481-a47e-34a735b0226e",
   "metadata": {
    "id": "27e213a8-e6be-4481-a47e-34a735b0226e",
    "tags": []
   },
   "outputs": [
    {
     "name": "stdout",
     "output_type": "stream",
     "text": [
      "Random Weights: [75, 67, 53, 67, 69, 49, 69, 78]\n"
     ]
    }
   ],
   "source": [
    "# Your Code - START\n",
    "def generate_random_weights(length, mean_weight=62, weight_std_dev=15):\n",
    "    \"\"\"\n",
    "    Generate a list of random weights for a specified number of individuals.\n",
    "\n",
    "    Parameters:\n",
    "    length (int): The number of weights to generate.\n",
    "    mean_weight (int): The mean weight in kilograms. Default is 62 kg.\n",
    "    weight_std_dev (int): The standard deviation for the weight. Default is 15 kg.\n",
    "\n",
    "    Returns:\n",
    "    list: A list of weights in kilograms.\n",
    "    \"\"\"\n",
    "    # TODO: Replace the line below with your own code to generate the weights list\n",
    "    # Hint: Use random.gauss(mean_weight, weight_std_dev) and a list comprehension\n",
    "    weights = [max(0, min(100, int(random.gauss(mean_weight, weight_std_dev))))\n",
    "                for _ in range(length)]  # Replace this with your implementation\n",
    "\n",
    "    # TODO: Ensure that the weights are within a believable range and no negative values are generated\n",
    "\n",
    "    return weights\n",
    "\n",
    "# Example usage:\n",
    "num_patients = 8  # Specify the desired length of the list\n",
    "patient_weights = generate_random_weights(num_patients)\n",
    "\n",
    "print(\"Random Weights:\", patient_weights)"
   ]
  },
  {
   "cell_type": "markdown",
   "id": "ae36c0b1-fe8f-4999-b72e-d0fa1c074426",
   "metadata": {
    "id": "ae36c0b1-fe8f-4999-b72e-d0fa1c074426",
    "tags": []
   },
   "source": [
    "Extension:\n",
    "\n",
    "- In real life, Weight doesn't follow a normal distribution. It is right skewed.\n",
    "\n",
    "- Find out more about Right and Left Skewed distributions here: https://medium.com/geekculture/what-are-right-skewed-and-left-skewed-distributions-a29b3def7598\n",
    "\n",
    "\n",
    "- To make the weights more realistic, try and make them conform to a right skew distribution, like in the image below:\n",
    "![image.png](data:image/png;base64,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)![Unknown-6.png](attachment:c3b8f183-498d-4417-8f40-387a5b13b493.png)"
   ]
  },
  {
   "cell_type": "markdown",
   "id": "2df805cc-aaab-40e6-b783-027fbddd28ca",
   "metadata": {
    "id": "2df805cc-aaab-40e6-b783-027fbddd28ca"
   },
   "source": [
    "### Blood Pressure Readings: Exercise 3"
   ]
  },
  {
   "cell_type": "markdown",
   "id": "f55929aa-cdf3-4764-9f43-044368e43e60",
   "metadata": {
    "id": "f55929aa-cdf3-4764-9f43-044368e43e60",
    "tags": []
   },
   "source": [
    "Generate systolic and diastolic blood pressure readings for the same number of patients. The systolic should be in the range of 90 to 160 mmHg, and the diastolic from 60 to 100 mmHg, which are typical ranges for adults. Use random values within these ranges to generate believable measurements.\n",
    "\n",
    "Your Function should generate 2 lists, one for systolic BP and another for diastolic BP."
   ]
  },
  {
   "cell_type": "code",
   "execution_count": 163,
   "id": "f737f708-d6cf-46ef-919b-4aeff5890ac6",
   "metadata": {
    "id": "f737f708-d6cf-46ef-919b-4aeff5890ac6"
   },
   "outputs": [
    {
     "name": "stdout",
     "output_type": "stream",
     "text": [
      "Systolic Readings: [120, 149, 116, 150, 108, 155, 143, 151]\n",
      "Diastolic Readings: [89, 67, 74, 71, 80, 62, 86, 75]\n"
     ]
    }
   ],
   "source": [
    "# YOUR CODE -  START\n",
    "def generate_random_blood_pressure(length):\n",
    "    systolic_readings = [random.randint(90, 160)\n",
    "                    for _ in range(length)] \n",
    "\n",
    "    diastolic_readings = [random.randint(60, 100)\n",
    "                    for _ in range(length)]\n",
    "    \n",
    "    return systolic_readings, diastolic_readings\n",
    "\n",
    "systolic_readings, diastolic_readings = generate_random_blood_pressure(8)\n",
    "\n",
    "# YOUR CODE -  END\n",
    "\n",
    "print(\"Systolic Readings:\", systolic_readings)\n",
    "print(\"Diastolic Readings:\", diastolic_readings)"
   ]
  },
  {
   "cell_type": "markdown",
   "id": "fb03dcb2-82bd-464b-a7fa-cafb358fdd46",
   "metadata": {
    "id": "fb03dcb2-82bd-464b-a7fa-cafb358fdd46"
   },
   "source": [
    "Lets generate lists with a length of 5000 for each of the functions we have made."
   ]
  },
  {
   "cell_type": "code",
   "execution_count": 164,
   "id": "9b068260-c81b-4b24-bff4-6a105bbde6ec",
   "metadata": {
    "id": "9b068260-c81b-4b24-bff4-6a105bbde6ec",
    "tags": []
   },
   "outputs": [],
   "source": [
    "num_patients = 5000\n",
    "patient_names = generate_patient_names(num_patients)\n",
    "patient_dob = generate_random_dob(num_patients, 21, 95)\n",
    "patient_heights = generate_random_heights(num_patients)\n",
    "patient_weights = generate_random_weights(num_patients)\n",
    "patient_systolic_readings, patient_diastolic_readings = generate_random_blood_pressure(num_patients)\n"
   ]
  },
  {
   "cell_type": "markdown",
   "id": "82d87dc5-4478-453e-a138-15aaa9ed1976",
   "metadata": {
    "id": "82d87dc5-4478-453e-a138-15aaa9ed1976"
   },
   "source": [
    "## Combining Lists into a Dictionary"
   ]
  },
  {
   "cell_type": "markdown",
   "id": "e0f23475-0e5d-45c8-b47c-e1e233dbded7",
   "metadata": {
    "id": "e0f23475-0e5d-45c8-b47c-e1e233dbded7"
   },
   "source": [
    "Let's use the lists we made above and combine them into a dictionary, using the list names as keys."
   ]
  },
  {
   "cell_type": "code",
   "execution_count": 165,
   "id": "e92089c0-62e4-432e-a5ac-93e70f8c5f8c",
   "metadata": {
    "id": "e92089c0-62e4-432e-a5ac-93e70f8c5f8c",
    "tags": []
   },
   "outputs": [],
   "source": [
    "patient_data = {'Name': patient_names, 'DOB': patient_dob, 'Height': patient_heights, 'Weight': patient_weights, 'Systolic BP': patient_systolic_readings, 'Diastolic BP': patient_diastolic_readings}"
   ]
  },
  {
   "cell_type": "markdown",
   "id": "e60361b2-12f7-446a-835b-4f70f95ce937",
   "metadata": {
    "id": "e60361b2-12f7-446a-835b-4f70f95ce937",
    "tags": []
   },
   "source": [
    "# Introduction to Pandas and NumPy"
   ]
  },
  {
   "cell_type": "markdown",
   "id": "9e9feb49-d557-4889-b45c-dc388b1e2981",
   "metadata": {
    "id": "9e9feb49-d557-4889-b45c-dc388b1e2981"
   },
   "source": [
    "In this section, we'll start by exploring Pandas and NumPy, two libraries for data analysis in Python.\n",
    "\n",
    "Pandas is a Python library for data manipulation and analysis.\n",
    "\n",
    "A pandas DataFrame is like a spreadsheet or a CSV file: a grid of rows and columns that stores data in an organised way.\n",
    "\n",
    "NumPy is a library that adds support for large, multi-dimensional arrays and matrices, along with a collection of mathematical functions to operate on these arrays."
   ]
  },
  {
   "cell_type": "markdown",
   "id": "229368bd-9f83-49ce-8243-f21a58a342ec",
   "metadata": {
    "id": "229368bd-9f83-49ce-8243-f21a58a342ec"
   },
   "source": [
    "### Creating Dataframes"
   ]
  },
  {
   "cell_type": "markdown",
   "id": "c2ba5363-80b6-4b4f-8c23-c87265dc4115",
   "metadata": {
    "id": "c2ba5363-80b6-4b4f-8c23-c87265dc4115"
   },
   "source": [
    "``pd.DataFrame(dictionary)`` reads a dictionary into a pandas DataFrame, with keys as column headers and values as data entries.\n",
    "\n",
    "``pd.read_csv('file_path')`` reads a CSV file into a DataFrame from the specified 'file_path'."
   ]
  },
  {
   "cell_type": "markdown",
   "id": "5f396e48-d7bd-4c64-9412-26562f569d26",
   "metadata": {
    "id": "5f396e48-d7bd-4c64-9412-26562f569d26"
   },
   "source": [
    "Below we have two methods of creating a dataframe, if you were not able to create the dictionary, please comment out this line ``patient_df = pd.DataFrame(patient_data)`` and use the pre-made csv.\n",
    "\n",
    "If you were able to create the dictionary successfully, comment out this line ``patient_df = pd.read_csv('paitient_df_synthetic.csv')``"
   ]
  },
  {
   "cell_type": "code",
   "execution_count": 166,
   "id": "09981e78-c029-4c5c-b7cc-93ca34b9a58e",
   "metadata": {
    "id": "09981e78-c029-4c5c-b7cc-93ca34b9a58e",
    "tags": []
   },
   "outputs": [],
   "source": [
    "# Importing Pandas and NumPy\n",
    "import pandas as pd\n",
    "import numpy as np\n",
    "\n",
    "\n",
    "#patient_df = pd.DataFrame(patient_data)\n",
    "\n",
    "\n",
    "# Let's import the data from a premade csv, created using the same methodology as the previous section.\n",
    "patient_df = pd.read_csv('patient_df_synthetic.csv', index_col=0)"
   ]
  },
  {
   "cell_type": "markdown",
   "id": "ef327c5e-4fca-4389-8e2a-e427975928b7",
   "metadata": {
    "id": "ef327c5e-4fca-4389-8e2a-e427975928b7"
   },
   "source": [
    "In the real world, a lot of datasets have missing data, so let's reflect that in our dataset"
   ]
  },
  {
   "cell_type": "code",
   "execution_count": 167,
   "id": "1572f987-0e8e-4b4a-919b-cb50144e7766",
   "metadata": {
    "id": "1572f987-0e8e-4b4a-919b-cb50144e7766"
   },
   "outputs": [],
   "source": [
    "# Function to introduce missing data\n",
    "def introduce_missing_data(df, columns, missing_percentage):\n",
    "    \"\"\"\n",
    "    Randomly introduces missing data (NaN values) into a DataFrame for the specified columns.\n",
    "\n",
    "    Parameters:\n",
    "    df (pd.DataFrame): The DataFrame into which the missing data should be introduced.\n",
    "    columns (list): List of column names where missing data should be introduced.\n",
    "    missing_percentage (float): The percentage of missing data to introduce (between 0 and 1).\n",
    "\n",
    "    Returns:\n",
    "    pd.DataFrame: The DataFrame with missing data introduced.\n",
    "    \"\"\"\n",
    "    nrows, ncols = df.shape\n",
    "    num_missing = int(nrows * ncols * missing_percentage)\n",
    "\n",
    "    for _ in range(num_missing):\n",
    "        x = random.randint(0, nrows-1)\n",
    "        y = random.choice(columns)\n",
    "        df.at[x, y] = np.nan\n",
    "\n",
    "    return df\n",
    "\n",
    "# Exclude 'Name' column and introduce missing data for 10% of the remaining data\n",
    "columns_to_have_missing = ['Height', 'Weight', 'Systolic BP', 'Diastolic BP']\n",
    "patient_df_with_missing = introduce_missing_data(patient_df, columns_to_have_missing, 0.1)\n",
    "patient_df = patient_df_with_missing"
   ]
  },
  {
   "cell_type": "markdown",
   "id": "b8d4b792-93d3-4a45-8e28-e29c7d2f08cb",
   "metadata": {
    "id": "b8d4b792-93d3-4a45-8e28-e29c7d2f08cb"
   },
   "source": [
    "### ``.head()``"
   ]
  },
  {
   "cell_type": "markdown",
   "id": "f1434c81-0e84-4c1c-99df-7833ea63c895",
   "metadata": {
    "id": "f1434c81-0e84-4c1c-99df-7833ea63c895"
   },
   "source": [
    "Where ``df`` is a pd.DataFrame:\n",
    "\n",
    "``df.head()`` Displays the first few rows of the DataFrame (default is 5)"
   ]
  },
  {
   "cell_type": "code",
   "execution_count": 171,
   "id": "71fa6d2f-4e4b-4d49-a1a6-7243007d8029",
   "metadata": {
    "colab": {
     "base_uri": "https://localhost:8080/",
     "height": 206
    },
    "executionInfo": {
     "elapsed": 105,
     "status": "ok",
     "timestamp": 1740067267909,
     "user": {
      "displayName": "Kheerthiharan Saravanan",
      "userId": "07635665106801978897"
     },
     "user_tz": 0
    },
    "id": "71fa6d2f-4e4b-4d49-a1a6-7243007d8029",
    "outputId": "8316a2d3-aeb7-4593-aff3-c1120d1b484e"
   },
   "outputs": [
    {
     "data": {
      "text/html": [
       "<div>\n",
       "<style scoped>\n",
       "    .dataframe tbody tr th:only-of-type {\n",
       "        vertical-align: middle;\n",
       "    }\n",
       "\n",
       "    .dataframe tbody tr th {\n",
       "        vertical-align: top;\n",
       "    }\n",
       "\n",
       "    .dataframe thead th {\n",
       "        text-align: right;\n",
       "    }\n",
       "</style>\n",
       "<table border=\"1\" class=\"dataframe\">\n",
       "  <thead>\n",
       "    <tr style=\"text-align: right;\">\n",
       "      <th></th>\n",
       "      <th>Name</th>\n",
       "      <th>DOB</th>\n",
       "      <th>Height</th>\n",
       "      <th>Weight</th>\n",
       "      <th>Systolic BP</th>\n",
       "      <th>Diastolic BP</th>\n",
       "    </tr>\n",
       "  </thead>\n",
       "  <tbody>\n",
       "    <tr>\n",
       "      <th>0</th>\n",
       "      <td>Jessica Garrison</td>\n",
       "      <td>26-04-1953</td>\n",
       "      <td>NaN</td>\n",
       "      <td>81.67</td>\n",
       "      <td>97.0</td>\n",
       "      <td>NaN</td>\n",
       "    </tr>\n",
       "    <tr>\n",
       "      <th>1</th>\n",
       "      <td>Sara Campbell</td>\n",
       "      <td>02-08-1956</td>\n",
       "      <td>177.0</td>\n",
       "      <td>43.02</td>\n",
       "      <td>113.0</td>\n",
       "      <td>88.0</td>\n",
       "    </tr>\n",
       "    <tr>\n",
       "      <th>2</th>\n",
       "      <td>Jerome Herring</td>\n",
       "      <td>08-06-1964</td>\n",
       "      <td>167.0</td>\n",
       "      <td>30.44</td>\n",
       "      <td>137.0</td>\n",
       "      <td>99.0</td>\n",
       "    </tr>\n",
       "    <tr>\n",
       "      <th>3</th>\n",
       "      <td>Rebecca Ray</td>\n",
       "      <td>24-12-1942</td>\n",
       "      <td>157.0</td>\n",
       "      <td>61.41</td>\n",
       "      <td>119.0</td>\n",
       "      <td>71.0</td>\n",
       "    </tr>\n",
       "    <tr>\n",
       "      <th>4</th>\n",
       "      <td>Dr. Lauren James</td>\n",
       "      <td>30-04-1935</td>\n",
       "      <td>167.0</td>\n",
       "      <td>55.79</td>\n",
       "      <td>NaN</td>\n",
       "      <td>72.0</td>\n",
       "    </tr>\n",
       "  </tbody>\n",
       "</table>\n",
       "</div>"
      ],
      "text/plain": [
       "               Name         DOB  Height  Weight  Systolic BP  Diastolic BP\n",
       "0  Jessica Garrison  26-04-1953     NaN   81.67         97.0           NaN\n",
       "1     Sara Campbell  02-08-1956   177.0   43.02        113.0          88.0\n",
       "2    Jerome Herring  08-06-1964   167.0   30.44        137.0          99.0\n",
       "3       Rebecca Ray  24-12-1942   157.0   61.41        119.0          71.0\n",
       "4  Dr. Lauren James  30-04-1935   167.0   55.79          NaN          72.0"
      ]
     },
     "execution_count": 171,
     "metadata": {},
     "output_type": "execute_result"
    }
   ],
   "source": [
    "patient_df.head()"
   ]
  },
  {
   "cell_type": "markdown",
   "id": "6e58229c-f83c-4e8e-b705-ed866fb3d3d8",
   "metadata": {
    "id": "6e58229c-f83c-4e8e-b705-ed866fb3d3d8"
   },
   "source": [
    "### ``.info()``\n",
    "\n",
    "This method displays a summary of the DataFrame including the number of non-null values per column, data types, and memory usage. It's particularly useful in the data cleaning and preparation stages of data analysis and is used for a quick data validation check (check for null values) and to understand the DataFrame's structure (types of data in each column).patient_df.info()"
   ]
  },
  {
   "cell_type": "code",
   "execution_count": 172,
   "id": "0fa4fb02-972f-4913-a81d-44af46385020",
   "metadata": {
    "colab": {
     "base_uri": "https://localhost:8080/"
    },
    "executionInfo": {
     "elapsed": 13,
     "status": "ok",
     "timestamp": 1740067271005,
     "user": {
      "displayName": "Kheerthiharan Saravanan",
      "userId": "07635665106801978897"
     },
     "user_tz": 0
    },
    "id": "0fa4fb02-972f-4913-a81d-44af46385020",
    "outputId": "6ac1cbbe-6033-4959-feb9-f35c5cd22dc3"
   },
   "outputs": [
    {
     "name": "stdout",
     "output_type": "stream",
     "text": [
      "<class 'pandas.core.frame.DataFrame'>\n",
      "Index: 10000 entries, 0 to 9999\n",
      "Data columns (total 6 columns):\n",
      " #   Column        Non-Null Count  Dtype  \n",
      "---  ------        --------------  -----  \n",
      " 0   Name          10000 non-null  object \n",
      " 1   DOB           10000 non-null  object \n",
      " 2   Height        8654 non-null   float64\n",
      " 3   Weight        8557 non-null   float64\n",
      " 4   Systolic BP   8638 non-null   float64\n",
      " 5   Diastolic BP  8562 non-null   float64\n",
      "dtypes: float64(4), object(2)\n",
      "memory usage: 804.9+ KB\n"
     ]
    }
   ],
   "source": [
    "patient_df.info()"
   ]
  },
  {
   "cell_type": "markdown",
   "id": "03e2985c-9bd7-493d-ac39-4dffe7de7cc6",
   "metadata": {
    "id": "03e2985c-9bd7-493d-ac39-4dffe7de7cc6"
   },
   "source": [
    "### ``.describe()``"
   ]
  },
  {
   "cell_type": "markdown",
   "id": "6380732c-4a0d-4f69-be84-253595a86960",
   "metadata": {
    "id": "6380732c-4a0d-4f69-be84-253595a86960"
   },
   "source": [
    "The `.describe()` method provides descriptive statistics of the data in a DataFrame. It is used for the following purposes:\n",
    "\n",
    "- It generates a summary of the central tendency, dispersion, and shape of a dataset’s distribution, excluding NaN values.\n",
    "- By default, it includes only numerical columns and returns the following statistics: count, mean, standard deviation, minimum, 25th percentile, median (50th percentile), 75th percentile, and maximum.\n",
    "- With the include parameter, you can also obtain summaries of object columns (e.g., counts, unique values, top values, and frequency of top values), or all columns together.\n",
    "- The exclude parameter can be used to exclude certain data types from the summary statistics.\n",
    "\n",
    "`DataFrame.describe()` is widely used for exploratory data analysis as it provides key insights into the main characteristics of numerical features, often revealing outliers, the spread of the data, and whether scaling might be necessary for machine learning algorithms."
   ]
  },
  {
   "cell_type": "code",
   "execution_count": 173,
   "id": "ad0501b0-a33e-4f0a-9894-c73b9e1758e7",
   "metadata": {
    "id": "ad0501b0-a33e-4f0a-9894-c73b9e1758e7"
   },
   "outputs": [
    {
     "data": {
      "text/html": [
       "<div>\n",
       "<style scoped>\n",
       "    .dataframe tbody tr th:only-of-type {\n",
       "        vertical-align: middle;\n",
       "    }\n",
       "\n",
       "    .dataframe tbody tr th {\n",
       "        vertical-align: top;\n",
       "    }\n",
       "\n",
       "    .dataframe thead th {\n",
       "        text-align: right;\n",
       "    }\n",
       "</style>\n",
       "<table border=\"1\" class=\"dataframe\">\n",
       "  <thead>\n",
       "    <tr style=\"text-align: right;\">\n",
       "      <th></th>\n",
       "      <th>Height</th>\n",
       "      <th>Weight</th>\n",
       "      <th>Systolic BP</th>\n",
       "      <th>Diastolic BP</th>\n",
       "    </tr>\n",
       "  </thead>\n",
       "  <tbody>\n",
       "    <tr>\n",
       "      <th>count</th>\n",
       "      <td>8654.000000</td>\n",
       "      <td>8557.000000</td>\n",
       "      <td>8638.000000</td>\n",
       "      <td>8562.000000</td>\n",
       "    </tr>\n",
       "    <tr>\n",
       "      <th>mean</th>\n",
       "      <td>169.657499</td>\n",
       "      <td>61.953102</td>\n",
       "      <td>125.344177</td>\n",
       "      <td>79.937982</td>\n",
       "    </tr>\n",
       "    <tr>\n",
       "      <th>std</th>\n",
       "      <td>9.760040</td>\n",
       "      <td>14.931633</td>\n",
       "      <td>20.483288</td>\n",
       "      <td>11.819873</td>\n",
       "    </tr>\n",
       "    <tr>\n",
       "      <th>min</th>\n",
       "      <td>150.000000</td>\n",
       "      <td>4.410000</td>\n",
       "      <td>90.000000</td>\n",
       "      <td>60.000000</td>\n",
       "    </tr>\n",
       "    <tr>\n",
       "      <th>25%</th>\n",
       "      <td>163.000000</td>\n",
       "      <td>51.800000</td>\n",
       "      <td>108.000000</td>\n",
       "      <td>70.000000</td>\n",
       "    </tr>\n",
       "    <tr>\n",
       "      <th>50%</th>\n",
       "      <td>169.000000</td>\n",
       "      <td>61.810000</td>\n",
       "      <td>126.000000</td>\n",
       "      <td>80.000000</td>\n",
       "    </tr>\n",
       "    <tr>\n",
       "      <th>75%</th>\n",
       "      <td>176.000000</td>\n",
       "      <td>71.870000</td>\n",
       "      <td>143.000000</td>\n",
       "      <td>90.000000</td>\n",
       "    </tr>\n",
       "    <tr>\n",
       "      <th>max</th>\n",
       "      <td>200.000000</td>\n",
       "      <td>122.840000</td>\n",
       "      <td>160.000000</td>\n",
       "      <td>100.000000</td>\n",
       "    </tr>\n",
       "  </tbody>\n",
       "</table>\n",
       "</div>"
      ],
      "text/plain": [
       "            Height       Weight  Systolic BP  Diastolic BP\n",
       "count  8654.000000  8557.000000  8638.000000   8562.000000\n",
       "mean    169.657499    61.953102   125.344177     79.937982\n",
       "std       9.760040    14.931633    20.483288     11.819873\n",
       "min     150.000000     4.410000    90.000000     60.000000\n",
       "25%     163.000000    51.800000   108.000000     70.000000\n",
       "50%     169.000000    61.810000   126.000000     80.000000\n",
       "75%     176.000000    71.870000   143.000000     90.000000\n",
       "max     200.000000   122.840000   160.000000    100.000000"
      ]
     },
     "execution_count": 173,
     "metadata": {},
     "output_type": "execute_result"
    }
   ],
   "source": [
    "patient_df.describe()"
   ]
  },
  {
   "cell_type": "markdown",
   "id": "259192c7-648a-4618-b69d-4d10fcc0c321",
   "metadata": {
    "id": "259192c7-648a-4618-b69d-4d10fcc0c321"
   },
   "source": [
    "## Data Pre-Processsing and Feature engineering"
   ]
  },
  {
   "cell_type": "markdown",
   "id": "6dabd975-be0f-4bae-9ac8-665fb27ae9a0",
   "metadata": {
    "id": "6dabd975-be0f-4bae-9ac8-665fb27ae9a0"
   },
   "source": [
    "### Impute missing data"
   ]
  },
  {
   "cell_type": "markdown",
   "id": "450a2130-7da3-4598-8f4b-f03447c2f1e7",
   "metadata": {
    "id": "450a2130-7da3-4598-8f4b-f03447c2f1e7"
   },
   "source": [
    "As we can see in the `.info()` function, the columns that have missing data are all numeric columns, so we can use a mean imputation for all of the columns. Mean imputation is the simplest method of for numeric columns This method assumes that the data are missing completely at random (MCAR) and that the observed values are a good representation of the missing values.\n",
    "\n",
    "While it is simple, it has its drawbacks:\n",
    "- Reduces the variance of the dataset\n",
    "- Introduces bias\n",
    "\n",
    "Nonetheless, for certain types of analyses where the proportion of missing data is small, it can be a reasonable approach.\n",
    "\n",
    "Here is how we can implement this in pandas using the ``.fillna()`` method, combined with the ``.mean()`` method to calculate the mean of each numeric column."
   ]
  },
  {
   "cell_type": "code",
   "execution_count": null,
   "id": "23c9ca95-d4ea-432a-8d94-3f1c186e2a9d",
   "metadata": {
    "colab": {
     "base_uri": "https://localhost:8080/"
    },
    "executionInfo": {
     "elapsed": 5,
     "status": "ok",
     "timestamp": 1740067274457,
     "user": {
      "displayName": "Kheerthiharan Saravanan",
      "userId": "07635665106801978897"
     },
     "user_tz": 0
    },
    "id": "23c9ca95-d4ea-432a-8d94-3f1c186e2a9d",
    "outputId": "1866eeb1-20c7-4743-d3ac-5d7c99ad714d"
   },
   "outputs": [
    {
     "name": "stderr",
     "output_type": "stream",
     "text": [
      "<ipython-input-84-41b339a1324f>:4: FutureWarning: A value is trying to be set on a copy of a DataFrame or Series through chained assignment using an inplace method.\n",
      "The behavior will change in pandas 3.0. This inplace method will never work because the intermediate object on which we are setting values always behaves as a copy.\n",
      "\n",
      "For example, when doing 'df[col].method(value, inplace=True)', try using 'df.method({col: value}, inplace=True)' or df[col] = df[col].method(value) instead, to perform the operation inplace on the original object.\n",
      "\n",
      "\n",
      "  patient_df[column].fillna(patient_df[column].mean(), inplace=True)\n"
     ]
    }
   ],
   "source": [
    "# Impute missing values with column mean\n",
    "for column in patient_df.columns:\n",
    "    if patient_df[column].dtype in ['float64', 'int64']:\n",
    "        patient_df[column].fillna(patient_df[column].mean(), inplace=True)\n"
   ]
  },
  {
   "cell_type": "code",
   "execution_count": null,
   "id": "6acc6e64-a5ce-4557-9c81-4c77cf2dd025",
   "metadata": {
    "id": "6acc6e64-a5ce-4557-9c81-4c77cf2dd025"
   },
   "outputs": [],
   "source": [
    "patient_df.info()"
   ]
  },
  {
   "cell_type": "markdown",
   "id": "ca4702f7-e8d6-4f39-8ab8-585cd55e12a6",
   "metadata": {
    "id": "ca4702f7-e8d6-4f39-8ab8-585cd55e12a6"
   },
   "source": [
    "Now we can see that there are no more missing values."
   ]
  },
  {
   "cell_type": "markdown",
   "id": "988d7858-2da5-4b73-971f-2f3ee2124791",
   "metadata": {
    "id": "988d7858-2da5-4b73-971f-2f3ee2124791"
   },
   "source": [
    "### Split Name into Firstname and Surname columns"
   ]
  },
  {
   "cell_type": "code",
   "execution_count": null,
   "id": "421016be-08c3-4802-a1c0-5c1acbfc004f",
   "metadata": {
    "colab": {
     "base_uri": "https://localhost:8080/",
     "height": 237
    },
    "executionInfo": {
     "elapsed": 615,
     "status": "ok",
     "timestamp": 1740067279203,
     "user": {
      "displayName": "Kheerthiharan Saravanan",
      "userId": "07635665106801978897"
     },
     "user_tz": 0
    },
    "id": "421016be-08c3-4802-a1c0-5c1acbfc004f",
    "outputId": "12b47779-61fe-4a8f-bf5e-0a5201398f4e"
   },
   "outputs": [
    {
     "data": {
      "application/vnd.google.colaboratory.intrinsic+json": {
       "summary": "{\n  \"name\": \"patient_df\",\n  \"rows\": 10000,\n  \"fields\": [\n    {\n      \"column\": \"Name\",\n      \"properties\": {\n        \"dtype\": \"string\",\n        \"num_unique_values\": 9378,\n        \"samples\": [\n          \"Rebecca Little\",\n          \"Cheryl Thompson\",\n          \"Paula Davis\"\n        ],\n        \"semantic_type\": \"\",\n        \"description\": \"\"\n      }\n    },\n    {\n      \"column\": \"DOB\",\n      \"properties\": {\n        \"dtype\": \"object\",\n        \"num_unique_values\": 8382,\n        \"samples\": [\n          \"30-06-1998\",\n          \"01-03-1957\",\n          \"30-03-1988\"\n        ],\n        \"semantic_type\": \"\",\n        \"description\": \"\"\n      }\n    },\n    {\n      \"column\": \"Height\",\n      \"properties\": {\n        \"dtype\": \"number\",\n        \"std\": 9.10231042109557,\n        \"min\": 150.0,\n        \"max\": 200.0,\n        \"num_unique_values\": 52,\n        \"samples\": [\n          188.0,\n          156.0,\n          200.0\n        ],\n        \"semantic_type\": \"\",\n        \"description\": \"\"\n      }\n    },\n    {\n      \"column\": \"Weight\",\n      \"properties\": {\n        \"dtype\": \"number\",\n        \"std\": 13.882012348886077,\n        \"min\": 4.41,\n        \"max\": 122.84,\n        \"num_unique_values\": 4453,\n        \"samples\": [\n          40.13,\n          55.64,\n          59.2\n        ],\n        \"semantic_type\": \"\",\n        \"description\": \"\"\n      }\n    },\n    {\n      \"column\": \"Systolic BP\",\n      \"properties\": {\n        \"dtype\": \"number\",\n        \"std\": 19.023889100088134,\n        \"min\": 90.0,\n        \"max\": 160.0,\n        \"num_unique_values\": 72,\n        \"samples\": [\n          121.0,\n          126.0,\n          107.0\n        ],\n        \"semantic_type\": \"\",\n        \"description\": \"\"\n      }\n    },\n    {\n      \"column\": \"Diastolic BP\",\n      \"properties\": {\n        \"dtype\": \"number\",\n        \"std\": 10.939461831760566,\n        \"min\": 60.0,\n        \"max\": 100.0,\n        \"num_unique_values\": 42,\n        \"samples\": [\n          84.0,\n          68.0,\n          62.0\n        ],\n        \"semantic_type\": \"\",\n        \"description\": \"\"\n      }\n    },\n    {\n      \"column\": \"Firstname\",\n      \"properties\": {\n        \"dtype\": \"category\",\n        \"num_unique_values\": 657,\n        \"samples\": [\n          \"Aimee\",\n          \"Dave\",\n          \"Oscar\"\n        ],\n        \"semantic_type\": \"\",\n        \"description\": \"\"\n      }\n    },\n    {\n      \"column\": \"Surname\",\n      \"properties\": {\n        \"dtype\": \"category\",\n        \"num_unique_values\": 1394,\n        \"samples\": [\n          \"Lawson\",\n          \"Ashley Gomez\",\n          \"Duarte\"\n        ],\n        \"semantic_type\": \"\",\n        \"description\": \"\"\n      }\n    }\n  ]\n}",
       "type": "dataframe",
       "variable_name": "patient_df"
      },
      "text/html": [
       "\n",
       "  <div id=\"df-fc3e017d-3aa6-465d-8682-fe091f42914b\" class=\"colab-df-container\">\n",
       "    <div>\n",
       "<style scoped>\n",
       "    .dataframe tbody tr th:only-of-type {\n",
       "        vertical-align: middle;\n",
       "    }\n",
       "\n",
       "    .dataframe tbody tr th {\n",
       "        vertical-align: top;\n",
       "    }\n",
       "\n",
       "    .dataframe thead th {\n",
       "        text-align: right;\n",
       "    }\n",
       "</style>\n",
       "<table border=\"1\" class=\"dataframe\">\n",
       "  <thead>\n",
       "    <tr style=\"text-align: right;\">\n",
       "      <th></th>\n",
       "      <th>Name</th>\n",
       "      <th>DOB</th>\n",
       "      <th>Height</th>\n",
       "      <th>Weight</th>\n",
       "      <th>Systolic BP</th>\n",
       "      <th>Diastolic BP</th>\n",
       "      <th>Firstname</th>\n",
       "      <th>Surname</th>\n",
       "    </tr>\n",
       "  </thead>\n",
       "  <tbody>\n",
       "    <tr>\n",
       "      <th>0</th>\n",
       "      <td>Jessica Garrison</td>\n",
       "      <td>26-04-1953</td>\n",
       "      <td>180.0</td>\n",
       "      <td>81.67</td>\n",
       "      <td>97.000000</td>\n",
       "      <td>79.858324</td>\n",
       "      <td>Jessica</td>\n",
       "      <td>Garrison</td>\n",
       "    </tr>\n",
       "    <tr>\n",
       "      <th>1</th>\n",
       "      <td>Sara Campbell</td>\n",
       "      <td>02-08-1956</td>\n",
       "      <td>177.0</td>\n",
       "      <td>43.02</td>\n",
       "      <td>113.000000</td>\n",
       "      <td>79.858324</td>\n",
       "      <td>Sara</td>\n",
       "      <td>Campbell</td>\n",
       "    </tr>\n",
       "    <tr>\n",
       "      <th>2</th>\n",
       "      <td>Jerome Herring</td>\n",
       "      <td>08-06-1964</td>\n",
       "      <td>167.0</td>\n",
       "      <td>30.44</td>\n",
       "      <td>137.000000</td>\n",
       "      <td>99.000000</td>\n",
       "      <td>Jerome</td>\n",
       "      <td>Herring</td>\n",
       "    </tr>\n",
       "    <tr>\n",
       "      <th>3</th>\n",
       "      <td>Rebecca Ray</td>\n",
       "      <td>24-12-1942</td>\n",
       "      <td>157.0</td>\n",
       "      <td>61.41</td>\n",
       "      <td>119.000000</td>\n",
       "      <td>71.000000</td>\n",
       "      <td>Rebecca</td>\n",
       "      <td>Ray</td>\n",
       "    </tr>\n",
       "    <tr>\n",
       "      <th>4</th>\n",
       "      <td>Dr. Lauren James</td>\n",
       "      <td>30-04-1935</td>\n",
       "      <td>167.0</td>\n",
       "      <td>55.79</td>\n",
       "      <td>121.000000</td>\n",
       "      <td>72.000000</td>\n",
       "      <td>Dr.</td>\n",
       "      <td>Lauren James</td>\n",
       "    </tr>\n",
       "    <tr>\n",
       "      <th>5</th>\n",
       "      <td>Laura Ward</td>\n",
       "      <td>22-10-1993</td>\n",
       "      <td>182.0</td>\n",
       "      <td>51.45</td>\n",
       "      <td>125.395368</td>\n",
       "      <td>88.000000</td>\n",
       "      <td>Laura</td>\n",
       "      <td>Ward</td>\n",
       "    </tr>\n",
       "  </tbody>\n",
       "</table>\n",
       "</div>\n",
       "    <div class=\"colab-df-buttons\">\n",
       "\n",
       "  <div class=\"colab-df-container\">\n",
       "    <button class=\"colab-df-convert\" onclick=\"convertToInteractive('df-fc3e017d-3aa6-465d-8682-fe091f42914b')\"\n",
       "            title=\"Convert this dataframe to an interactive table.\"\n",
       "            style=\"display:none;\">\n",
       "\n",
       "  <svg xmlns=\"http://www.w3.org/2000/svg\" height=\"24px\" viewBox=\"0 -960 960 960\">\n",
       "    <path d=\"M120-120v-720h720v720H120Zm60-500h600v-160H180v160Zm220 220h160v-160H400v160Zm0 220h160v-160H400v160ZM180-400h160v-160H180v160Zm440 0h160v-160H620v160ZM180-180h160v-160H180v160Zm440 0h160v-160H620v160Z\"/>\n",
       "  </svg>\n",
       "    </button>\n",
       "\n",
       "  <style>\n",
       "    .colab-df-container {\n",
       "      display:flex;\n",
       "      gap: 12px;\n",
       "    }\n",
       "\n",
       "    .colab-df-convert {\n",
       "      background-color: #E8F0FE;\n",
       "      border: none;\n",
       "      border-radius: 50%;\n",
       "      cursor: pointer;\n",
       "      display: none;\n",
       "      fill: #1967D2;\n",
       "      height: 32px;\n",
       "      padding: 0 0 0 0;\n",
       "      width: 32px;\n",
       "    }\n",
       "\n",
       "    .colab-df-convert:hover {\n",
       "      background-color: #E2EBFA;\n",
       "      box-shadow: 0px 1px 2px rgba(60, 64, 67, 0.3), 0px 1px 3px 1px rgba(60, 64, 67, 0.15);\n",
       "      fill: #174EA6;\n",
       "    }\n",
       "\n",
       "    .colab-df-buttons div {\n",
       "      margin-bottom: 4px;\n",
       "    }\n",
       "\n",
       "    [theme=dark] .colab-df-convert {\n",
       "      background-color: #3B4455;\n",
       "      fill: #D2E3FC;\n",
       "    }\n",
       "\n",
       "    [theme=dark] .colab-df-convert:hover {\n",
       "      background-color: #434B5C;\n",
       "      box-shadow: 0px 1px 3px 1px rgba(0, 0, 0, 0.15);\n",
       "      filter: drop-shadow(0px 1px 2px rgba(0, 0, 0, 0.3));\n",
       "      fill: #FFFFFF;\n",
       "    }\n",
       "  </style>\n",
       "\n",
       "    <script>\n",
       "      const buttonEl =\n",
       "        document.querySelector('#df-fc3e017d-3aa6-465d-8682-fe091f42914b button.colab-df-convert');\n",
       "      buttonEl.style.display =\n",
       "        google.colab.kernel.accessAllowed ? 'block' : 'none';\n",
       "\n",
       "      async function convertToInteractive(key) {\n",
       "        const element = document.querySelector('#df-fc3e017d-3aa6-465d-8682-fe091f42914b');\n",
       "        const dataTable =\n",
       "          await google.colab.kernel.invokeFunction('convertToInteractive',\n",
       "                                                    [key], {});\n",
       "        if (!dataTable) return;\n",
       "\n",
       "        const docLinkHtml = 'Like what you see? Visit the ' +\n",
       "          '<a target=\"_blank\" href=https://colab.research.google.com/notebooks/data_table.ipynb>data table notebook</a>'\n",
       "          + ' to learn more about interactive tables.';\n",
       "        element.innerHTML = '';\n",
       "        dataTable['output_type'] = 'display_data';\n",
       "        await google.colab.output.renderOutput(dataTable, element);\n",
       "        const docLink = document.createElement('div');\n",
       "        docLink.innerHTML = docLinkHtml;\n",
       "        element.appendChild(docLink);\n",
       "      }\n",
       "    </script>\n",
       "  </div>\n",
       "\n",
       "\n",
       "<div id=\"df-949e650d-adc3-4178-a6ad-0bf7b6aa39cd\">\n",
       "  <button class=\"colab-df-quickchart\" onclick=\"quickchart('df-949e650d-adc3-4178-a6ad-0bf7b6aa39cd')\"\n",
       "            title=\"Suggest charts\"\n",
       "            style=\"display:none;\">\n",
       "\n",
       "<svg xmlns=\"http://www.w3.org/2000/svg\" height=\"24px\"viewBox=\"0 0 24 24\"\n",
       "     width=\"24px\">\n",
       "    <g>\n",
       "        <path d=\"M19 3H5c-1.1 0-2 .9-2 2v14c0 1.1.9 2 2 2h14c1.1 0 2-.9 2-2V5c0-1.1-.9-2-2-2zM9 17H7v-7h2v7zm4 0h-2V7h2v10zm4 0h-2v-4h2v4z\"/>\n",
       "    </g>\n",
       "</svg>\n",
       "  </button>\n",
       "\n",
       "<style>\n",
       "  .colab-df-quickchart {\n",
       "      --bg-color: #E8F0FE;\n",
       "      --fill-color: #1967D2;\n",
       "      --hover-bg-color: #E2EBFA;\n",
       "      --hover-fill-color: #174EA6;\n",
       "      --disabled-fill-color: #AAA;\n",
       "      --disabled-bg-color: #DDD;\n",
       "  }\n",
       "\n",
       "  [theme=dark] .colab-df-quickchart {\n",
       "      --bg-color: #3B4455;\n",
       "      --fill-color: #D2E3FC;\n",
       "      --hover-bg-color: #434B5C;\n",
       "      --hover-fill-color: #FFFFFF;\n",
       "      --disabled-bg-color: #3B4455;\n",
       "      --disabled-fill-color: #666;\n",
       "  }\n",
       "\n",
       "  .colab-df-quickchart {\n",
       "    background-color: var(--bg-color);\n",
       "    border: none;\n",
       "    border-radius: 50%;\n",
       "    cursor: pointer;\n",
       "    display: none;\n",
       "    fill: var(--fill-color);\n",
       "    height: 32px;\n",
       "    padding: 0;\n",
       "    width: 32px;\n",
       "  }\n",
       "\n",
       "  .colab-df-quickchart:hover {\n",
       "    background-color: var(--hover-bg-color);\n",
       "    box-shadow: 0 1px 2px rgba(60, 64, 67, 0.3), 0 1px 3px 1px rgba(60, 64, 67, 0.15);\n",
       "    fill: var(--button-hover-fill-color);\n",
       "  }\n",
       "\n",
       "  .colab-df-quickchart-complete:disabled,\n",
       "  .colab-df-quickchart-complete:disabled:hover {\n",
       "    background-color: var(--disabled-bg-color);\n",
       "    fill: var(--disabled-fill-color);\n",
       "    box-shadow: none;\n",
       "  }\n",
       "\n",
       "  .colab-df-spinner {\n",
       "    border: 2px solid var(--fill-color);\n",
       "    border-color: transparent;\n",
       "    border-bottom-color: var(--fill-color);\n",
       "    animation:\n",
       "      spin 1s steps(1) infinite;\n",
       "  }\n",
       "\n",
       "  @keyframes spin {\n",
       "    0% {\n",
       "      border-color: transparent;\n",
       "      border-bottom-color: var(--fill-color);\n",
       "      border-left-color: var(--fill-color);\n",
       "    }\n",
       "    20% {\n",
       "      border-color: transparent;\n",
       "      border-left-color: var(--fill-color);\n",
       "      border-top-color: var(--fill-color);\n",
       "    }\n",
       "    30% {\n",
       "      border-color: transparent;\n",
       "      border-left-color: var(--fill-color);\n",
       "      border-top-color: var(--fill-color);\n",
       "      border-right-color: var(--fill-color);\n",
       "    }\n",
       "    40% {\n",
       "      border-color: transparent;\n",
       "      border-right-color: var(--fill-color);\n",
       "      border-top-color: var(--fill-color);\n",
       "    }\n",
       "    60% {\n",
       "      border-color: transparent;\n",
       "      border-right-color: var(--fill-color);\n",
       "    }\n",
       "    80% {\n",
       "      border-color: transparent;\n",
       "      border-right-color: var(--fill-color);\n",
       "      border-bottom-color: var(--fill-color);\n",
       "    }\n",
       "    90% {\n",
       "      border-color: transparent;\n",
       "      border-bottom-color: var(--fill-color);\n",
       "    }\n",
       "  }\n",
       "</style>\n",
       "\n",
       "  <script>\n",
       "    async function quickchart(key) {\n",
       "      const quickchartButtonEl =\n",
       "        document.querySelector('#' + key + ' button');\n",
       "      quickchartButtonEl.disabled = true;  // To prevent multiple clicks.\n",
       "      quickchartButtonEl.classList.add('colab-df-spinner');\n",
       "      try {\n",
       "        const charts = await google.colab.kernel.invokeFunction(\n",
       "            'suggestCharts', [key], {});\n",
       "      } catch (error) {\n",
       "        console.error('Error during call to suggestCharts:', error);\n",
       "      }\n",
       "      quickchartButtonEl.classList.remove('colab-df-spinner');\n",
       "      quickchartButtonEl.classList.add('colab-df-quickchart-complete');\n",
       "    }\n",
       "    (() => {\n",
       "      let quickchartButtonEl =\n",
       "        document.querySelector('#df-949e650d-adc3-4178-a6ad-0bf7b6aa39cd button');\n",
       "      quickchartButtonEl.style.display =\n",
       "        google.colab.kernel.accessAllowed ? 'block' : 'none';\n",
       "    })();\n",
       "  </script>\n",
       "</div>\n",
       "\n",
       "    </div>\n",
       "  </div>\n"
      ],
      "text/plain": [
       "               Name         DOB  Height  Weight  Systolic BP  Diastolic BP  \\\n",
       "0  Jessica Garrison  26-04-1953   180.0   81.67    97.000000     79.858324   \n",
       "1     Sara Campbell  02-08-1956   177.0   43.02   113.000000     79.858324   \n",
       "2    Jerome Herring  08-06-1964   167.0   30.44   137.000000     99.000000   \n",
       "3       Rebecca Ray  24-12-1942   157.0   61.41   119.000000     71.000000   \n",
       "4  Dr. Lauren James  30-04-1935   167.0   55.79   121.000000     72.000000   \n",
       "5        Laura Ward  22-10-1993   182.0   51.45   125.395368     88.000000   \n",
       "\n",
       "  Firstname       Surname  \n",
       "0   Jessica      Garrison  \n",
       "1      Sara      Campbell  \n",
       "2    Jerome       Herring  \n",
       "3   Rebecca           Ray  \n",
       "4       Dr.  Lauren James  \n",
       "5     Laura          Ward  "
      ]
     },
     "execution_count": 85,
     "metadata": {},
     "output_type": "execute_result"
    }
   ],
   "source": [
    "# Splitting the 'Name' column into 'Firstname' and 'Surname'\n",
    "patient_df[['Firstname', 'Surname']] = patient_df['Name'].str.split(' ', n=1, expand=True)\n",
    "patient_df.head(6)\n"
   ]
  },
  {
   "cell_type": "markdown",
   "id": "1e42f79f-8665-42cf-bdb6-a253e9f148e6",
   "metadata": {
    "id": "1e42f79f-8665-42cf-bdb6-a253e9f148e6"
   },
   "source": [
    "This works for most people, but how can you make this work for people with titles?\n",
    "- see row 4 'Dr. Lauren James'\n",
    "\n",
    "#### Exercise: Create Firname and Surname columns correctly, even if the Name column has a title."
   ]
  },
  {
   "cell_type": "code",
   "execution_count": null,
   "id": "f40b9dfa-16c2-4feb-bbb8-e7b8150cc338",
   "metadata": {
    "id": "f40b9dfa-16c2-4feb-bbb8-e7b8150cc338"
   },
   "outputs": [],
   "source": [
    "# YOUR CODE -  START\n",
    "\n",
    "\n",
    "# YOUR CODE -  END"
   ]
  },
  {
   "cell_type": "markdown",
   "id": "95836a2d-9348-4469-9a7a-71788a2362f2",
   "metadata": {
    "id": "95836a2d-9348-4469-9a7a-71788a2362f2"
   },
   "source": [
    "### Estimate Gender\n",
    "\n",
    "Feature engineering is the process of using domain knowledge to create or transform variables in a dataset, enhancing the effectiveness of machine learning models and data analysis.\n",
    "\n",
    "We will now try feature engineering.\n",
    "\n",
    "Using this dataset ``'name_gender_dataset.csv'``, where we have first names and their respective  most likely genders based on Government data from  US, UK, Canada and Australia, we can try to infer the gender based on a patient's first name in our data set. While gender is a feature that will likely be included in most data sets, this is a simple introduction to future engineering which can be a very effective method to get more out of your data set.\n",
    "\n",
    "Thinking outside the box is a key part of feature engineering, often leading to the creation of a much more useful dataset than you started out with.\n",
    "\n",
    "For more information about the dataset go to this link:\n",
    "https://archive.ics.uci.edu/dataset/591/gender+by+name"
   ]
  },
  {
   "cell_type": "code",
   "execution_count": null,
   "id": "3296647b-7a19-4e34-aee3-0901549d2a68",
   "metadata": {
    "colab": {
     "base_uri": "https://localhost:8080/",
     "height": 423
    },
    "executionInfo": {
     "elapsed": 187,
     "status": "ok",
     "timestamp": 1740067283528,
     "user": {
      "displayName": "Kheerthiharan Saravanan",
      "userId": "07635665106801978897"
     },
     "user_tz": 0
    },
    "id": "3296647b-7a19-4e34-aee3-0901549d2a68",
    "outputId": "9c2dc2d8-4d2f-40e3-9248-fd96c56972e1"
   },
   "outputs": [
    {
     "data": {
      "application/vnd.google.colaboratory.intrinsic+json": {
       "type": "dataframe",
       "variable_name": "name_gender_df"
      },
      "text/html": [
       "\n",
       "  <div id=\"df-2e356048-5989-4ef6-aec1-3f58f0f08aaa\" class=\"colab-df-container\">\n",
       "    <div>\n",
       "<style scoped>\n",
       "    .dataframe tbody tr th:only-of-type {\n",
       "        vertical-align: middle;\n",
       "    }\n",
       "\n",
       "    .dataframe tbody tr th {\n",
       "        vertical-align: top;\n",
       "    }\n",
       "\n",
       "    .dataframe thead th {\n",
       "        text-align: right;\n",
       "    }\n",
       "</style>\n",
       "<table border=\"1\" class=\"dataframe\">\n",
       "  <thead>\n",
       "    <tr style=\"text-align: right;\">\n",
       "      <th></th>\n",
       "      <th>Name</th>\n",
       "      <th>Gender</th>\n",
       "      <th>Count</th>\n",
       "      <th>Probability</th>\n",
       "    </tr>\n",
       "  </thead>\n",
       "  <tbody>\n",
       "    <tr>\n",
       "      <th>0</th>\n",
       "      <td>James</td>\n",
       "      <td>M</td>\n",
       "      <td>5304407</td>\n",
       "      <td>1.451679e-02</td>\n",
       "    </tr>\n",
       "    <tr>\n",
       "      <th>1</th>\n",
       "      <td>John</td>\n",
       "      <td>M</td>\n",
       "      <td>5260831</td>\n",
       "      <td>1.439753e-02</td>\n",
       "    </tr>\n",
       "    <tr>\n",
       "      <th>2</th>\n",
       "      <td>Robert</td>\n",
       "      <td>M</td>\n",
       "      <td>4970386</td>\n",
       "      <td>1.360266e-02</td>\n",
       "    </tr>\n",
       "    <tr>\n",
       "      <th>3</th>\n",
       "      <td>Michael</td>\n",
       "      <td>M</td>\n",
       "      <td>4579950</td>\n",
       "      <td>1.253414e-02</td>\n",
       "    </tr>\n",
       "    <tr>\n",
       "      <th>4</th>\n",
       "      <td>William</td>\n",
       "      <td>M</td>\n",
       "      <td>4226608</td>\n",
       "      <td>1.156713e-02</td>\n",
       "    </tr>\n",
       "    <tr>\n",
       "      <th>...</th>\n",
       "      <td>...</td>\n",
       "      <td>...</td>\n",
       "      <td>...</td>\n",
       "      <td>...</td>\n",
       "    </tr>\n",
       "    <tr>\n",
       "      <th>147264</th>\n",
       "      <td>Zylenn</td>\n",
       "      <td>M</td>\n",
       "      <td>1</td>\n",
       "      <td>2.736740e-09</td>\n",
       "    </tr>\n",
       "    <tr>\n",
       "      <th>147265</th>\n",
       "      <td>Zymeon</td>\n",
       "      <td>M</td>\n",
       "      <td>1</td>\n",
       "      <td>2.736740e-09</td>\n",
       "    </tr>\n",
       "    <tr>\n",
       "      <th>147266</th>\n",
       "      <td>Zyndel</td>\n",
       "      <td>M</td>\n",
       "      <td>1</td>\n",
       "      <td>2.736740e-09</td>\n",
       "    </tr>\n",
       "    <tr>\n",
       "      <th>147267</th>\n",
       "      <td>Zyshan</td>\n",
       "      <td>M</td>\n",
       "      <td>1</td>\n",
       "      <td>2.736740e-09</td>\n",
       "    </tr>\n",
       "    <tr>\n",
       "      <th>147268</th>\n",
       "      <td>Zyton</td>\n",
       "      <td>M</td>\n",
       "      <td>1</td>\n",
       "      <td>2.736740e-09</td>\n",
       "    </tr>\n",
       "  </tbody>\n",
       "</table>\n",
       "<p>147269 rows × 4 columns</p>\n",
       "</div>\n",
       "    <div class=\"colab-df-buttons\">\n",
       "\n",
       "  <div class=\"colab-df-container\">\n",
       "    <button class=\"colab-df-convert\" onclick=\"convertToInteractive('df-2e356048-5989-4ef6-aec1-3f58f0f08aaa')\"\n",
       "            title=\"Convert this dataframe to an interactive table.\"\n",
       "            style=\"display:none;\">\n",
       "\n",
       "  <svg xmlns=\"http://www.w3.org/2000/svg\" height=\"24px\" viewBox=\"0 -960 960 960\">\n",
       "    <path d=\"M120-120v-720h720v720H120Zm60-500h600v-160H180v160Zm220 220h160v-160H400v160Zm0 220h160v-160H400v160ZM180-400h160v-160H180v160Zm440 0h160v-160H620v160ZM180-180h160v-160H180v160Zm440 0h160v-160H620v160Z\"/>\n",
       "  </svg>\n",
       "    </button>\n",
       "\n",
       "  <style>\n",
       "    .colab-df-container {\n",
       "      display:flex;\n",
       "      gap: 12px;\n",
       "    }\n",
       "\n",
       "    .colab-df-convert {\n",
       "      background-color: #E8F0FE;\n",
       "      border: none;\n",
       "      border-radius: 50%;\n",
       "      cursor: pointer;\n",
       "      display: none;\n",
       "      fill: #1967D2;\n",
       "      height: 32px;\n",
       "      padding: 0 0 0 0;\n",
       "      width: 32px;\n",
       "    }\n",
       "\n",
       "    .colab-df-convert:hover {\n",
       "      background-color: #E2EBFA;\n",
       "      box-shadow: 0px 1px 2px rgba(60, 64, 67, 0.3), 0px 1px 3px 1px rgba(60, 64, 67, 0.15);\n",
       "      fill: #174EA6;\n",
       "    }\n",
       "\n",
       "    .colab-df-buttons div {\n",
       "      margin-bottom: 4px;\n",
       "    }\n",
       "\n",
       "    [theme=dark] .colab-df-convert {\n",
       "      background-color: #3B4455;\n",
       "      fill: #D2E3FC;\n",
       "    }\n",
       "\n",
       "    [theme=dark] .colab-df-convert:hover {\n",
       "      background-color: #434B5C;\n",
       "      box-shadow: 0px 1px 3px 1px rgba(0, 0, 0, 0.15);\n",
       "      filter: drop-shadow(0px 1px 2px rgba(0, 0, 0, 0.3));\n",
       "      fill: #FFFFFF;\n",
       "    }\n",
       "  </style>\n",
       "\n",
       "    <script>\n",
       "      const buttonEl =\n",
       "        document.querySelector('#df-2e356048-5989-4ef6-aec1-3f58f0f08aaa button.colab-df-convert');\n",
       "      buttonEl.style.display =\n",
       "        google.colab.kernel.accessAllowed ? 'block' : 'none';\n",
       "\n",
       "      async function convertToInteractive(key) {\n",
       "        const element = document.querySelector('#df-2e356048-5989-4ef6-aec1-3f58f0f08aaa');\n",
       "        const dataTable =\n",
       "          await google.colab.kernel.invokeFunction('convertToInteractive',\n",
       "                                                    [key], {});\n",
       "        if (!dataTable) return;\n",
       "\n",
       "        const docLinkHtml = 'Like what you see? Visit the ' +\n",
       "          '<a target=\"_blank\" href=https://colab.research.google.com/notebooks/data_table.ipynb>data table notebook</a>'\n",
       "          + ' to learn more about interactive tables.';\n",
       "        element.innerHTML = '';\n",
       "        dataTable['output_type'] = 'display_data';\n",
       "        await google.colab.output.renderOutput(dataTable, element);\n",
       "        const docLink = document.createElement('div');\n",
       "        docLink.innerHTML = docLinkHtml;\n",
       "        element.appendChild(docLink);\n",
       "      }\n",
       "    </script>\n",
       "  </div>\n",
       "\n",
       "\n",
       "<div id=\"df-a83388e2-c9d1-42e6-8103-7d1d2c3fdca6\">\n",
       "  <button class=\"colab-df-quickchart\" onclick=\"quickchart('df-a83388e2-c9d1-42e6-8103-7d1d2c3fdca6')\"\n",
       "            title=\"Suggest charts\"\n",
       "            style=\"display:none;\">\n",
       "\n",
       "<svg xmlns=\"http://www.w3.org/2000/svg\" height=\"24px\"viewBox=\"0 0 24 24\"\n",
       "     width=\"24px\">\n",
       "    <g>\n",
       "        <path d=\"M19 3H5c-1.1 0-2 .9-2 2v14c0 1.1.9 2 2 2h14c1.1 0 2-.9 2-2V5c0-1.1-.9-2-2-2zM9 17H7v-7h2v7zm4 0h-2V7h2v10zm4 0h-2v-4h2v4z\"/>\n",
       "    </g>\n",
       "</svg>\n",
       "  </button>\n",
       "\n",
       "<style>\n",
       "  .colab-df-quickchart {\n",
       "      --bg-color: #E8F0FE;\n",
       "      --fill-color: #1967D2;\n",
       "      --hover-bg-color: #E2EBFA;\n",
       "      --hover-fill-color: #174EA6;\n",
       "      --disabled-fill-color: #AAA;\n",
       "      --disabled-bg-color: #DDD;\n",
       "  }\n",
       "\n",
       "  [theme=dark] .colab-df-quickchart {\n",
       "      --bg-color: #3B4455;\n",
       "      --fill-color: #D2E3FC;\n",
       "      --hover-bg-color: #434B5C;\n",
       "      --hover-fill-color: #FFFFFF;\n",
       "      --disabled-bg-color: #3B4455;\n",
       "      --disabled-fill-color: #666;\n",
       "  }\n",
       "\n",
       "  .colab-df-quickchart {\n",
       "    background-color: var(--bg-color);\n",
       "    border: none;\n",
       "    border-radius: 50%;\n",
       "    cursor: pointer;\n",
       "    display: none;\n",
       "    fill: var(--fill-color);\n",
       "    height: 32px;\n",
       "    padding: 0;\n",
       "    width: 32px;\n",
       "  }\n",
       "\n",
       "  .colab-df-quickchart:hover {\n",
       "    background-color: var(--hover-bg-color);\n",
       "    box-shadow: 0 1px 2px rgba(60, 64, 67, 0.3), 0 1px 3px 1px rgba(60, 64, 67, 0.15);\n",
       "    fill: var(--button-hover-fill-color);\n",
       "  }\n",
       "\n",
       "  .colab-df-quickchart-complete:disabled,\n",
       "  .colab-df-quickchart-complete:disabled:hover {\n",
       "    background-color: var(--disabled-bg-color);\n",
       "    fill: var(--disabled-fill-color);\n",
       "    box-shadow: none;\n",
       "  }\n",
       "\n",
       "  .colab-df-spinner {\n",
       "    border: 2px solid var(--fill-color);\n",
       "    border-color: transparent;\n",
       "    border-bottom-color: var(--fill-color);\n",
       "    animation:\n",
       "      spin 1s steps(1) infinite;\n",
       "  }\n",
       "\n",
       "  @keyframes spin {\n",
       "    0% {\n",
       "      border-color: transparent;\n",
       "      border-bottom-color: var(--fill-color);\n",
       "      border-left-color: var(--fill-color);\n",
       "    }\n",
       "    20% {\n",
       "      border-color: transparent;\n",
       "      border-left-color: var(--fill-color);\n",
       "      border-top-color: var(--fill-color);\n",
       "    }\n",
       "    30% {\n",
       "      border-color: transparent;\n",
       "      border-left-color: var(--fill-color);\n",
       "      border-top-color: var(--fill-color);\n",
       "      border-right-color: var(--fill-color);\n",
       "    }\n",
       "    40% {\n",
       "      border-color: transparent;\n",
       "      border-right-color: var(--fill-color);\n",
       "      border-top-color: var(--fill-color);\n",
       "    }\n",
       "    60% {\n",
       "      border-color: transparent;\n",
       "      border-right-color: var(--fill-color);\n",
       "    }\n",
       "    80% {\n",
       "      border-color: transparent;\n",
       "      border-right-color: var(--fill-color);\n",
       "      border-bottom-color: var(--fill-color);\n",
       "    }\n",
       "    90% {\n",
       "      border-color: transparent;\n",
       "      border-bottom-color: var(--fill-color);\n",
       "    }\n",
       "  }\n",
       "</style>\n",
       "\n",
       "  <script>\n",
       "    async function quickchart(key) {\n",
       "      const quickchartButtonEl =\n",
       "        document.querySelector('#' + key + ' button');\n",
       "      quickchartButtonEl.disabled = true;  // To prevent multiple clicks.\n",
       "      quickchartButtonEl.classList.add('colab-df-spinner');\n",
       "      try {\n",
       "        const charts = await google.colab.kernel.invokeFunction(\n",
       "            'suggestCharts', [key], {});\n",
       "      } catch (error) {\n",
       "        console.error('Error during call to suggestCharts:', error);\n",
       "      }\n",
       "      quickchartButtonEl.classList.remove('colab-df-spinner');\n",
       "      quickchartButtonEl.classList.add('colab-df-quickchart-complete');\n",
       "    }\n",
       "    (() => {\n",
       "      let quickchartButtonEl =\n",
       "        document.querySelector('#df-a83388e2-c9d1-42e6-8103-7d1d2c3fdca6 button');\n",
       "      quickchartButtonEl.style.display =\n",
       "        google.colab.kernel.accessAllowed ? 'block' : 'none';\n",
       "    })();\n",
       "  </script>\n",
       "</div>\n",
       "\n",
       "  <div id=\"id_b129b8f1-9e24-4c12-b668-97ff6c7cf891\">\n",
       "    <style>\n",
       "      .colab-df-generate {\n",
       "        background-color: #E8F0FE;\n",
       "        border: none;\n",
       "        border-radius: 50%;\n",
       "        cursor: pointer;\n",
       "        display: none;\n",
       "        fill: #1967D2;\n",
       "        height: 32px;\n",
       "        padding: 0 0 0 0;\n",
       "        width: 32px;\n",
       "      }\n",
       "\n",
       "      .colab-df-generate:hover {\n",
       "        background-color: #E2EBFA;\n",
       "        box-shadow: 0px 1px 2px rgba(60, 64, 67, 0.3), 0px 1px 3px 1px rgba(60, 64, 67, 0.15);\n",
       "        fill: #174EA6;\n",
       "      }\n",
       "\n",
       "      [theme=dark] .colab-df-generate {\n",
       "        background-color: #3B4455;\n",
       "        fill: #D2E3FC;\n",
       "      }\n",
       "\n",
       "      [theme=dark] .colab-df-generate:hover {\n",
       "        background-color: #434B5C;\n",
       "        box-shadow: 0px 1px 3px 1px rgba(0, 0, 0, 0.15);\n",
       "        filter: drop-shadow(0px 1px 2px rgba(0, 0, 0, 0.3));\n",
       "        fill: #FFFFFF;\n",
       "      }\n",
       "    </style>\n",
       "    <button class=\"colab-df-generate\" onclick=\"generateWithVariable('name_gender_df')\"\n",
       "            title=\"Generate code using this dataframe.\"\n",
       "            style=\"display:none;\">\n",
       "\n",
       "  <svg xmlns=\"http://www.w3.org/2000/svg\" height=\"24px\"viewBox=\"0 0 24 24\"\n",
       "       width=\"24px\">\n",
       "    <path d=\"M7,19H8.4L18.45,9,17,7.55,7,17.6ZM5,21V16.75L18.45,3.32a2,2,0,0,1,2.83,0l1.4,1.43a1.91,1.91,0,0,1,.58,1.4,1.91,1.91,0,0,1-.58,1.4L9.25,21ZM18.45,9,17,7.55Zm-12,3A5.31,5.31,0,0,0,4.9,8.1,5.31,5.31,0,0,0,1,6.5,5.31,5.31,0,0,0,4.9,4.9,5.31,5.31,0,0,0,6.5,1,5.31,5.31,0,0,0,8.1,4.9,5.31,5.31,0,0,0,12,6.5,5.46,5.46,0,0,0,6.5,12Z\"/>\n",
       "  </svg>\n",
       "    </button>\n",
       "    <script>\n",
       "      (() => {\n",
       "      const buttonEl =\n",
       "        document.querySelector('#id_b129b8f1-9e24-4c12-b668-97ff6c7cf891 button.colab-df-generate');\n",
       "      buttonEl.style.display =\n",
       "        google.colab.kernel.accessAllowed ? 'block' : 'none';\n",
       "\n",
       "      buttonEl.onclick = () => {\n",
       "        google.colab.notebook.generateWithVariable('name_gender_df');\n",
       "      }\n",
       "      })();\n",
       "    </script>\n",
       "  </div>\n",
       "\n",
       "    </div>\n",
       "  </div>\n"
      ],
      "text/plain": [
       "           Name Gender    Count   Probability\n",
       "0         James      M  5304407  1.451679e-02\n",
       "1          John      M  5260831  1.439753e-02\n",
       "2        Robert      M  4970386  1.360266e-02\n",
       "3       Michael      M  4579950  1.253414e-02\n",
       "4       William      M  4226608  1.156713e-02\n",
       "...         ...    ...      ...           ...\n",
       "147264   Zylenn      M        1  2.736740e-09\n",
       "147265   Zymeon      M        1  2.736740e-09\n",
       "147266   Zyndel      M        1  2.736740e-09\n",
       "147267   Zyshan      M        1  2.736740e-09\n",
       "147268    Zyton      M        1  2.736740e-09\n",
       "\n",
       "[147269 rows x 4 columns]"
      ]
     },
     "execution_count": 86,
     "metadata": {},
     "output_type": "execute_result"
    }
   ],
   "source": [
    "name_gender_df = pd.read_csv('name_gender_dataset.csv')\n",
    "\n",
    "name_gender_df"
   ]
  },
  {
   "cell_type": "code",
   "execution_count": null,
   "id": "68af00b9-1bf2-4b82-8b3d-05837d4af8a2",
   "metadata": {
    "colab": {
     "base_uri": "https://localhost:8080/",
     "height": 206
    },
    "executionInfo": {
     "elapsed": 34318,
     "status": "ok",
     "timestamp": 1740067318108,
     "user": {
      "displayName": "Kheerthiharan Saravanan",
      "userId": "07635665106801978897"
     },
     "user_tz": 0
    },
    "id": "68af00b9-1bf2-4b82-8b3d-05837d4af8a2",
    "outputId": "a4c0e1e0-aa8d-4f9e-b88a-b9465a0e738f"
   },
   "outputs": [
    {
     "data": {
      "application/vnd.google.colaboratory.intrinsic+json": {
       "summary": "{\n  \"name\": \"patient_df\",\n  \"rows\": 10000,\n  \"fields\": [\n    {\n      \"column\": \"Name\",\n      \"properties\": {\n        \"dtype\": \"string\",\n        \"num_unique_values\": 9378,\n        \"samples\": [\n          \"Rebecca Little\",\n          \"Cheryl Thompson\",\n          \"Paula Davis\"\n        ],\n        \"semantic_type\": \"\",\n        \"description\": \"\"\n      }\n    },\n    {\n      \"column\": \"DOB\",\n      \"properties\": {\n        \"dtype\": \"object\",\n        \"num_unique_values\": 8382,\n        \"samples\": [\n          \"30-06-1998\",\n          \"01-03-1957\",\n          \"30-03-1988\"\n        ],\n        \"semantic_type\": \"\",\n        \"description\": \"\"\n      }\n    },\n    {\n      \"column\": \"Height\",\n      \"properties\": {\n        \"dtype\": \"number\",\n        \"std\": 9.10231042109557,\n        \"min\": 150.0,\n        \"max\": 200.0,\n        \"num_unique_values\": 52,\n        \"samples\": [\n          188.0,\n          156.0,\n          200.0\n        ],\n        \"semantic_type\": \"\",\n        \"description\": \"\"\n      }\n    },\n    {\n      \"column\": \"Weight\",\n      \"properties\": {\n        \"dtype\": \"number\",\n        \"std\": 13.882012348886077,\n        \"min\": 4.41,\n        \"max\": 122.84,\n        \"num_unique_values\": 4453,\n        \"samples\": [\n          40.13,\n          55.64,\n          59.2\n        ],\n        \"semantic_type\": \"\",\n        \"description\": \"\"\n      }\n    },\n    {\n      \"column\": \"Systolic BP\",\n      \"properties\": {\n        \"dtype\": \"number\",\n        \"std\": 19.023889100088134,\n        \"min\": 90.0,\n        \"max\": 160.0,\n        \"num_unique_values\": 72,\n        \"samples\": [\n          121.0,\n          126.0,\n          107.0\n        ],\n        \"semantic_type\": \"\",\n        \"description\": \"\"\n      }\n    },\n    {\n      \"column\": \"Diastolic BP\",\n      \"properties\": {\n        \"dtype\": \"number\",\n        \"std\": 10.939461831760566,\n        \"min\": 60.0,\n        \"max\": 100.0,\n        \"num_unique_values\": 42,\n        \"samples\": [\n          84.0,\n          68.0,\n          62.0\n        ],\n        \"semantic_type\": \"\",\n        \"description\": \"\"\n      }\n    },\n    {\n      \"column\": \"Firstname\",\n      \"properties\": {\n        \"dtype\": \"category\",\n        \"num_unique_values\": 657,\n        \"samples\": [\n          \"Aimee\",\n          \"Dave\",\n          \"Oscar\"\n        ],\n        \"semantic_type\": \"\",\n        \"description\": \"\"\n      }\n    },\n    {\n      \"column\": \"Surname\",\n      \"properties\": {\n        \"dtype\": \"category\",\n        \"num_unique_values\": 1394,\n        \"samples\": [\n          \"Lawson\",\n          \"Ashley Gomez\",\n          \"Duarte\"\n        ],\n        \"semantic_type\": \"\",\n        \"description\": \"\"\n      }\n    },\n    {\n      \"column\": \"Gender\",\n      \"properties\": {\n        \"dtype\": \"category\",\n        \"num_unique_values\": 2,\n        \"samples\": [\n          \"M\",\n          \"F\"\n        ],\n        \"semantic_type\": \"\",\n        \"description\": \"\"\n      }\n    }\n  ]\n}",
       "type": "dataframe",
       "variable_name": "patient_df"
      },
      "text/html": [
       "\n",
       "  <div id=\"df-7c4cda61-8adc-4582-a098-550ff45d4446\" class=\"colab-df-container\">\n",
       "    <div>\n",
       "<style scoped>\n",
       "    .dataframe tbody tr th:only-of-type {\n",
       "        vertical-align: middle;\n",
       "    }\n",
       "\n",
       "    .dataframe tbody tr th {\n",
       "        vertical-align: top;\n",
       "    }\n",
       "\n",
       "    .dataframe thead th {\n",
       "        text-align: right;\n",
       "    }\n",
       "</style>\n",
       "<table border=\"1\" class=\"dataframe\">\n",
       "  <thead>\n",
       "    <tr style=\"text-align: right;\">\n",
       "      <th></th>\n",
       "      <th>Name</th>\n",
       "      <th>DOB</th>\n",
       "      <th>Height</th>\n",
       "      <th>Weight</th>\n",
       "      <th>Systolic BP</th>\n",
       "      <th>Diastolic BP</th>\n",
       "      <th>Firstname</th>\n",
       "      <th>Surname</th>\n",
       "      <th>Gender</th>\n",
       "    </tr>\n",
       "  </thead>\n",
       "  <tbody>\n",
       "    <tr>\n",
       "      <th>0</th>\n",
       "      <td>Jessica Garrison</td>\n",
       "      <td>26-04-1953</td>\n",
       "      <td>180.0</td>\n",
       "      <td>81.67</td>\n",
       "      <td>97.0</td>\n",
       "      <td>79.858324</td>\n",
       "      <td>Jessica</td>\n",
       "      <td>Garrison</td>\n",
       "      <td>F</td>\n",
       "    </tr>\n",
       "    <tr>\n",
       "      <th>1</th>\n",
       "      <td>Sara Campbell</td>\n",
       "      <td>02-08-1956</td>\n",
       "      <td>177.0</td>\n",
       "      <td>43.02</td>\n",
       "      <td>113.0</td>\n",
       "      <td>79.858324</td>\n",
       "      <td>Sara</td>\n",
       "      <td>Campbell</td>\n",
       "      <td>F</td>\n",
       "    </tr>\n",
       "    <tr>\n",
       "      <th>2</th>\n",
       "      <td>Jerome Herring</td>\n",
       "      <td>08-06-1964</td>\n",
       "      <td>167.0</td>\n",
       "      <td>30.44</td>\n",
       "      <td>137.0</td>\n",
       "      <td>99.000000</td>\n",
       "      <td>Jerome</td>\n",
       "      <td>Herring</td>\n",
       "      <td>M</td>\n",
       "    </tr>\n",
       "    <tr>\n",
       "      <th>3</th>\n",
       "      <td>Rebecca Ray</td>\n",
       "      <td>24-12-1942</td>\n",
       "      <td>157.0</td>\n",
       "      <td>61.41</td>\n",
       "      <td>119.0</td>\n",
       "      <td>71.000000</td>\n",
       "      <td>Rebecca</td>\n",
       "      <td>Ray</td>\n",
       "      <td>F</td>\n",
       "    </tr>\n",
       "    <tr>\n",
       "      <th>4</th>\n",
       "      <td>Dr. Lauren James</td>\n",
       "      <td>30-04-1935</td>\n",
       "      <td>167.0</td>\n",
       "      <td>55.79</td>\n",
       "      <td>121.0</td>\n",
       "      <td>72.000000</td>\n",
       "      <td>Dr.</td>\n",
       "      <td>Lauren James</td>\n",
       "      <td>M</td>\n",
       "    </tr>\n",
       "  </tbody>\n",
       "</table>\n",
       "</div>\n",
       "    <div class=\"colab-df-buttons\">\n",
       "\n",
       "  <div class=\"colab-df-container\">\n",
       "    <button class=\"colab-df-convert\" onclick=\"convertToInteractive('df-7c4cda61-8adc-4582-a098-550ff45d4446')\"\n",
       "            title=\"Convert this dataframe to an interactive table.\"\n",
       "            style=\"display:none;\">\n",
       "\n",
       "  <svg xmlns=\"http://www.w3.org/2000/svg\" height=\"24px\" viewBox=\"0 -960 960 960\">\n",
       "    <path d=\"M120-120v-720h720v720H120Zm60-500h600v-160H180v160Zm220 220h160v-160H400v160Zm0 220h160v-160H400v160ZM180-400h160v-160H180v160Zm440 0h160v-160H620v160ZM180-180h160v-160H180v160Zm440 0h160v-160H620v160Z\"/>\n",
       "  </svg>\n",
       "    </button>\n",
       "\n",
       "  <style>\n",
       "    .colab-df-container {\n",
       "      display:flex;\n",
       "      gap: 12px;\n",
       "    }\n",
       "\n",
       "    .colab-df-convert {\n",
       "      background-color: #E8F0FE;\n",
       "      border: none;\n",
       "      border-radius: 50%;\n",
       "      cursor: pointer;\n",
       "      display: none;\n",
       "      fill: #1967D2;\n",
       "      height: 32px;\n",
       "      padding: 0 0 0 0;\n",
       "      width: 32px;\n",
       "    }\n",
       "\n",
       "    .colab-df-convert:hover {\n",
       "      background-color: #E2EBFA;\n",
       "      box-shadow: 0px 1px 2px rgba(60, 64, 67, 0.3), 0px 1px 3px 1px rgba(60, 64, 67, 0.15);\n",
       "      fill: #174EA6;\n",
       "    }\n",
       "\n",
       "    .colab-df-buttons div {\n",
       "      margin-bottom: 4px;\n",
       "    }\n",
       "\n",
       "    [theme=dark] .colab-df-convert {\n",
       "      background-color: #3B4455;\n",
       "      fill: #D2E3FC;\n",
       "    }\n",
       "\n",
       "    [theme=dark] .colab-df-convert:hover {\n",
       "      background-color: #434B5C;\n",
       "      box-shadow: 0px 1px 3px 1px rgba(0, 0, 0, 0.15);\n",
       "      filter: drop-shadow(0px 1px 2px rgba(0, 0, 0, 0.3));\n",
       "      fill: #FFFFFF;\n",
       "    }\n",
       "  </style>\n",
       "\n",
       "    <script>\n",
       "      const buttonEl =\n",
       "        document.querySelector('#df-7c4cda61-8adc-4582-a098-550ff45d4446 button.colab-df-convert');\n",
       "      buttonEl.style.display =\n",
       "        google.colab.kernel.accessAllowed ? 'block' : 'none';\n",
       "\n",
       "      async function convertToInteractive(key) {\n",
       "        const element = document.querySelector('#df-7c4cda61-8adc-4582-a098-550ff45d4446');\n",
       "        const dataTable =\n",
       "          await google.colab.kernel.invokeFunction('convertToInteractive',\n",
       "                                                    [key], {});\n",
       "        if (!dataTable) return;\n",
       "\n",
       "        const docLinkHtml = 'Like what you see? Visit the ' +\n",
       "          '<a target=\"_blank\" href=https://colab.research.google.com/notebooks/data_table.ipynb>data table notebook</a>'\n",
       "          + ' to learn more about interactive tables.';\n",
       "        element.innerHTML = '';\n",
       "        dataTable['output_type'] = 'display_data';\n",
       "        await google.colab.output.renderOutput(dataTable, element);\n",
       "        const docLink = document.createElement('div');\n",
       "        docLink.innerHTML = docLinkHtml;\n",
       "        element.appendChild(docLink);\n",
       "      }\n",
       "    </script>\n",
       "  </div>\n",
       "\n",
       "\n",
       "<div id=\"df-4b3c0436-d260-473b-8aa6-9180fa28bc80\">\n",
       "  <button class=\"colab-df-quickchart\" onclick=\"quickchart('df-4b3c0436-d260-473b-8aa6-9180fa28bc80')\"\n",
       "            title=\"Suggest charts\"\n",
       "            style=\"display:none;\">\n",
       "\n",
       "<svg xmlns=\"http://www.w3.org/2000/svg\" height=\"24px\"viewBox=\"0 0 24 24\"\n",
       "     width=\"24px\">\n",
       "    <g>\n",
       "        <path d=\"M19 3H5c-1.1 0-2 .9-2 2v14c0 1.1.9 2 2 2h14c1.1 0 2-.9 2-2V5c0-1.1-.9-2-2-2zM9 17H7v-7h2v7zm4 0h-2V7h2v10zm4 0h-2v-4h2v4z\"/>\n",
       "    </g>\n",
       "</svg>\n",
       "  </button>\n",
       "\n",
       "<style>\n",
       "  .colab-df-quickchart {\n",
       "      --bg-color: #E8F0FE;\n",
       "      --fill-color: #1967D2;\n",
       "      --hover-bg-color: #E2EBFA;\n",
       "      --hover-fill-color: #174EA6;\n",
       "      --disabled-fill-color: #AAA;\n",
       "      --disabled-bg-color: #DDD;\n",
       "  }\n",
       "\n",
       "  [theme=dark] .colab-df-quickchart {\n",
       "      --bg-color: #3B4455;\n",
       "      --fill-color: #D2E3FC;\n",
       "      --hover-bg-color: #434B5C;\n",
       "      --hover-fill-color: #FFFFFF;\n",
       "      --disabled-bg-color: #3B4455;\n",
       "      --disabled-fill-color: #666;\n",
       "  }\n",
       "\n",
       "  .colab-df-quickchart {\n",
       "    background-color: var(--bg-color);\n",
       "    border: none;\n",
       "    border-radius: 50%;\n",
       "    cursor: pointer;\n",
       "    display: none;\n",
       "    fill: var(--fill-color);\n",
       "    height: 32px;\n",
       "    padding: 0;\n",
       "    width: 32px;\n",
       "  }\n",
       "\n",
       "  .colab-df-quickchart:hover {\n",
       "    background-color: var(--hover-bg-color);\n",
       "    box-shadow: 0 1px 2px rgba(60, 64, 67, 0.3), 0 1px 3px 1px rgba(60, 64, 67, 0.15);\n",
       "    fill: var(--button-hover-fill-color);\n",
       "  }\n",
       "\n",
       "  .colab-df-quickchart-complete:disabled,\n",
       "  .colab-df-quickchart-complete:disabled:hover {\n",
       "    background-color: var(--disabled-bg-color);\n",
       "    fill: var(--disabled-fill-color);\n",
       "    box-shadow: none;\n",
       "  }\n",
       "\n",
       "  .colab-df-spinner {\n",
       "    border: 2px solid var(--fill-color);\n",
       "    border-color: transparent;\n",
       "    border-bottom-color: var(--fill-color);\n",
       "    animation:\n",
       "      spin 1s steps(1) infinite;\n",
       "  }\n",
       "\n",
       "  @keyframes spin {\n",
       "    0% {\n",
       "      border-color: transparent;\n",
       "      border-bottom-color: var(--fill-color);\n",
       "      border-left-color: var(--fill-color);\n",
       "    }\n",
       "    20% {\n",
       "      border-color: transparent;\n",
       "      border-left-color: var(--fill-color);\n",
       "      border-top-color: var(--fill-color);\n",
       "    }\n",
       "    30% {\n",
       "      border-color: transparent;\n",
       "      border-left-color: var(--fill-color);\n",
       "      border-top-color: var(--fill-color);\n",
       "      border-right-color: var(--fill-color);\n",
       "    }\n",
       "    40% {\n",
       "      border-color: transparent;\n",
       "      border-right-color: var(--fill-color);\n",
       "      border-top-color: var(--fill-color);\n",
       "    }\n",
       "    60% {\n",
       "      border-color: transparent;\n",
       "      border-right-color: var(--fill-color);\n",
       "    }\n",
       "    80% {\n",
       "      border-color: transparent;\n",
       "      border-right-color: var(--fill-color);\n",
       "      border-bottom-color: var(--fill-color);\n",
       "    }\n",
       "    90% {\n",
       "      border-color: transparent;\n",
       "      border-bottom-color: var(--fill-color);\n",
       "    }\n",
       "  }\n",
       "</style>\n",
       "\n",
       "  <script>\n",
       "    async function quickchart(key) {\n",
       "      const quickchartButtonEl =\n",
       "        document.querySelector('#' + key + ' button');\n",
       "      quickchartButtonEl.disabled = true;  // To prevent multiple clicks.\n",
       "      quickchartButtonEl.classList.add('colab-df-spinner');\n",
       "      try {\n",
       "        const charts = await google.colab.kernel.invokeFunction(\n",
       "            'suggestCharts', [key], {});\n",
       "      } catch (error) {\n",
       "        console.error('Error during call to suggestCharts:', error);\n",
       "      }\n",
       "      quickchartButtonEl.classList.remove('colab-df-spinner');\n",
       "      quickchartButtonEl.classList.add('colab-df-quickchart-complete');\n",
       "    }\n",
       "    (() => {\n",
       "      let quickchartButtonEl =\n",
       "        document.querySelector('#df-4b3c0436-d260-473b-8aa6-9180fa28bc80 button');\n",
       "      quickchartButtonEl.style.display =\n",
       "        google.colab.kernel.accessAllowed ? 'block' : 'none';\n",
       "    })();\n",
       "  </script>\n",
       "</div>\n",
       "\n",
       "    </div>\n",
       "  </div>\n"
      ],
      "text/plain": [
       "               Name         DOB  Height  Weight  Systolic BP  Diastolic BP  \\\n",
       "0  Jessica Garrison  26-04-1953   180.0   81.67         97.0     79.858324   \n",
       "1     Sara Campbell  02-08-1956   177.0   43.02        113.0     79.858324   \n",
       "2    Jerome Herring  08-06-1964   167.0   30.44        137.0     99.000000   \n",
       "3       Rebecca Ray  24-12-1942   157.0   61.41        119.0     71.000000   \n",
       "4  Dr. Lauren James  30-04-1935   167.0   55.79        121.0     72.000000   \n",
       "\n",
       "  Firstname       Surname Gender  \n",
       "0   Jessica      Garrison      F  \n",
       "1      Sara      Campbell      F  \n",
       "2    Jerome       Herring      M  \n",
       "3   Rebecca           Ray      F  \n",
       "4       Dr.  Lauren James      M  "
      ]
     },
     "execution_count": 87,
     "metadata": {},
     "output_type": "execute_result"
    }
   ],
   "source": [
    "name_to_gender = name_gender_df.groupby('Name')['Gender'].agg(lambda x: x.value_counts().idxmax()).to_dict()\n",
    "\n",
    "# Function to get gender from first name\n",
    "def get_gender_from_name(firstname):\n",
    "    return name_to_gender.get(firstname, 'Unknown')  # 'Unknown' is a fallback if the name is not in the dictionary\n",
    "\n",
    "# Apply this function to the 'Firstname' column in patient_df\n",
    "patient_df['Gender'] = patient_df['Firstname'].apply(get_gender_from_name)\n",
    "\n",
    "patient_df.head()"
   ]
  },
  {
   "cell_type": "markdown",
   "id": "f6e5d1e9-ad24-4ce1-9c8e-97b1817d9955",
   "metadata": {
    "id": "f6e5d1e9-ad24-4ce1-9c8e-97b1817d9955"
   },
   "source": [
    "### Calculate Body Mass Index (BMI)\n",
    "\n",
    "Since we have height and weight, we can do some more feature engineering by calculating BMI.\n",
    "\n",
    "Here is the formula ``BMI = kg/m^2``, write the required code in the code block below."
   ]
  },
  {
   "cell_type": "code",
   "execution_count": null,
   "id": "2f4803b9-d041-4cf6-96d2-f84d647b69ae",
   "metadata": {
    "colab": {
     "base_uri": "https://localhost:8080/",
     "height": 310
    },
    "executionInfo": {
     "elapsed": 84,
     "status": "ok",
     "timestamp": 1740067330355,
     "user": {
      "displayName": "Kheerthiharan Saravanan",
      "userId": "07635665106801978897"
     },
     "user_tz": 0
    },
    "id": "2f4803b9-d041-4cf6-96d2-f84d647b69ae",
    "outputId": "c5623965-a6c6-4489-dc62-a4bcb58bbe36"
   },
   "outputs": [
    {
     "data": {
      "application/vnd.google.colaboratory.intrinsic+json": {
       "summary": "{\n  \"name\": \"patient_df\",\n  \"rows\": 10000,\n  \"fields\": [\n    {\n      \"column\": \"Name\",\n      \"properties\": {\n        \"dtype\": \"string\",\n        \"num_unique_values\": 9378,\n        \"samples\": [\n          \"Rebecca Little\",\n          \"Cheryl Thompson\",\n          \"Paula Davis\"\n        ],\n        \"semantic_type\": \"\",\n        \"description\": \"\"\n      }\n    },\n    {\n      \"column\": \"DOB\",\n      \"properties\": {\n        \"dtype\": \"object\",\n        \"num_unique_values\": 8382,\n        \"samples\": [\n          \"30-06-1998\",\n          \"01-03-1957\",\n          \"30-03-1988\"\n        ],\n        \"semantic_type\": \"\",\n        \"description\": \"\"\n      }\n    },\n    {\n      \"column\": \"Height\",\n      \"properties\": {\n        \"dtype\": \"number\",\n        \"std\": 9.10231042109557,\n        \"min\": 150.0,\n        \"max\": 200.0,\n        \"num_unique_values\": 52,\n        \"samples\": [\n          188.0,\n          156.0,\n          200.0\n        ],\n        \"semantic_type\": \"\",\n        \"description\": \"\"\n      }\n    },\n    {\n      \"column\": \"Weight\",\n      \"properties\": {\n        \"dtype\": \"number\",\n        \"std\": 13.882012348886077,\n        \"min\": 4.41,\n        \"max\": 122.84,\n        \"num_unique_values\": 4453,\n        \"samples\": [\n          40.13,\n          55.64,\n          59.2\n        ],\n        \"semantic_type\": \"\",\n        \"description\": \"\"\n      }\n    },\n    {\n      \"column\": \"Systolic BP\",\n      \"properties\": {\n        \"dtype\": \"number\",\n        \"std\": 19.023889100088134,\n        \"min\": 90.0,\n        \"max\": 160.0,\n        \"num_unique_values\": 72,\n        \"samples\": [\n          121.0,\n          126.0,\n          107.0\n        ],\n        \"semantic_type\": \"\",\n        \"description\": \"\"\n      }\n    },\n    {\n      \"column\": \"Diastolic BP\",\n      \"properties\": {\n        \"dtype\": \"number\",\n        \"std\": 10.939461831760566,\n        \"min\": 60.0,\n        \"max\": 100.0,\n        \"num_unique_values\": 42,\n        \"samples\": [\n          84.0,\n          68.0,\n          62.0\n        ],\n        \"semantic_type\": \"\",\n        \"description\": \"\"\n      }\n    },\n    {\n      \"column\": \"Firstname\",\n      \"properties\": {\n        \"dtype\": \"category\",\n        \"num_unique_values\": 657,\n        \"samples\": [\n          \"Aimee\",\n          \"Dave\",\n          \"Oscar\"\n        ],\n        \"semantic_type\": \"\",\n        \"description\": \"\"\n      }\n    },\n    {\n      \"column\": \"Surname\",\n      \"properties\": {\n        \"dtype\": \"category\",\n        \"num_unique_values\": 1394,\n        \"samples\": [\n          \"Lawson\",\n          \"Ashley Gomez\",\n          \"Duarte\"\n        ],\n        \"semantic_type\": \"\",\n        \"description\": \"\"\n      }\n    },\n    {\n      \"column\": \"Gender\",\n      \"properties\": {\n        \"dtype\": \"category\",\n        \"num_unique_values\": 2,\n        \"samples\": [\n          \"M\",\n          \"F\"\n        ],\n        \"semantic_type\": \"\",\n        \"description\": \"\"\n      }\n    },\n    {\n      \"column\": \"BMI\",\n      \"properties\": {\n        \"dtype\": \"number\",\n        \"std\": 5.42427770425405,\n        \"min\": 1.331360946745562,\n        \"max\": 48.99995943040285,\n        \"num_unique_values\": 8415,\n        \"samples\": [\n          15.958049886621318,\n          17.46214169821525\n        ],\n        \"semantic_type\": \"\",\n        \"description\": \"\"\n      }\n    }\n  ]\n}",
       "type": "dataframe",
       "variable_name": "patient_df"
      },
      "text/html": [
       "\n",
       "  <div id=\"df-97a58688-0b47-4dee-9d67-a4815731b003\" class=\"colab-df-container\">\n",
       "    <div>\n",
       "<style scoped>\n",
       "    .dataframe tbody tr th:only-of-type {\n",
       "        vertical-align: middle;\n",
       "    }\n",
       "\n",
       "    .dataframe tbody tr th {\n",
       "        vertical-align: top;\n",
       "    }\n",
       "\n",
       "    .dataframe thead th {\n",
       "        text-align: right;\n",
       "    }\n",
       "</style>\n",
       "<table border=\"1\" class=\"dataframe\">\n",
       "  <thead>\n",
       "    <tr style=\"text-align: right;\">\n",
       "      <th></th>\n",
       "      <th>Name</th>\n",
       "      <th>DOB</th>\n",
       "      <th>Height</th>\n",
       "      <th>Weight</th>\n",
       "      <th>Systolic BP</th>\n",
       "      <th>Diastolic BP</th>\n",
       "      <th>Firstname</th>\n",
       "      <th>Surname</th>\n",
       "      <th>Gender</th>\n",
       "      <th>BMI</th>\n",
       "    </tr>\n",
       "  </thead>\n",
       "  <tbody>\n",
       "    <tr>\n",
       "      <th>0</th>\n",
       "      <td>Jessica Garrison</td>\n",
       "      <td>26-04-1953</td>\n",
       "      <td>180.0</td>\n",
       "      <td>81.67</td>\n",
       "      <td>97.0</td>\n",
       "      <td>79.858324</td>\n",
       "      <td>Jessica</td>\n",
       "      <td>Garrison</td>\n",
       "      <td>F</td>\n",
       "      <td>25.206790</td>\n",
       "    </tr>\n",
       "    <tr>\n",
       "      <th>1</th>\n",
       "      <td>Sara Campbell</td>\n",
       "      <td>02-08-1956</td>\n",
       "      <td>177.0</td>\n",
       "      <td>43.02</td>\n",
       "      <td>113.0</td>\n",
       "      <td>79.858324</td>\n",
       "      <td>Sara</td>\n",
       "      <td>Campbell</td>\n",
       "      <td>F</td>\n",
       "      <td>13.731686</td>\n",
       "    </tr>\n",
       "    <tr>\n",
       "      <th>2</th>\n",
       "      <td>Jerome Herring</td>\n",
       "      <td>08-06-1964</td>\n",
       "      <td>167.0</td>\n",
       "      <td>30.44</td>\n",
       "      <td>137.0</td>\n",
       "      <td>99.000000</td>\n",
       "      <td>Jerome</td>\n",
       "      <td>Herring</td>\n",
       "      <td>M</td>\n",
       "      <td>10.914698</td>\n",
       "    </tr>\n",
       "    <tr>\n",
       "      <th>3</th>\n",
       "      <td>Rebecca Ray</td>\n",
       "      <td>24-12-1942</td>\n",
       "      <td>157.0</td>\n",
       "      <td>61.41</td>\n",
       "      <td>119.0</td>\n",
       "      <td>71.000000</td>\n",
       "      <td>Rebecca</td>\n",
       "      <td>Ray</td>\n",
       "      <td>F</td>\n",
       "      <td>24.913790</td>\n",
       "    </tr>\n",
       "    <tr>\n",
       "      <th>4</th>\n",
       "      <td>Dr. Lauren James</td>\n",
       "      <td>30-04-1935</td>\n",
       "      <td>167.0</td>\n",
       "      <td>55.79</td>\n",
       "      <td>121.0</td>\n",
       "      <td>72.000000</td>\n",
       "      <td>Dr.</td>\n",
       "      <td>Lauren James</td>\n",
       "      <td>M</td>\n",
       "      <td>20.004303</td>\n",
       "    </tr>\n",
       "  </tbody>\n",
       "</table>\n",
       "</div>\n",
       "    <div class=\"colab-df-buttons\">\n",
       "\n",
       "  <div class=\"colab-df-container\">\n",
       "    <button class=\"colab-df-convert\" onclick=\"convertToInteractive('df-97a58688-0b47-4dee-9d67-a4815731b003')\"\n",
       "            title=\"Convert this dataframe to an interactive table.\"\n",
       "            style=\"display:none;\">\n",
       "\n",
       "  <svg xmlns=\"http://www.w3.org/2000/svg\" height=\"24px\" viewBox=\"0 -960 960 960\">\n",
       "    <path d=\"M120-120v-720h720v720H120Zm60-500h600v-160H180v160Zm220 220h160v-160H400v160Zm0 220h160v-160H400v160ZM180-400h160v-160H180v160Zm440 0h160v-160H620v160ZM180-180h160v-160H180v160Zm440 0h160v-160H620v160Z\"/>\n",
       "  </svg>\n",
       "    </button>\n",
       "\n",
       "  <style>\n",
       "    .colab-df-container {\n",
       "      display:flex;\n",
       "      gap: 12px;\n",
       "    }\n",
       "\n",
       "    .colab-df-convert {\n",
       "      background-color: #E8F0FE;\n",
       "      border: none;\n",
       "      border-radius: 50%;\n",
       "      cursor: pointer;\n",
       "      display: none;\n",
       "      fill: #1967D2;\n",
       "      height: 32px;\n",
       "      padding: 0 0 0 0;\n",
       "      width: 32px;\n",
       "    }\n",
       "\n",
       "    .colab-df-convert:hover {\n",
       "      background-color: #E2EBFA;\n",
       "      box-shadow: 0px 1px 2px rgba(60, 64, 67, 0.3), 0px 1px 3px 1px rgba(60, 64, 67, 0.15);\n",
       "      fill: #174EA6;\n",
       "    }\n",
       "\n",
       "    .colab-df-buttons div {\n",
       "      margin-bottom: 4px;\n",
       "    }\n",
       "\n",
       "    [theme=dark] .colab-df-convert {\n",
       "      background-color: #3B4455;\n",
       "      fill: #D2E3FC;\n",
       "    }\n",
       "\n",
       "    [theme=dark] .colab-df-convert:hover {\n",
       "      background-color: #434B5C;\n",
       "      box-shadow: 0px 1px 3px 1px rgba(0, 0, 0, 0.15);\n",
       "      filter: drop-shadow(0px 1px 2px rgba(0, 0, 0, 0.3));\n",
       "      fill: #FFFFFF;\n",
       "    }\n",
       "  </style>\n",
       "\n",
       "    <script>\n",
       "      const buttonEl =\n",
       "        document.querySelector('#df-97a58688-0b47-4dee-9d67-a4815731b003 button.colab-df-convert');\n",
       "      buttonEl.style.display =\n",
       "        google.colab.kernel.accessAllowed ? 'block' : 'none';\n",
       "\n",
       "      async function convertToInteractive(key) {\n",
       "        const element = document.querySelector('#df-97a58688-0b47-4dee-9d67-a4815731b003');\n",
       "        const dataTable =\n",
       "          await google.colab.kernel.invokeFunction('convertToInteractive',\n",
       "                                                    [key], {});\n",
       "        if (!dataTable) return;\n",
       "\n",
       "        const docLinkHtml = 'Like what you see? Visit the ' +\n",
       "          '<a target=\"_blank\" href=https://colab.research.google.com/notebooks/data_table.ipynb>data table notebook</a>'\n",
       "          + ' to learn more about interactive tables.';\n",
       "        element.innerHTML = '';\n",
       "        dataTable['output_type'] = 'display_data';\n",
       "        await google.colab.output.renderOutput(dataTable, element);\n",
       "        const docLink = document.createElement('div');\n",
       "        docLink.innerHTML = docLinkHtml;\n",
       "        element.appendChild(docLink);\n",
       "      }\n",
       "    </script>\n",
       "  </div>\n",
       "\n",
       "\n",
       "<div id=\"df-1c3dd503-45aa-46e2-a0c3-cd1d08705f42\">\n",
       "  <button class=\"colab-df-quickchart\" onclick=\"quickchart('df-1c3dd503-45aa-46e2-a0c3-cd1d08705f42')\"\n",
       "            title=\"Suggest charts\"\n",
       "            style=\"display:none;\">\n",
       "\n",
       "<svg xmlns=\"http://www.w3.org/2000/svg\" height=\"24px\"viewBox=\"0 0 24 24\"\n",
       "     width=\"24px\">\n",
       "    <g>\n",
       "        <path d=\"M19 3H5c-1.1 0-2 .9-2 2v14c0 1.1.9 2 2 2h14c1.1 0 2-.9 2-2V5c0-1.1-.9-2-2-2zM9 17H7v-7h2v7zm4 0h-2V7h2v10zm4 0h-2v-4h2v4z\"/>\n",
       "    </g>\n",
       "</svg>\n",
       "  </button>\n",
       "\n",
       "<style>\n",
       "  .colab-df-quickchart {\n",
       "      --bg-color: #E8F0FE;\n",
       "      --fill-color: #1967D2;\n",
       "      --hover-bg-color: #E2EBFA;\n",
       "      --hover-fill-color: #174EA6;\n",
       "      --disabled-fill-color: #AAA;\n",
       "      --disabled-bg-color: #DDD;\n",
       "  }\n",
       "\n",
       "  [theme=dark] .colab-df-quickchart {\n",
       "      --bg-color: #3B4455;\n",
       "      --fill-color: #D2E3FC;\n",
       "      --hover-bg-color: #434B5C;\n",
       "      --hover-fill-color: #FFFFFF;\n",
       "      --disabled-bg-color: #3B4455;\n",
       "      --disabled-fill-color: #666;\n",
       "  }\n",
       "\n",
       "  .colab-df-quickchart {\n",
       "    background-color: var(--bg-color);\n",
       "    border: none;\n",
       "    border-radius: 50%;\n",
       "    cursor: pointer;\n",
       "    display: none;\n",
       "    fill: var(--fill-color);\n",
       "    height: 32px;\n",
       "    padding: 0;\n",
       "    width: 32px;\n",
       "  }\n",
       "\n",
       "  .colab-df-quickchart:hover {\n",
       "    background-color: var(--hover-bg-color);\n",
       "    box-shadow: 0 1px 2px rgba(60, 64, 67, 0.3), 0 1px 3px 1px rgba(60, 64, 67, 0.15);\n",
       "    fill: var(--button-hover-fill-color);\n",
       "  }\n",
       "\n",
       "  .colab-df-quickchart-complete:disabled,\n",
       "  .colab-df-quickchart-complete:disabled:hover {\n",
       "    background-color: var(--disabled-bg-color);\n",
       "    fill: var(--disabled-fill-color);\n",
       "    box-shadow: none;\n",
       "  }\n",
       "\n",
       "  .colab-df-spinner {\n",
       "    border: 2px solid var(--fill-color);\n",
       "    border-color: transparent;\n",
       "    border-bottom-color: var(--fill-color);\n",
       "    animation:\n",
       "      spin 1s steps(1) infinite;\n",
       "  }\n",
       "\n",
       "  @keyframes spin {\n",
       "    0% {\n",
       "      border-color: transparent;\n",
       "      border-bottom-color: var(--fill-color);\n",
       "      border-left-color: var(--fill-color);\n",
       "    }\n",
       "    20% {\n",
       "      border-color: transparent;\n",
       "      border-left-color: var(--fill-color);\n",
       "      border-top-color: var(--fill-color);\n",
       "    }\n",
       "    30% {\n",
       "      border-color: transparent;\n",
       "      border-left-color: var(--fill-color);\n",
       "      border-top-color: var(--fill-color);\n",
       "      border-right-color: var(--fill-color);\n",
       "    }\n",
       "    40% {\n",
       "      border-color: transparent;\n",
       "      border-right-color: var(--fill-color);\n",
       "      border-top-color: var(--fill-color);\n",
       "    }\n",
       "    60% {\n",
       "      border-color: transparent;\n",
       "      border-right-color: var(--fill-color);\n",
       "    }\n",
       "    80% {\n",
       "      border-color: transparent;\n",
       "      border-right-color: var(--fill-color);\n",
       "      border-bottom-color: var(--fill-color);\n",
       "    }\n",
       "    90% {\n",
       "      border-color: transparent;\n",
       "      border-bottom-color: var(--fill-color);\n",
       "    }\n",
       "  }\n",
       "</style>\n",
       "\n",
       "  <script>\n",
       "    async function quickchart(key) {\n",
       "      const quickchartButtonEl =\n",
       "        document.querySelector('#' + key + ' button');\n",
       "      quickchartButtonEl.disabled = true;  // To prevent multiple clicks.\n",
       "      quickchartButtonEl.classList.add('colab-df-spinner');\n",
       "      try {\n",
       "        const charts = await google.colab.kernel.invokeFunction(\n",
       "            'suggestCharts', [key], {});\n",
       "      } catch (error) {\n",
       "        console.error('Error during call to suggestCharts:', error);\n",
       "      }\n",
       "      quickchartButtonEl.classList.remove('colab-df-spinner');\n",
       "      quickchartButtonEl.classList.add('colab-df-quickchart-complete');\n",
       "    }\n",
       "    (() => {\n",
       "      let quickchartButtonEl =\n",
       "        document.querySelector('#df-1c3dd503-45aa-46e2-a0c3-cd1d08705f42 button');\n",
       "      quickchartButtonEl.style.display =\n",
       "        google.colab.kernel.accessAllowed ? 'block' : 'none';\n",
       "    })();\n",
       "  </script>\n",
       "</div>\n",
       "\n",
       "    </div>\n",
       "  </div>\n"
      ],
      "text/plain": [
       "               Name         DOB  Height  Weight  Systolic BP  Diastolic BP  \\\n",
       "0  Jessica Garrison  26-04-1953   180.0   81.67         97.0     79.858324   \n",
       "1     Sara Campbell  02-08-1956   177.0   43.02        113.0     79.858324   \n",
       "2    Jerome Herring  08-06-1964   167.0   30.44        137.0     99.000000   \n",
       "3       Rebecca Ray  24-12-1942   157.0   61.41        119.0     71.000000   \n",
       "4  Dr. Lauren James  30-04-1935   167.0   55.79        121.0     72.000000   \n",
       "\n",
       "  Firstname       Surname Gender        BMI  \n",
       "0   Jessica      Garrison      F  25.206790  \n",
       "1      Sara      Campbell      F  13.731686  \n",
       "2    Jerome       Herring      M  10.914698  \n",
       "3   Rebecca           Ray      F  24.913790  \n",
       "4       Dr.  Lauren James      M  20.004303  "
      ]
     },
     "execution_count": 88,
     "metadata": {},
     "output_type": "execute_result"
    }
   ],
   "source": [
    "# Calculating BMI\n",
    "patient_df['BMI'] = patient_df['Weight'] / ((patient_df['Height'] / 100) ** 2)\n",
    "patient_df.head()"
   ]
  },
  {
   "cell_type": "markdown",
   "id": "2a510541-8805-478f-bace-aa9aaa66ea5b",
   "metadata": {
    "id": "2a510541-8805-478f-bace-aa9aaa66ea5b"
   },
   "source": [
    "## Data De-identification\n",
    "\n"
   ]
  },
  {
   "cell_type": "markdown",
   "id": "70ae5f95-5409-47af-b8c2-583c723351ef",
   "metadata": {
    "id": "70ae5f95-5409-47af-b8c2-583c723351ef"
   },
   "source": [
    " ### Generate patient unique id to deidentify records (remove name columns)\n",
    " For privacy reasons, we'll generate a unique ID for each patient and remove identifiable information such as names."
   ]
  },
  {
   "cell_type": "code",
   "execution_count": null,
   "id": "73eef7ff-b4ed-49bf-92ba-bea22ea9c205",
   "metadata": {
    "colab": {
     "base_uri": "https://localhost:8080/",
     "height": 206
    },
    "executionInfo": {
     "elapsed": 71,
     "status": "ok",
     "timestamp": 1740067331689,
     "user": {
      "displayName": "Kheerthiharan Saravanan",
      "userId": "07635665106801978897"
     },
     "user_tz": 0
    },
    "id": "73eef7ff-b4ed-49bf-92ba-bea22ea9c205",
    "outputId": "677c21f8-4c27-4abb-b3f8-03794cb8a42b"
   },
   "outputs": [
    {
     "data": {
      "application/vnd.google.colaboratory.intrinsic+json": {
       "summary": "{\n  \"name\": \"patient_df\",\n  \"rows\": 10000,\n  \"fields\": [\n    {\n      \"column\": \"DOB\",\n      \"properties\": {\n        \"dtype\": \"object\",\n        \"num_unique_values\": 8382,\n        \"samples\": [\n          \"30-06-1998\",\n          \"01-03-1957\",\n          \"30-03-1988\"\n        ],\n        \"semantic_type\": \"\",\n        \"description\": \"\"\n      }\n    },\n    {\n      \"column\": \"Height\",\n      \"properties\": {\n        \"dtype\": \"number\",\n        \"std\": 9.10231042109557,\n        \"min\": 150.0,\n        \"max\": 200.0,\n        \"num_unique_values\": 52,\n        \"samples\": [\n          188.0,\n          156.0,\n          200.0\n        ],\n        \"semantic_type\": \"\",\n        \"description\": \"\"\n      }\n    },\n    {\n      \"column\": \"Weight\",\n      \"properties\": {\n        \"dtype\": \"number\",\n        \"std\": 13.882012348886077,\n        \"min\": 4.41,\n        \"max\": 122.84,\n        \"num_unique_values\": 4453,\n        \"samples\": [\n          40.13,\n          55.64,\n          59.2\n        ],\n        \"semantic_type\": \"\",\n        \"description\": \"\"\n      }\n    },\n    {\n      \"column\": \"Systolic BP\",\n      \"properties\": {\n        \"dtype\": \"number\",\n        \"std\": 19.023889100088134,\n        \"min\": 90.0,\n        \"max\": 160.0,\n        \"num_unique_values\": 72,\n        \"samples\": [\n          121.0,\n          126.0,\n          107.0\n        ],\n        \"semantic_type\": \"\",\n        \"description\": \"\"\n      }\n    },\n    {\n      \"column\": \"Diastolic BP\",\n      \"properties\": {\n        \"dtype\": \"number\",\n        \"std\": 10.939461831760566,\n        \"min\": 60.0,\n        \"max\": 100.0,\n        \"num_unique_values\": 42,\n        \"samples\": [\n          84.0,\n          68.0,\n          62.0\n        ],\n        \"semantic_type\": \"\",\n        \"description\": \"\"\n      }\n    },\n    {\n      \"column\": \"Gender\",\n      \"properties\": {\n        \"dtype\": \"category\",\n        \"num_unique_values\": 2,\n        \"samples\": [\n          \"M\",\n          \"F\"\n        ],\n        \"semantic_type\": \"\",\n        \"description\": \"\"\n      }\n    },\n    {\n      \"column\": \"BMI\",\n      \"properties\": {\n        \"dtype\": \"number\",\n        \"std\": 5.42427770425405,\n        \"min\": 1.331360946745562,\n        \"max\": 48.99995943040285,\n        \"num_unique_values\": 8415,\n        \"samples\": [\n          15.958049886621318,\n          17.46214169821525\n        ],\n        \"semantic_type\": \"\",\n        \"description\": \"\"\n      }\n    },\n    {\n      \"column\": \"Patient_ID\",\n      \"properties\": {\n        \"dtype\": \"number\",\n        \"std\": 2886,\n        \"min\": 1,\n        \"max\": 10000,\n        \"num_unique_values\": 10000,\n        \"samples\": [\n          6253,\n          4685\n        ],\n        \"semantic_type\": \"\",\n        \"description\": \"\"\n      }\n    }\n  ]\n}",
       "type": "dataframe",
       "variable_name": "patient_df"
      },
      "text/html": [
       "\n",
       "  <div id=\"df-467bafcd-20d2-4252-8ca9-9c400cf6e5d6\" class=\"colab-df-container\">\n",
       "    <div>\n",
       "<style scoped>\n",
       "    .dataframe tbody tr th:only-of-type {\n",
       "        vertical-align: middle;\n",
       "    }\n",
       "\n",
       "    .dataframe tbody tr th {\n",
       "        vertical-align: top;\n",
       "    }\n",
       "\n",
       "    .dataframe thead th {\n",
       "        text-align: right;\n",
       "    }\n",
       "</style>\n",
       "<table border=\"1\" class=\"dataframe\">\n",
       "  <thead>\n",
       "    <tr style=\"text-align: right;\">\n",
       "      <th></th>\n",
       "      <th>DOB</th>\n",
       "      <th>Height</th>\n",
       "      <th>Weight</th>\n",
       "      <th>Systolic BP</th>\n",
       "      <th>Diastolic BP</th>\n",
       "      <th>Gender</th>\n",
       "      <th>BMI</th>\n",
       "      <th>Patient_ID</th>\n",
       "    </tr>\n",
       "  </thead>\n",
       "  <tbody>\n",
       "    <tr>\n",
       "      <th>0</th>\n",
       "      <td>26-04-1953</td>\n",
       "      <td>180.0</td>\n",
       "      <td>81.67</td>\n",
       "      <td>97.0</td>\n",
       "      <td>79.858324</td>\n",
       "      <td>F</td>\n",
       "      <td>25.206790</td>\n",
       "      <td>1</td>\n",
       "    </tr>\n",
       "    <tr>\n",
       "      <th>1</th>\n",
       "      <td>02-08-1956</td>\n",
       "      <td>177.0</td>\n",
       "      <td>43.02</td>\n",
       "      <td>113.0</td>\n",
       "      <td>79.858324</td>\n",
       "      <td>F</td>\n",
       "      <td>13.731686</td>\n",
       "      <td>2</td>\n",
       "    </tr>\n",
       "    <tr>\n",
       "      <th>2</th>\n",
       "      <td>08-06-1964</td>\n",
       "      <td>167.0</td>\n",
       "      <td>30.44</td>\n",
       "      <td>137.0</td>\n",
       "      <td>99.000000</td>\n",
       "      <td>M</td>\n",
       "      <td>10.914698</td>\n",
       "      <td>3</td>\n",
       "    </tr>\n",
       "    <tr>\n",
       "      <th>3</th>\n",
       "      <td>24-12-1942</td>\n",
       "      <td>157.0</td>\n",
       "      <td>61.41</td>\n",
       "      <td>119.0</td>\n",
       "      <td>71.000000</td>\n",
       "      <td>F</td>\n",
       "      <td>24.913790</td>\n",
       "      <td>4</td>\n",
       "    </tr>\n",
       "    <tr>\n",
       "      <th>4</th>\n",
       "      <td>30-04-1935</td>\n",
       "      <td>167.0</td>\n",
       "      <td>55.79</td>\n",
       "      <td>121.0</td>\n",
       "      <td>72.000000</td>\n",
       "      <td>M</td>\n",
       "      <td>20.004303</td>\n",
       "      <td>5</td>\n",
       "    </tr>\n",
       "  </tbody>\n",
       "</table>\n",
       "</div>\n",
       "    <div class=\"colab-df-buttons\">\n",
       "\n",
       "  <div class=\"colab-df-container\">\n",
       "    <button class=\"colab-df-convert\" onclick=\"convertToInteractive('df-467bafcd-20d2-4252-8ca9-9c400cf6e5d6')\"\n",
       "            title=\"Convert this dataframe to an interactive table.\"\n",
       "            style=\"display:none;\">\n",
       "\n",
       "  <svg xmlns=\"http://www.w3.org/2000/svg\" height=\"24px\" viewBox=\"0 -960 960 960\">\n",
       "    <path d=\"M120-120v-720h720v720H120Zm60-500h600v-160H180v160Zm220 220h160v-160H400v160Zm0 220h160v-160H400v160ZM180-400h160v-160H180v160Zm440 0h160v-160H620v160ZM180-180h160v-160H180v160Zm440 0h160v-160H620v160Z\"/>\n",
       "  </svg>\n",
       "    </button>\n",
       "\n",
       "  <style>\n",
       "    .colab-df-container {\n",
       "      display:flex;\n",
       "      gap: 12px;\n",
       "    }\n",
       "\n",
       "    .colab-df-convert {\n",
       "      background-color: #E8F0FE;\n",
       "      border: none;\n",
       "      border-radius: 50%;\n",
       "      cursor: pointer;\n",
       "      display: none;\n",
       "      fill: #1967D2;\n",
       "      height: 32px;\n",
       "      padding: 0 0 0 0;\n",
       "      width: 32px;\n",
       "    }\n",
       "\n",
       "    .colab-df-convert:hover {\n",
       "      background-color: #E2EBFA;\n",
       "      box-shadow: 0px 1px 2px rgba(60, 64, 67, 0.3), 0px 1px 3px 1px rgba(60, 64, 67, 0.15);\n",
       "      fill: #174EA6;\n",
       "    }\n",
       "\n",
       "    .colab-df-buttons div {\n",
       "      margin-bottom: 4px;\n",
       "    }\n",
       "\n",
       "    [theme=dark] .colab-df-convert {\n",
       "      background-color: #3B4455;\n",
       "      fill: #D2E3FC;\n",
       "    }\n",
       "\n",
       "    [theme=dark] .colab-df-convert:hover {\n",
       "      background-color: #434B5C;\n",
       "      box-shadow: 0px 1px 3px 1px rgba(0, 0, 0, 0.15);\n",
       "      filter: drop-shadow(0px 1px 2px rgba(0, 0, 0, 0.3));\n",
       "      fill: #FFFFFF;\n",
       "    }\n",
       "  </style>\n",
       "\n",
       "    <script>\n",
       "      const buttonEl =\n",
       "        document.querySelector('#df-467bafcd-20d2-4252-8ca9-9c400cf6e5d6 button.colab-df-convert');\n",
       "      buttonEl.style.display =\n",
       "        google.colab.kernel.accessAllowed ? 'block' : 'none';\n",
       "\n",
       "      async function convertToInteractive(key) {\n",
       "        const element = document.querySelector('#df-467bafcd-20d2-4252-8ca9-9c400cf6e5d6');\n",
       "        const dataTable =\n",
       "          await google.colab.kernel.invokeFunction('convertToInteractive',\n",
       "                                                    [key], {});\n",
       "        if (!dataTable) return;\n",
       "\n",
       "        const docLinkHtml = 'Like what you see? Visit the ' +\n",
       "          '<a target=\"_blank\" href=https://colab.research.google.com/notebooks/data_table.ipynb>data table notebook</a>'\n",
       "          + ' to learn more about interactive tables.';\n",
       "        element.innerHTML = '';\n",
       "        dataTable['output_type'] = 'display_data';\n",
       "        await google.colab.output.renderOutput(dataTable, element);\n",
       "        const docLink = document.createElement('div');\n",
       "        docLink.innerHTML = docLinkHtml;\n",
       "        element.appendChild(docLink);\n",
       "      }\n",
       "    </script>\n",
       "  </div>\n",
       "\n",
       "\n",
       "<div id=\"df-e4e5303b-e20c-4533-a98e-fa458b1dedf6\">\n",
       "  <button class=\"colab-df-quickchart\" onclick=\"quickchart('df-e4e5303b-e20c-4533-a98e-fa458b1dedf6')\"\n",
       "            title=\"Suggest charts\"\n",
       "            style=\"display:none;\">\n",
       "\n",
       "<svg xmlns=\"http://www.w3.org/2000/svg\" height=\"24px\"viewBox=\"0 0 24 24\"\n",
       "     width=\"24px\">\n",
       "    <g>\n",
       "        <path d=\"M19 3H5c-1.1 0-2 .9-2 2v14c0 1.1.9 2 2 2h14c1.1 0 2-.9 2-2V5c0-1.1-.9-2-2-2zM9 17H7v-7h2v7zm4 0h-2V7h2v10zm4 0h-2v-4h2v4z\"/>\n",
       "    </g>\n",
       "</svg>\n",
       "  </button>\n",
       "\n",
       "<style>\n",
       "  .colab-df-quickchart {\n",
       "      --bg-color: #E8F0FE;\n",
       "      --fill-color: #1967D2;\n",
       "      --hover-bg-color: #E2EBFA;\n",
       "      --hover-fill-color: #174EA6;\n",
       "      --disabled-fill-color: #AAA;\n",
       "      --disabled-bg-color: #DDD;\n",
       "  }\n",
       "\n",
       "  [theme=dark] .colab-df-quickchart {\n",
       "      --bg-color: #3B4455;\n",
       "      --fill-color: #D2E3FC;\n",
       "      --hover-bg-color: #434B5C;\n",
       "      --hover-fill-color: #FFFFFF;\n",
       "      --disabled-bg-color: #3B4455;\n",
       "      --disabled-fill-color: #666;\n",
       "  }\n",
       "\n",
       "  .colab-df-quickchart {\n",
       "    background-color: var(--bg-color);\n",
       "    border: none;\n",
       "    border-radius: 50%;\n",
       "    cursor: pointer;\n",
       "    display: none;\n",
       "    fill: var(--fill-color);\n",
       "    height: 32px;\n",
       "    padding: 0;\n",
       "    width: 32px;\n",
       "  }\n",
       "\n",
       "  .colab-df-quickchart:hover {\n",
       "    background-color: var(--hover-bg-color);\n",
       "    box-shadow: 0 1px 2px rgba(60, 64, 67, 0.3), 0 1px 3px 1px rgba(60, 64, 67, 0.15);\n",
       "    fill: var(--button-hover-fill-color);\n",
       "  }\n",
       "\n",
       "  .colab-df-quickchart-complete:disabled,\n",
       "  .colab-df-quickchart-complete:disabled:hover {\n",
       "    background-color: var(--disabled-bg-color);\n",
       "    fill: var(--disabled-fill-color);\n",
       "    box-shadow: none;\n",
       "  }\n",
       "\n",
       "  .colab-df-spinner {\n",
       "    border: 2px solid var(--fill-color);\n",
       "    border-color: transparent;\n",
       "    border-bottom-color: var(--fill-color);\n",
       "    animation:\n",
       "      spin 1s steps(1) infinite;\n",
       "  }\n",
       "\n",
       "  @keyframes spin {\n",
       "    0% {\n",
       "      border-color: transparent;\n",
       "      border-bottom-color: var(--fill-color);\n",
       "      border-left-color: var(--fill-color);\n",
       "    }\n",
       "    20% {\n",
       "      border-color: transparent;\n",
       "      border-left-color: var(--fill-color);\n",
       "      border-top-color: var(--fill-color);\n",
       "    }\n",
       "    30% {\n",
       "      border-color: transparent;\n",
       "      border-left-color: var(--fill-color);\n",
       "      border-top-color: var(--fill-color);\n",
       "      border-right-color: var(--fill-color);\n",
       "    }\n",
       "    40% {\n",
       "      border-color: transparent;\n",
       "      border-right-color: var(--fill-color);\n",
       "      border-top-color: var(--fill-color);\n",
       "    }\n",
       "    60% {\n",
       "      border-color: transparent;\n",
       "      border-right-color: var(--fill-color);\n",
       "    }\n",
       "    80% {\n",
       "      border-color: transparent;\n",
       "      border-right-color: var(--fill-color);\n",
       "      border-bottom-color: var(--fill-color);\n",
       "    }\n",
       "    90% {\n",
       "      border-color: transparent;\n",
       "      border-bottom-color: var(--fill-color);\n",
       "    }\n",
       "  }\n",
       "</style>\n",
       "\n",
       "  <script>\n",
       "    async function quickchart(key) {\n",
       "      const quickchartButtonEl =\n",
       "        document.querySelector('#' + key + ' button');\n",
       "      quickchartButtonEl.disabled = true;  // To prevent multiple clicks.\n",
       "      quickchartButtonEl.classList.add('colab-df-spinner');\n",
       "      try {\n",
       "        const charts = await google.colab.kernel.invokeFunction(\n",
       "            'suggestCharts', [key], {});\n",
       "      } catch (error) {\n",
       "        console.error('Error during call to suggestCharts:', error);\n",
       "      }\n",
       "      quickchartButtonEl.classList.remove('colab-df-spinner');\n",
       "      quickchartButtonEl.classList.add('colab-df-quickchart-complete');\n",
       "    }\n",
       "    (() => {\n",
       "      let quickchartButtonEl =\n",
       "        document.querySelector('#df-e4e5303b-e20c-4533-a98e-fa458b1dedf6 button');\n",
       "      quickchartButtonEl.style.display =\n",
       "        google.colab.kernel.accessAllowed ? 'block' : 'none';\n",
       "    })();\n",
       "  </script>\n",
       "</div>\n",
       "\n",
       "    </div>\n",
       "  </div>\n"
      ],
      "text/plain": [
       "          DOB  Height  Weight  Systolic BP  Diastolic BP Gender        BMI  \\\n",
       "0  26-04-1953   180.0   81.67         97.0     79.858324      F  25.206790   \n",
       "1  02-08-1956   177.0   43.02        113.0     79.858324      F  13.731686   \n",
       "2  08-06-1964   167.0   30.44        137.0     99.000000      M  10.914698   \n",
       "3  24-12-1942   157.0   61.41        119.0     71.000000      F  24.913790   \n",
       "4  30-04-1935   167.0   55.79        121.0     72.000000      M  20.004303   \n",
       "\n",
       "   Patient_ID  \n",
       "0           1  \n",
       "1           2  \n",
       "2           3  \n",
       "3           4  \n",
       "4           5  "
      ]
     },
     "execution_count": 89,
     "metadata": {},
     "output_type": "execute_result"
    }
   ],
   "source": [
    "# Generating unique IDs and removing names\n",
    "patient_df['Patient_ID'] = range(1, len(patient_df) + 1)\n",
    "patient_df.drop(['Name', 'Firstname', 'Surname'], axis=1, inplace=True)\n",
    "patient_df.head()"
   ]
  },
  {
   "cell_type": "markdown",
   "id": "9fe42c26-ff88-4712-b177-824685cb66e3",
   "metadata": {
    "id": "9fe42c26-ff88-4712-b177-824685cb66e3"
   },
   "source": [
    "### Remove day and month (year of birth) , then create a column for age.\n",
    "\n",
    "To further anonymize the data, we can remove exact dates of birth and instead use age."
   ]
  },
  {
   "cell_type": "code",
   "execution_count": null,
   "id": "9d5571fb-4e13-4c38-b739-8f03381be4c2",
   "metadata": {
    "colab": {
     "base_uri": "https://localhost:8080/",
     "height": 262
    },
    "executionInfo": {
     "elapsed": 58,
     "status": "ok",
     "timestamp": 1740067333277,
     "user": {
      "displayName": "Kheerthiharan Saravanan",
      "userId": "07635665106801978897"
     },
     "user_tz": 0
    },
    "id": "9d5571fb-4e13-4c38-b739-8f03381be4c2",
    "outputId": "e440cab3-d449-45ce-c31c-f146787d798b"
   },
   "outputs": [
    {
     "name": "stderr",
     "output_type": "stream",
     "text": [
      "<ipython-input-90-23496e8728a6>:3: UserWarning: Parsing dates in %d-%m-%Y format when dayfirst=False (the default) was specified. Pass `dayfirst=True` or specify a format to silence this warning.\n",
      "  patient_df['Year_of_Birth'] = pd.to_datetime(patient_df['DOB']).dt.year\n"
     ]
    },
    {
     "data": {
      "application/vnd.google.colaboratory.intrinsic+json": {
       "summary": "{\n  \"name\": \"patient_df\",\n  \"rows\": 10000,\n  \"fields\": [\n    {\n      \"column\": \"Height\",\n      \"properties\": {\n        \"dtype\": \"number\",\n        \"std\": 9.10231042109557,\n        \"min\": 150.0,\n        \"max\": 200.0,\n        \"num_unique_values\": 52,\n        \"samples\": [\n          188.0,\n          156.0,\n          200.0\n        ],\n        \"semantic_type\": \"\",\n        \"description\": \"\"\n      }\n    },\n    {\n      \"column\": \"Weight\",\n      \"properties\": {\n        \"dtype\": \"number\",\n        \"std\": 13.882012348886077,\n        \"min\": 4.41,\n        \"max\": 122.84,\n        \"num_unique_values\": 4453,\n        \"samples\": [\n          40.13,\n          55.64,\n          59.2\n        ],\n        \"semantic_type\": \"\",\n        \"description\": \"\"\n      }\n    },\n    {\n      \"column\": \"Systolic BP\",\n      \"properties\": {\n        \"dtype\": \"number\",\n        \"std\": 19.023889100088134,\n        \"min\": 90.0,\n        \"max\": 160.0,\n        \"num_unique_values\": 72,\n        \"samples\": [\n          121.0,\n          126.0,\n          107.0\n        ],\n        \"semantic_type\": \"\",\n        \"description\": \"\"\n      }\n    },\n    {\n      \"column\": \"Diastolic BP\",\n      \"properties\": {\n        \"dtype\": \"number\",\n        \"std\": 10.939461831760566,\n        \"min\": 60.0,\n        \"max\": 100.0,\n        \"num_unique_values\": 42,\n        \"samples\": [\n          84.0,\n          68.0,\n          62.0\n        ],\n        \"semantic_type\": \"\",\n        \"description\": \"\"\n      }\n    },\n    {\n      \"column\": \"Gender\",\n      \"properties\": {\n        \"dtype\": \"category\",\n        \"num_unique_values\": 2,\n        \"samples\": [\n          \"M\",\n          \"F\"\n        ],\n        \"semantic_type\": \"\",\n        \"description\": \"\"\n      }\n    },\n    {\n      \"column\": \"BMI\",\n      \"properties\": {\n        \"dtype\": \"number\",\n        \"std\": 5.42427770425405,\n        \"min\": 1.331360946745562,\n        \"max\": 48.99995943040285,\n        \"num_unique_values\": 8415,\n        \"samples\": [\n          15.958049886621318,\n          17.46214169821525\n        ],\n        \"semantic_type\": \"\",\n        \"description\": \"\"\n      }\n    },\n    {\n      \"column\": \"Patient_ID\",\n      \"properties\": {\n        \"dtype\": \"number\",\n        \"std\": 2886,\n        \"min\": 1,\n        \"max\": 10000,\n        \"num_unique_values\": 10000,\n        \"samples\": [\n          6253,\n          4685\n        ],\n        \"semantic_type\": \"\",\n        \"description\": \"\"\n      }\n    },\n    {\n      \"column\": \"Age\",\n      \"properties\": {\n        \"dtype\": \"int32\",\n        \"num_unique_values\": 76,\n        \"samples\": [\n          90,\n          40\n        ],\n        \"semantic_type\": \"\",\n        \"description\": \"\"\n      }\n    }\n  ]\n}",
       "type": "dataframe",
       "variable_name": "patient_df"
      },
      "text/html": [
       "\n",
       "  <div id=\"df-14be8ebe-f930-464a-8480-23ae4d63f32f\" class=\"colab-df-container\">\n",
       "    <div>\n",
       "<style scoped>\n",
       "    .dataframe tbody tr th:only-of-type {\n",
       "        vertical-align: middle;\n",
       "    }\n",
       "\n",
       "    .dataframe tbody tr th {\n",
       "        vertical-align: top;\n",
       "    }\n",
       "\n",
       "    .dataframe thead th {\n",
       "        text-align: right;\n",
       "    }\n",
       "</style>\n",
       "<table border=\"1\" class=\"dataframe\">\n",
       "  <thead>\n",
       "    <tr style=\"text-align: right;\">\n",
       "      <th></th>\n",
       "      <th>Height</th>\n",
       "      <th>Weight</th>\n",
       "      <th>Systolic BP</th>\n",
       "      <th>Diastolic BP</th>\n",
       "      <th>Gender</th>\n",
       "      <th>BMI</th>\n",
       "      <th>Patient_ID</th>\n",
       "      <th>Age</th>\n",
       "    </tr>\n",
       "  </thead>\n",
       "  <tbody>\n",
       "    <tr>\n",
       "      <th>0</th>\n",
       "      <td>180.0</td>\n",
       "      <td>81.67</td>\n",
       "      <td>97.0</td>\n",
       "      <td>79.858324</td>\n",
       "      <td>F</td>\n",
       "      <td>25.206790</td>\n",
       "      <td>1</td>\n",
       "      <td>72</td>\n",
       "    </tr>\n",
       "    <tr>\n",
       "      <th>1</th>\n",
       "      <td>177.0</td>\n",
       "      <td>43.02</td>\n",
       "      <td>113.0</td>\n",
       "      <td>79.858324</td>\n",
       "      <td>F</td>\n",
       "      <td>13.731686</td>\n",
       "      <td>2</td>\n",
       "      <td>69</td>\n",
       "    </tr>\n",
       "    <tr>\n",
       "      <th>2</th>\n",
       "      <td>167.0</td>\n",
       "      <td>30.44</td>\n",
       "      <td>137.0</td>\n",
       "      <td>99.000000</td>\n",
       "      <td>M</td>\n",
       "      <td>10.914698</td>\n",
       "      <td>3</td>\n",
       "      <td>61</td>\n",
       "    </tr>\n",
       "    <tr>\n",
       "      <th>3</th>\n",
       "      <td>157.0</td>\n",
       "      <td>61.41</td>\n",
       "      <td>119.0</td>\n",
       "      <td>71.000000</td>\n",
       "      <td>F</td>\n",
       "      <td>24.913790</td>\n",
       "      <td>4</td>\n",
       "      <td>83</td>\n",
       "    </tr>\n",
       "    <tr>\n",
       "      <th>4</th>\n",
       "      <td>167.0</td>\n",
       "      <td>55.79</td>\n",
       "      <td>121.0</td>\n",
       "      <td>72.000000</td>\n",
       "      <td>M</td>\n",
       "      <td>20.004303</td>\n",
       "      <td>5</td>\n",
       "      <td>90</td>\n",
       "    </tr>\n",
       "  </tbody>\n",
       "</table>\n",
       "</div>\n",
       "    <div class=\"colab-df-buttons\">\n",
       "\n",
       "  <div class=\"colab-df-container\">\n",
       "    <button class=\"colab-df-convert\" onclick=\"convertToInteractive('df-14be8ebe-f930-464a-8480-23ae4d63f32f')\"\n",
       "            title=\"Convert this dataframe to an interactive table.\"\n",
       "            style=\"display:none;\">\n",
       "\n",
       "  <svg xmlns=\"http://www.w3.org/2000/svg\" height=\"24px\" viewBox=\"0 -960 960 960\">\n",
       "    <path d=\"M120-120v-720h720v720H120Zm60-500h600v-160H180v160Zm220 220h160v-160H400v160Zm0 220h160v-160H400v160ZM180-400h160v-160H180v160Zm440 0h160v-160H620v160ZM180-180h160v-160H180v160Zm440 0h160v-160H620v160Z\"/>\n",
       "  </svg>\n",
       "    </button>\n",
       "\n",
       "  <style>\n",
       "    .colab-df-container {\n",
       "      display:flex;\n",
       "      gap: 12px;\n",
       "    }\n",
       "\n",
       "    .colab-df-convert {\n",
       "      background-color: #E8F0FE;\n",
       "      border: none;\n",
       "      border-radius: 50%;\n",
       "      cursor: pointer;\n",
       "      display: none;\n",
       "      fill: #1967D2;\n",
       "      height: 32px;\n",
       "      padding: 0 0 0 0;\n",
       "      width: 32px;\n",
       "    }\n",
       "\n",
       "    .colab-df-convert:hover {\n",
       "      background-color: #E2EBFA;\n",
       "      box-shadow: 0px 1px 2px rgba(60, 64, 67, 0.3), 0px 1px 3px 1px rgba(60, 64, 67, 0.15);\n",
       "      fill: #174EA6;\n",
       "    }\n",
       "\n",
       "    .colab-df-buttons div {\n",
       "      margin-bottom: 4px;\n",
       "    }\n",
       "\n",
       "    [theme=dark] .colab-df-convert {\n",
       "      background-color: #3B4455;\n",
       "      fill: #D2E3FC;\n",
       "    }\n",
       "\n",
       "    [theme=dark] .colab-df-convert:hover {\n",
       "      background-color: #434B5C;\n",
       "      box-shadow: 0px 1px 3px 1px rgba(0, 0, 0, 0.15);\n",
       "      filter: drop-shadow(0px 1px 2px rgba(0, 0, 0, 0.3));\n",
       "      fill: #FFFFFF;\n",
       "    }\n",
       "  </style>\n",
       "\n",
       "    <script>\n",
       "      const buttonEl =\n",
       "        document.querySelector('#df-14be8ebe-f930-464a-8480-23ae4d63f32f button.colab-df-convert');\n",
       "      buttonEl.style.display =\n",
       "        google.colab.kernel.accessAllowed ? 'block' : 'none';\n",
       "\n",
       "      async function convertToInteractive(key) {\n",
       "        const element = document.querySelector('#df-14be8ebe-f930-464a-8480-23ae4d63f32f');\n",
       "        const dataTable =\n",
       "          await google.colab.kernel.invokeFunction('convertToInteractive',\n",
       "                                                    [key], {});\n",
       "        if (!dataTable) return;\n",
       "\n",
       "        const docLinkHtml = 'Like what you see? Visit the ' +\n",
       "          '<a target=\"_blank\" href=https://colab.research.google.com/notebooks/data_table.ipynb>data table notebook</a>'\n",
       "          + ' to learn more about interactive tables.';\n",
       "        element.innerHTML = '';\n",
       "        dataTable['output_type'] = 'display_data';\n",
       "        await google.colab.output.renderOutput(dataTable, element);\n",
       "        const docLink = document.createElement('div');\n",
       "        docLink.innerHTML = docLinkHtml;\n",
       "        element.appendChild(docLink);\n",
       "      }\n",
       "    </script>\n",
       "  </div>\n",
       "\n",
       "\n",
       "<div id=\"df-ac297e91-bb30-4662-9dca-30b5d0fb4cb2\">\n",
       "  <button class=\"colab-df-quickchart\" onclick=\"quickchart('df-ac297e91-bb30-4662-9dca-30b5d0fb4cb2')\"\n",
       "            title=\"Suggest charts\"\n",
       "            style=\"display:none;\">\n",
       "\n",
       "<svg xmlns=\"http://www.w3.org/2000/svg\" height=\"24px\"viewBox=\"0 0 24 24\"\n",
       "     width=\"24px\">\n",
       "    <g>\n",
       "        <path d=\"M19 3H5c-1.1 0-2 .9-2 2v14c0 1.1.9 2 2 2h14c1.1 0 2-.9 2-2V5c0-1.1-.9-2-2-2zM9 17H7v-7h2v7zm4 0h-2V7h2v10zm4 0h-2v-4h2v4z\"/>\n",
       "    </g>\n",
       "</svg>\n",
       "  </button>\n",
       "\n",
       "<style>\n",
       "  .colab-df-quickchart {\n",
       "      --bg-color: #E8F0FE;\n",
       "      --fill-color: #1967D2;\n",
       "      --hover-bg-color: #E2EBFA;\n",
       "      --hover-fill-color: #174EA6;\n",
       "      --disabled-fill-color: #AAA;\n",
       "      --disabled-bg-color: #DDD;\n",
       "  }\n",
       "\n",
       "  [theme=dark] .colab-df-quickchart {\n",
       "      --bg-color: #3B4455;\n",
       "      --fill-color: #D2E3FC;\n",
       "      --hover-bg-color: #434B5C;\n",
       "      --hover-fill-color: #FFFFFF;\n",
       "      --disabled-bg-color: #3B4455;\n",
       "      --disabled-fill-color: #666;\n",
       "  }\n",
       "\n",
       "  .colab-df-quickchart {\n",
       "    background-color: var(--bg-color);\n",
       "    border: none;\n",
       "    border-radius: 50%;\n",
       "    cursor: pointer;\n",
       "    display: none;\n",
       "    fill: var(--fill-color);\n",
       "    height: 32px;\n",
       "    padding: 0;\n",
       "    width: 32px;\n",
       "  }\n",
       "\n",
       "  .colab-df-quickchart:hover {\n",
       "    background-color: var(--hover-bg-color);\n",
       "    box-shadow: 0 1px 2px rgba(60, 64, 67, 0.3), 0 1px 3px 1px rgba(60, 64, 67, 0.15);\n",
       "    fill: var(--button-hover-fill-color);\n",
       "  }\n",
       "\n",
       "  .colab-df-quickchart-complete:disabled,\n",
       "  .colab-df-quickchart-complete:disabled:hover {\n",
       "    background-color: var(--disabled-bg-color);\n",
       "    fill: var(--disabled-fill-color);\n",
       "    box-shadow: none;\n",
       "  }\n",
       "\n",
       "  .colab-df-spinner {\n",
       "    border: 2px solid var(--fill-color);\n",
       "    border-color: transparent;\n",
       "    border-bottom-color: var(--fill-color);\n",
       "    animation:\n",
       "      spin 1s steps(1) infinite;\n",
       "  }\n",
       "\n",
       "  @keyframes spin {\n",
       "    0% {\n",
       "      border-color: transparent;\n",
       "      border-bottom-color: var(--fill-color);\n",
       "      border-left-color: var(--fill-color);\n",
       "    }\n",
       "    20% {\n",
       "      border-color: transparent;\n",
       "      border-left-color: var(--fill-color);\n",
       "      border-top-color: var(--fill-color);\n",
       "    }\n",
       "    30% {\n",
       "      border-color: transparent;\n",
       "      border-left-color: var(--fill-color);\n",
       "      border-top-color: var(--fill-color);\n",
       "      border-right-color: var(--fill-color);\n",
       "    }\n",
       "    40% {\n",
       "      border-color: transparent;\n",
       "      border-right-color: var(--fill-color);\n",
       "      border-top-color: var(--fill-color);\n",
       "    }\n",
       "    60% {\n",
       "      border-color: transparent;\n",
       "      border-right-color: var(--fill-color);\n",
       "    }\n",
       "    80% {\n",
       "      border-color: transparent;\n",
       "      border-right-color: var(--fill-color);\n",
       "      border-bottom-color: var(--fill-color);\n",
       "    }\n",
       "    90% {\n",
       "      border-color: transparent;\n",
       "      border-bottom-color: var(--fill-color);\n",
       "    }\n",
       "  }\n",
       "</style>\n",
       "\n",
       "  <script>\n",
       "    async function quickchart(key) {\n",
       "      const quickchartButtonEl =\n",
       "        document.querySelector('#' + key + ' button');\n",
       "      quickchartButtonEl.disabled = true;  // To prevent multiple clicks.\n",
       "      quickchartButtonEl.classList.add('colab-df-spinner');\n",
       "      try {\n",
       "        const charts = await google.colab.kernel.invokeFunction(\n",
       "            'suggestCharts', [key], {});\n",
       "      } catch (error) {\n",
       "        console.error('Error during call to suggestCharts:', error);\n",
       "      }\n",
       "      quickchartButtonEl.classList.remove('colab-df-spinner');\n",
       "      quickchartButtonEl.classList.add('colab-df-quickchart-complete');\n",
       "    }\n",
       "    (() => {\n",
       "      let quickchartButtonEl =\n",
       "        document.querySelector('#df-ac297e91-bb30-4662-9dca-30b5d0fb4cb2 button');\n",
       "      quickchartButtonEl.style.display =\n",
       "        google.colab.kernel.accessAllowed ? 'block' : 'none';\n",
       "    })();\n",
       "  </script>\n",
       "</div>\n",
       "\n",
       "    </div>\n",
       "  </div>\n"
      ],
      "text/plain": [
       "   Height  Weight  Systolic BP  Diastolic BP Gender        BMI  Patient_ID  \\\n",
       "0   180.0   81.67         97.0     79.858324      F  25.206790           1   \n",
       "1   177.0   43.02        113.0     79.858324      F  13.731686           2   \n",
       "2   167.0   30.44        137.0     99.000000      M  10.914698           3   \n",
       "3   157.0   61.41        119.0     71.000000      F  24.913790           4   \n",
       "4   167.0   55.79        121.0     72.000000      M  20.004303           5   \n",
       "\n",
       "   Age  \n",
       "0   72  \n",
       "1   69  \n",
       "2   61  \n",
       "3   83  \n",
       "4   90  "
      ]
     },
     "execution_count": 90,
     "metadata": {},
     "output_type": "execute_result"
    }
   ],
   "source": [
    "# Removing day and month from DOB and calculating age\n",
    "current_year = pd.Timestamp('now').year\n",
    "patient_df['Year_of_Birth'] = pd.to_datetime(patient_df['DOB']).dt.year\n",
    "patient_df['Age'] = current_year - patient_df['Year_of_Birth']\n",
    "patient_df.drop(['DOB', 'Year_of_Birth'], axis=1, inplace=True)\n",
    "patient_df.head()"
   ]
  },
  {
   "cell_type": "markdown",
   "id": "c5b3e606-1f65-49e8-8fe5-79feeb843001",
   "metadata": {
    "id": "c5b3e606-1f65-49e8-8fe5-79feeb843001",
    "tags": []
   },
   "source": [
    "## Data Exploration"
   ]
  },
  {
   "cell_type": "markdown",
   "id": "320c9849-7b1d-463c-9c48-852c60ee39c5",
   "metadata": {
    "id": "320c9849-7b1d-463c-9c48-852c60ee39c5",
    "tags": []
   },
   "source": [
    "In our data exploration, we don't hope to find any meaningful patterns since the the random generation we have used is simple and not tailored to reflect true distributions found in various demographic groups. A synthetic dataset designed with distinct generation criteria for each demographic would be required for more meaningful insights."
   ]
  },
  {
   "cell_type": "code",
   "execution_count": null,
   "id": "9ddcfb1c-79c4-49f3-8f21-b135af25aefa",
   "metadata": {
    "colab": {
     "base_uri": "https://localhost:8080/",
     "height": 300
    },
    "executionInfo": {
     "elapsed": 43,
     "status": "ok",
     "timestamp": 1740067334376,
     "user": {
      "displayName": "Kheerthiharan Saravanan",
      "userId": "07635665106801978897"
     },
     "user_tz": 0
    },
    "id": "9ddcfb1c-79c4-49f3-8f21-b135af25aefa",
    "outputId": "2eca4b8b-4f5c-4565-b4b6-d82910fd31ad"
   },
   "outputs": [
    {
     "data": {
      "application/vnd.google.colaboratory.intrinsic+json": {
       "summary": "{\n  \"name\": \"patient_df\",\n  \"rows\": 8,\n  \"fields\": [\n    {\n      \"column\": \"Height\",\n      \"properties\": {\n        \"dtype\": \"number\",\n        \"std\": 3483.6203713734503,\n        \"min\": 9.10231042109557,\n        \"max\": 10000.0,\n        \"num_unique_values\": 7,\n        \"samples\": [\n          10000.0,\n          169.7240980573543,\n          175.0\n        ],\n        \"semantic_type\": \"\",\n        \"description\": \"\"\n      }\n    },\n    {\n      \"column\": \"Weight\",\n      \"properties\": {\n        \"dtype\": \"number\",\n        \"std\": 3516.083000659573,\n        \"min\": 4.41,\n        \"max\": 10000.0,\n        \"num_unique_values\": 8,\n        \"samples\": [\n          61.91947032916087,\n          61.91947032916088,\n          10000.0\n        ],\n        \"semantic_type\": \"\",\n        \"description\": \"\"\n      }\n    },\n    {\n      \"column\": \"Systolic BP\",\n      \"properties\": {\n        \"dtype\": \"number\",\n        \"std\": 3496.858282690417,\n        \"min\": 19.023889100088134,\n        \"max\": 10000.0,\n        \"num_unique_values\": 7,\n        \"samples\": [\n          10000.0,\n          125.39536787928412,\n          140.0\n        ],\n        \"semantic_type\": \"\",\n        \"description\": \"\"\n      }\n    },\n    {\n      \"column\": \"Diastolic BP\",\n      \"properties\": {\n        \"dtype\": \"number\",\n        \"std\": 3510.9044157279254,\n        \"min\": 10.939461831760566,\n        \"max\": 10000.0,\n        \"num_unique_values\": 7,\n        \"samples\": [\n          10000.0,\n          79.85832363213038,\n          88.0\n        ],\n        \"semantic_type\": \"\",\n        \"description\": \"\"\n      }\n    },\n    {\n      \"column\": \"BMI\",\n      \"properties\": {\n        \"dtype\": \"number\",\n        \"std\": 3528.383069676441,\n        \"min\": 1.331360946745562,\n        \"max\": 10000.0,\n        \"num_unique_values\": 8,\n        \"samples\": [\n          21.68337203016895,\n          21.49513681810479,\n          10000.0\n        ],\n        \"semantic_type\": \"\",\n        \"description\": \"\"\n      }\n    },\n    {\n      \"column\": \"Patient_ID\",\n      \"properties\": {\n        \"dtype\": \"number\",\n        \"std\": 3603.743586536124,\n        \"min\": 1.0,\n        \"max\": 10000.0,\n        \"num_unique_values\": 6,\n        \"samples\": [\n          10000.0,\n          5000.5,\n          7500.25\n        ],\n        \"semantic_type\": \"\",\n        \"description\": \"\"\n      }\n    },\n    {\n      \"column\": \"Age\",\n      \"properties\": {\n        \"dtype\": \"number\",\n        \"std\": 3516.2504673844874,\n        \"min\": 21.620589411453373,\n        \"max\": 10000.0,\n        \"num_unique_values\": 8,\n        \"samples\": [\n          60.0957,\n          60.0,\n          10000.0\n        ],\n        \"semantic_type\": \"\",\n        \"description\": \"\"\n      }\n    }\n  ]\n}",
       "type": "dataframe"
      },
      "text/html": [
       "\n",
       "  <div id=\"df-70417a2b-cf9d-496f-85f6-f51e650c392c\" class=\"colab-df-container\">\n",
       "    <div>\n",
       "<style scoped>\n",
       "    .dataframe tbody tr th:only-of-type {\n",
       "        vertical-align: middle;\n",
       "    }\n",
       "\n",
       "    .dataframe tbody tr th {\n",
       "        vertical-align: top;\n",
       "    }\n",
       "\n",
       "    .dataframe thead th {\n",
       "        text-align: right;\n",
       "    }\n",
       "</style>\n",
       "<table border=\"1\" class=\"dataframe\">\n",
       "  <thead>\n",
       "    <tr style=\"text-align: right;\">\n",
       "      <th></th>\n",
       "      <th>Height</th>\n",
       "      <th>Weight</th>\n",
       "      <th>Systolic BP</th>\n",
       "      <th>Diastolic BP</th>\n",
       "      <th>BMI</th>\n",
       "      <th>Patient_ID</th>\n",
       "      <th>Age</th>\n",
       "    </tr>\n",
       "  </thead>\n",
       "  <tbody>\n",
       "    <tr>\n",
       "      <th>count</th>\n",
       "      <td>10000.000000</td>\n",
       "      <td>10000.000000</td>\n",
       "      <td>10000.000000</td>\n",
       "      <td>10000.000000</td>\n",
       "      <td>10000.000000</td>\n",
       "      <td>10000.00000</td>\n",
       "      <td>10000.000000</td>\n",
       "    </tr>\n",
       "    <tr>\n",
       "      <th>mean</th>\n",
       "      <td>169.724098</td>\n",
       "      <td>61.919470</td>\n",
       "      <td>125.395368</td>\n",
       "      <td>79.858324</td>\n",
       "      <td>21.683372</td>\n",
       "      <td>5000.50000</td>\n",
       "      <td>60.095700</td>\n",
       "    </tr>\n",
       "    <tr>\n",
       "      <th>std</th>\n",
       "      <td>9.102310</td>\n",
       "      <td>13.882012</td>\n",
       "      <td>19.023889</td>\n",
       "      <td>10.939462</td>\n",
       "      <td>5.424278</td>\n",
       "      <td>2886.89568</td>\n",
       "      <td>21.620589</td>\n",
       "    </tr>\n",
       "    <tr>\n",
       "      <th>min</th>\n",
       "      <td>150.000000</td>\n",
       "      <td>4.410000</td>\n",
       "      <td>90.000000</td>\n",
       "      <td>60.000000</td>\n",
       "      <td>1.331361</td>\n",
       "      <td>1.00000</td>\n",
       "      <td>23.000000</td>\n",
       "    </tr>\n",
       "    <tr>\n",
       "      <th>25%</th>\n",
       "      <td>164.000000</td>\n",
       "      <td>53.577500</td>\n",
       "      <td>111.000000</td>\n",
       "      <td>71.000000</td>\n",
       "      <td>18.257653</td>\n",
       "      <td>2500.75000</td>\n",
       "      <td>42.000000</td>\n",
       "    </tr>\n",
       "    <tr>\n",
       "      <th>50%</th>\n",
       "      <td>169.724098</td>\n",
       "      <td>61.919470</td>\n",
       "      <td>125.395368</td>\n",
       "      <td>79.858324</td>\n",
       "      <td>21.495137</td>\n",
       "      <td>5000.50000</td>\n",
       "      <td>60.000000</td>\n",
       "    </tr>\n",
       "    <tr>\n",
       "      <th>75%</th>\n",
       "      <td>175.000000</td>\n",
       "      <td>70.252500</td>\n",
       "      <td>140.000000</td>\n",
       "      <td>88.000000</td>\n",
       "      <td>24.962354</td>\n",
       "      <td>7500.25000</td>\n",
       "      <td>79.000000</td>\n",
       "    </tr>\n",
       "    <tr>\n",
       "      <th>max</th>\n",
       "      <td>200.000000</td>\n",
       "      <td>122.840000</td>\n",
       "      <td>160.000000</td>\n",
       "      <td>100.000000</td>\n",
       "      <td>48.999959</td>\n",
       "      <td>10000.00000</td>\n",
       "      <td>98.000000</td>\n",
       "    </tr>\n",
       "  </tbody>\n",
       "</table>\n",
       "</div>\n",
       "    <div class=\"colab-df-buttons\">\n",
       "\n",
       "  <div class=\"colab-df-container\">\n",
       "    <button class=\"colab-df-convert\" onclick=\"convertToInteractive('df-70417a2b-cf9d-496f-85f6-f51e650c392c')\"\n",
       "            title=\"Convert this dataframe to an interactive table.\"\n",
       "            style=\"display:none;\">\n",
       "\n",
       "  <svg xmlns=\"http://www.w3.org/2000/svg\" height=\"24px\" viewBox=\"0 -960 960 960\">\n",
       "    <path d=\"M120-120v-720h720v720H120Zm60-500h600v-160H180v160Zm220 220h160v-160H400v160Zm0 220h160v-160H400v160ZM180-400h160v-160H180v160Zm440 0h160v-160H620v160ZM180-180h160v-160H180v160Zm440 0h160v-160H620v160Z\"/>\n",
       "  </svg>\n",
       "    </button>\n",
       "\n",
       "  <style>\n",
       "    .colab-df-container {\n",
       "      display:flex;\n",
       "      gap: 12px;\n",
       "    }\n",
       "\n",
       "    .colab-df-convert {\n",
       "      background-color: #E8F0FE;\n",
       "      border: none;\n",
       "      border-radius: 50%;\n",
       "      cursor: pointer;\n",
       "      display: none;\n",
       "      fill: #1967D2;\n",
       "      height: 32px;\n",
       "      padding: 0 0 0 0;\n",
       "      width: 32px;\n",
       "    }\n",
       "\n",
       "    .colab-df-convert:hover {\n",
       "      background-color: #E2EBFA;\n",
       "      box-shadow: 0px 1px 2px rgba(60, 64, 67, 0.3), 0px 1px 3px 1px rgba(60, 64, 67, 0.15);\n",
       "      fill: #174EA6;\n",
       "    }\n",
       "\n",
       "    .colab-df-buttons div {\n",
       "      margin-bottom: 4px;\n",
       "    }\n",
       "\n",
       "    [theme=dark] .colab-df-convert {\n",
       "      background-color: #3B4455;\n",
       "      fill: #D2E3FC;\n",
       "    }\n",
       "\n",
       "    [theme=dark] .colab-df-convert:hover {\n",
       "      background-color: #434B5C;\n",
       "      box-shadow: 0px 1px 3px 1px rgba(0, 0, 0, 0.15);\n",
       "      filter: drop-shadow(0px 1px 2px rgba(0, 0, 0, 0.3));\n",
       "      fill: #FFFFFF;\n",
       "    }\n",
       "  </style>\n",
       "\n",
       "    <script>\n",
       "      const buttonEl =\n",
       "        document.querySelector('#df-70417a2b-cf9d-496f-85f6-f51e650c392c button.colab-df-convert');\n",
       "      buttonEl.style.display =\n",
       "        google.colab.kernel.accessAllowed ? 'block' : 'none';\n",
       "\n",
       "      async function convertToInteractive(key) {\n",
       "        const element = document.querySelector('#df-70417a2b-cf9d-496f-85f6-f51e650c392c');\n",
       "        const dataTable =\n",
       "          await google.colab.kernel.invokeFunction('convertToInteractive',\n",
       "                                                    [key], {});\n",
       "        if (!dataTable) return;\n",
       "\n",
       "        const docLinkHtml = 'Like what you see? Visit the ' +\n",
       "          '<a target=\"_blank\" href=https://colab.research.google.com/notebooks/data_table.ipynb>data table notebook</a>'\n",
       "          + ' to learn more about interactive tables.';\n",
       "        element.innerHTML = '';\n",
       "        dataTable['output_type'] = 'display_data';\n",
       "        await google.colab.output.renderOutput(dataTable, element);\n",
       "        const docLink = document.createElement('div');\n",
       "        docLink.innerHTML = docLinkHtml;\n",
       "        element.appendChild(docLink);\n",
       "      }\n",
       "    </script>\n",
       "  </div>\n",
       "\n",
       "\n",
       "<div id=\"df-fd041c7a-998d-42ae-aa47-d5080285e39a\">\n",
       "  <button class=\"colab-df-quickchart\" onclick=\"quickchart('df-fd041c7a-998d-42ae-aa47-d5080285e39a')\"\n",
       "            title=\"Suggest charts\"\n",
       "            style=\"display:none;\">\n",
       "\n",
       "<svg xmlns=\"http://www.w3.org/2000/svg\" height=\"24px\"viewBox=\"0 0 24 24\"\n",
       "     width=\"24px\">\n",
       "    <g>\n",
       "        <path d=\"M19 3H5c-1.1 0-2 .9-2 2v14c0 1.1.9 2 2 2h14c1.1 0 2-.9 2-2V5c0-1.1-.9-2-2-2zM9 17H7v-7h2v7zm4 0h-2V7h2v10zm4 0h-2v-4h2v4z\"/>\n",
       "    </g>\n",
       "</svg>\n",
       "  </button>\n",
       "\n",
       "<style>\n",
       "  .colab-df-quickchart {\n",
       "      --bg-color: #E8F0FE;\n",
       "      --fill-color: #1967D2;\n",
       "      --hover-bg-color: #E2EBFA;\n",
       "      --hover-fill-color: #174EA6;\n",
       "      --disabled-fill-color: #AAA;\n",
       "      --disabled-bg-color: #DDD;\n",
       "  }\n",
       "\n",
       "  [theme=dark] .colab-df-quickchart {\n",
       "      --bg-color: #3B4455;\n",
       "      --fill-color: #D2E3FC;\n",
       "      --hover-bg-color: #434B5C;\n",
       "      --hover-fill-color: #FFFFFF;\n",
       "      --disabled-bg-color: #3B4455;\n",
       "      --disabled-fill-color: #666;\n",
       "  }\n",
       "\n",
       "  .colab-df-quickchart {\n",
       "    background-color: var(--bg-color);\n",
       "    border: none;\n",
       "    border-radius: 50%;\n",
       "    cursor: pointer;\n",
       "    display: none;\n",
       "    fill: var(--fill-color);\n",
       "    height: 32px;\n",
       "    padding: 0;\n",
       "    width: 32px;\n",
       "  }\n",
       "\n",
       "  .colab-df-quickchart:hover {\n",
       "    background-color: var(--hover-bg-color);\n",
       "    box-shadow: 0 1px 2px rgba(60, 64, 67, 0.3), 0 1px 3px 1px rgba(60, 64, 67, 0.15);\n",
       "    fill: var(--button-hover-fill-color);\n",
       "  }\n",
       "\n",
       "  .colab-df-quickchart-complete:disabled,\n",
       "  .colab-df-quickchart-complete:disabled:hover {\n",
       "    background-color: var(--disabled-bg-color);\n",
       "    fill: var(--disabled-fill-color);\n",
       "    box-shadow: none;\n",
       "  }\n",
       "\n",
       "  .colab-df-spinner {\n",
       "    border: 2px solid var(--fill-color);\n",
       "    border-color: transparent;\n",
       "    border-bottom-color: var(--fill-color);\n",
       "    animation:\n",
       "      spin 1s steps(1) infinite;\n",
       "  }\n",
       "\n",
       "  @keyframes spin {\n",
       "    0% {\n",
       "      border-color: transparent;\n",
       "      border-bottom-color: var(--fill-color);\n",
       "      border-left-color: var(--fill-color);\n",
       "    }\n",
       "    20% {\n",
       "      border-color: transparent;\n",
       "      border-left-color: var(--fill-color);\n",
       "      border-top-color: var(--fill-color);\n",
       "    }\n",
       "    30% {\n",
       "      border-color: transparent;\n",
       "      border-left-color: var(--fill-color);\n",
       "      border-top-color: var(--fill-color);\n",
       "      border-right-color: var(--fill-color);\n",
       "    }\n",
       "    40% {\n",
       "      border-color: transparent;\n",
       "      border-right-color: var(--fill-color);\n",
       "      border-top-color: var(--fill-color);\n",
       "    }\n",
       "    60% {\n",
       "      border-color: transparent;\n",
       "      border-right-color: var(--fill-color);\n",
       "    }\n",
       "    80% {\n",
       "      border-color: transparent;\n",
       "      border-right-color: var(--fill-color);\n",
       "      border-bottom-color: var(--fill-color);\n",
       "    }\n",
       "    90% {\n",
       "      border-color: transparent;\n",
       "      border-bottom-color: var(--fill-color);\n",
       "    }\n",
       "  }\n",
       "</style>\n",
       "\n",
       "  <script>\n",
       "    async function quickchart(key) {\n",
       "      const quickchartButtonEl =\n",
       "        document.querySelector('#' + key + ' button');\n",
       "      quickchartButtonEl.disabled = true;  // To prevent multiple clicks.\n",
       "      quickchartButtonEl.classList.add('colab-df-spinner');\n",
       "      try {\n",
       "        const charts = await google.colab.kernel.invokeFunction(\n",
       "            'suggestCharts', [key], {});\n",
       "      } catch (error) {\n",
       "        console.error('Error during call to suggestCharts:', error);\n",
       "      }\n",
       "      quickchartButtonEl.classList.remove('colab-df-spinner');\n",
       "      quickchartButtonEl.classList.add('colab-df-quickchart-complete');\n",
       "    }\n",
       "    (() => {\n",
       "      let quickchartButtonEl =\n",
       "        document.querySelector('#df-fd041c7a-998d-42ae-aa47-d5080285e39a button');\n",
       "      quickchartButtonEl.style.display =\n",
       "        google.colab.kernel.accessAllowed ? 'block' : 'none';\n",
       "    })();\n",
       "  </script>\n",
       "</div>\n",
       "\n",
       "    </div>\n",
       "  </div>\n"
      ],
      "text/plain": [
       "             Height        Weight   Systolic BP  Diastolic BP           BMI  \\\n",
       "count  10000.000000  10000.000000  10000.000000  10000.000000  10000.000000   \n",
       "mean     169.724098     61.919470    125.395368     79.858324     21.683372   \n",
       "std        9.102310     13.882012     19.023889     10.939462      5.424278   \n",
       "min      150.000000      4.410000     90.000000     60.000000      1.331361   \n",
       "25%      164.000000     53.577500    111.000000     71.000000     18.257653   \n",
       "50%      169.724098     61.919470    125.395368     79.858324     21.495137   \n",
       "75%      175.000000     70.252500    140.000000     88.000000     24.962354   \n",
       "max      200.000000    122.840000    160.000000    100.000000     48.999959   \n",
       "\n",
       "        Patient_ID           Age  \n",
       "count  10000.00000  10000.000000  \n",
       "mean    5000.50000     60.095700  \n",
       "std     2886.89568     21.620589  \n",
       "min        1.00000     23.000000  \n",
       "25%     2500.75000     42.000000  \n",
       "50%     5000.50000     60.000000  \n",
       "75%     7500.25000     79.000000  \n",
       "max    10000.00000     98.000000  "
      ]
     },
     "execution_count": 91,
     "metadata": {},
     "output_type": "execute_result"
    }
   ],
   "source": [
    "#Let's take a look again at the descriptive statistics of the data, after we performed imputation.\n",
    "patient_df.describe()"
   ]
  },
  {
   "cell_type": "code",
   "execution_count": null,
   "id": "90ff00fd-69ea-4b2c-b98d-ed8d3787a728",
   "metadata": {
    "colab": {
     "base_uri": "https://localhost:8080/"
    },
    "executionInfo": {
     "elapsed": 20,
     "status": "ok",
     "timestamp": 1740067335888,
     "user": {
      "displayName": "Kheerthiharan Saravanan",
      "userId": "07635665106801978897"
     },
     "user_tz": 0
    },
    "id": "90ff00fd-69ea-4b2c-b98d-ed8d3787a728",
    "outputId": "f3ab41d2-a112-48d9-a10d-b618b5562e8d"
   },
   "outputs": [
    {
     "name": "stdout",
     "output_type": "stream",
     "text": [
      "<class 'pandas.core.frame.DataFrame'>\n",
      "Index: 10000 entries, 0 to 9999\n",
      "Data columns (total 8 columns):\n",
      " #   Column        Non-Null Count  Dtype  \n",
      "---  ------        --------------  -----  \n",
      " 0   Height        10000 non-null  float64\n",
      " 1   Weight        10000 non-null  float64\n",
      " 2   Systolic BP   10000 non-null  float64\n",
      " 3   Diastolic BP  10000 non-null  float64\n",
      " 4   Gender        10000 non-null  object \n",
      " 5   BMI           10000 non-null  float64\n",
      " 6   Patient_ID    10000 non-null  int64  \n",
      " 7   Age           10000 non-null  int32  \n",
      "dtypes: float64(5), int32(1), int64(1), object(1)\n",
      "memory usage: 922.1+ KB\n"
     ]
    }
   ],
   "source": [
    "patient_df.info()"
   ]
  },
  {
   "cell_type": "markdown",
   "id": "8e7f8dab-ea6b-49f2-b939-7c48183da3ce",
   "metadata": {
    "id": "8e7f8dab-ea6b-49f2-b939-7c48183da3ce"
   },
   "source": [
    "### Analysis"
   ]
  },
  {
   "cell_type": "markdown",
   "id": "646acfa7-111b-43b1-b873-e758cd15825b",
   "metadata": {
    "id": "646acfa7-111b-43b1-b873-e758cd15825b"
   },
   "source": [
    "### Univariate analysis"
   ]
  },
  {
   "cell_type": "code",
   "execution_count": null,
   "id": "e1149edc-32fc-4b6a-b14e-aa91f6f72c20",
   "metadata": {
    "colab": {
     "base_uri": "https://localhost:8080/",
     "height": 386
    },
    "executionInfo": {
     "elapsed": 792,
     "status": "ok",
     "timestamp": 1740067338110,
     "user": {
      "displayName": "Kheerthiharan Saravanan",
      "userId": "07635665106801978897"
     },
     "user_tz": 0
    },
    "id": "e1149edc-32fc-4b6a-b14e-aa91f6f72c20",
    "outputId": "3b072523-c188-4036-bad2-56aa2fae98d4"
   },
   "outputs": [
    {
     "data": {
      "image/png": "[encoded data removed]",
      "text/plain": [
       "<Figure size 1500x600 with 6 Axes>"
      ]
     },
     "metadata": {},
     "output_type": "display_data"
    }
   ],
   "source": [
    "import matplotlib.pyplot as plt\n",
    "# histograms of numeric columns\n",
    "\n",
    "# plots using matplotlib\n",
    "\n",
    "# Plotting histograms\n",
    "numeric_cols = ['Age', 'Height', 'Weight', 'Systolic BP', 'Diastolic BP', 'BMI']\n",
    "patient_df[numeric_cols].hist(bins=15, figsize=(15, 6), layout=(2, 3))\n",
    "plt.show()\n"
   ]
  },
  {
   "cell_type": "markdown",
   "id": "d38f2014-1157-4990-a5c0-8906fd5c219b",
   "metadata": {
    "id": "d38f2014-1157-4990-a5c0-8906fd5c219b"
   },
   "source": [
    "### Multivariate Analysis"
   ]
  },
  {
   "cell_type": "markdown",
   "id": "bbce338f-c8d6-456b-b2cb-f48444dcdb79",
   "metadata": {
    "id": "bbce338f-c8d6-456b-b2cb-f48444dcdb79"
   },
   "source": [
    "Aim: See what relationships are present in the data between the following variables:\n",
    "- BMI x Gender\n",
    "- BMI x Age\n",
    "- BMI x Gender x Age\n",
    "\n",
    "- Blood Pressure x Gender\n",
    "- Blood Pressure x Age\n",
    "- Blood Pressure x Gender x Age"
   ]
  },
  {
   "cell_type": "code",
   "execution_count": null,
   "id": "e0dc5147-8c35-42b5-9f0f-0dfc68e44b98",
   "metadata": {
    "colab": {
     "base_uri": "https://localhost:8080/",
     "height": 982
    },
    "executionInfo": {
     "elapsed": 501,
     "status": "ok",
     "timestamp": 1740068011752,
     "user": {
      "displayName": "Kheerthiharan Saravanan",
      "userId": "07635665106801978897"
     },
     "user_tz": 0
    },
    "id": "e0dc5147-8c35-42b5-9f0f-0dfc68e44b98",
    "outputId": "a4490791-8f31-4d32-a298-ed2bb3ef8388"
   },
   "outputs": [
    {
     "name": "stdout",
     "output_type": "stream",
     "text": [
      "Pearson Correlation (Age vs BMI): 0.00, p-value: 0.9481\n",
      "Pearson Correlation (Age vs Systolic BP): 0.02, p-value: 0.1302\n",
      "Pearson Correlation (BMI vs Height): -0.43, p-value: 0.0000\n"
     ]
    },
    {
     "data": {
      "image/png": "[encoded data removed]",
      "text/plain": [
       "<Figure size 640x480 with 1 Axes>"
      ]
     },
     "metadata": {},
     "output_type": "display_data"
    },
    {
     "data": {
      "image/png": "[encoded data removed]",
      "text/plain": [
       "<Figure size 640x480 with 1 Axes>"
      ]
     },
     "metadata": {},
     "output_type": "display_data"
    }
   ],
   "source": [
    "# statistical tests (scipy)\n",
    "from scipy import stats\n",
    "import statsmodels.api as sm\n",
    "\n",
    "# Are Age & BMI are correlated?\n",
    "pearson_corr_bmi, p_value_bmi = stats.pearsonr(patient_df['Age'], patient_df['BMI'])\n",
    "print(f\"Pearson Correlation (Age vs BMI): {pearson_corr_bmi:.2f}, p-value: {p_value_bmi:.4f}\")\n",
    "\n",
    "# Are Age and BP correlated?\n",
    "pearson_corr_bp, p_value_bp = stats.pearsonr(patient_df['Age'], patient_df['Systolic BP'])\n",
    "print(f\"Pearson Correlation (Age vs Systolic BP): {pearson_corr_bp:.2f}, p-value: {p_value_bp:.4f}\")\n",
    "\n",
    "# Are BMI and Height correlated?\n",
    "pearson_corr_bmi_height, p_value_bmi_height = stats.pearsonr(patient_df['BMI'], patient_df['Height'])\n",
    "print(f\"Pearson Correlation (BMI vs Height): {pearson_corr_bmi_height:.2f}, p-value: {p_value_bmi_height:.4f}\")\n",
    "\n",
    "\n",
    "# plots using matplotlib\n",
    "\n",
    "# Scatter plot for BMI x Age\n",
    "plt.scatter(patient_df['Age'], patient_df['BMI'])\n",
    "plt.xlabel('Age')\n",
    "plt.ylabel('BMI')\n",
    "plt.title('BMI vs Age')\n",
    "plt.show()\n",
    "\n",
    "# Scatter plot for Blood Pressure x Age\n",
    "plt.scatter(patient_df['Age'], patient_df['Systolic BP'])\n",
    "plt.xlabel('Age')\n",
    "plt.ylabel('Systolic BP')\n",
    "plt.title('Systolic Blood Pressure vs Age')\n",
    "plt.show()"
   ]
  },
  {
   "cell_type": "markdown",
   "id": "4D9jMx3lI8y-",
   "metadata": {
    "id": "4D9jMx3lI8y-"
   },
   "source": [
    "### Interpretation\n",
    "\n",
    "| Pair of Variables      | Correlation (r) | p-value  | Interpretation |\n",
    "|-----------------------|----------------|---------|---------------|\n",
    "| Age vs BMI           | 0.00           | 0.9481  | No correlation between Age and BMI, statistically significant. |\n",
    "| Age vs Systolic BP   | 0.02           | 0.1302  | Very weak correlation, not statistically significant. |\n",
    "| BMI vs Height        | -0.43          | 0.0000  | Moderate negative correlation, highly significant. |\n",
    "\n",
    "BMI vs Height is not a useful comparison, but just an example to show an expected correlation. It occurs due to the height being squared in th formula so it has a larger impact than weight. Taller individuals tend to have a lower BMI unless their weight increases significantly to compensate for dividing by the square of their height in the formula.\n"
   ]
  },
  {
   "cell_type": "markdown",
   "id": "e5e6c4b9-e7f2-4884-b2c4-5132ac9494c0",
   "metadata": {
    "id": "e5e6c4b9-e7f2-4884-b2c4-5132ac9494c0"
   },
   "source": [
    "#### Exercise: Make Plots for other combinations and try and and write a brief summary of the relationships between the variables."
   ]
  },
  {
   "cell_type": "code",
   "execution_count": null,
   "id": "ff9c77c9-394e-4cdc-90f8-0a5eab8216bb",
   "metadata": {
    "id": "ff9c77c9-394e-4cdc-90f8-0a5eab8216bb",
    "tags": []
   },
   "outputs": [],
   "source": [
    "# YOUR CODE -  START\n",
    "\n",
    "\n",
    "# YOUR CODE -  END"
   ]
  },
  {
   "cell_type": "markdown",
   "id": "c9a34830-6b31-4c3b-be51-8c80928ef48e",
   "metadata": {
    "id": "c9a34830-6b31-4c3b-be51-8c80928ef48e"
   },
   "source": [
    "[Your Brief Interpretation Here]"
   ]
  },
  {
   "cell_type": "code",
   "execution_count": null,
   "id": "fe332407-3fb7-4ba9-84d6-384be13ee9dc",
   "metadata": {
    "id": "fe332407-3fb7-4ba9-84d6-384be13ee9dc",
    "tags": []
   },
   "outputs": [],
   "source": [
    "# YOUR CODE -  START\n",
    "\n",
    "\n",
    "# YOUR CODE -  END"
   ]
  },
  {
   "cell_type": "markdown",
   "id": "8763c67d-51d1-4cdb-99c9-c520ccf4aee2",
   "metadata": {
    "id": "8763c67d-51d1-4cdb-99c9-c520ccf4aee2"
   },
   "source": [
    "[Your Brief Interpretation Here]"
   ]
  },
  {
   "cell_type": "markdown",
   "id": "057c1a1b-0e33-48be-a658-fe886f3c525d",
   "metadata": {
    "id": "057c1a1b-0e33-48be-a658-fe886f3c525d",
    "tags": []
   },
   "source": [
    "#### Exercise: Run relevant statistical tests between the other combinations of variables and write a brief Interpretation of each result.\n",
    "\n",
    "There is an example provided below to get you started."
   ]
  },
  {
   "cell_type": "code",
   "execution_count": null,
   "id": "6f9b472d-e474-4a0a-ac34-e23181f55423",
   "metadata": {
    "id": "6f9b472d-e474-4a0a-ac34-e23181f55423"
   },
   "outputs": [],
   "source": [
    "import scipy.stats as stats\n",
    "# Example: T-test for BMI differences between genders\n",
    "male_bmi = patient_df[patient_df['Gender'] == 'M']['BMI']\n",
    "female_bmi = patient_df[patient_df['Gender'] == 'F']['BMI']\n",
    "\n",
    "t_stat, p_val = stats.ttest_ind(male_bmi, female_bmi, nan_policy='omit')\n",
    "print('T-statistic:', t_stat)\n",
    "print('P-value:', p_val)\n"
   ]
  },
  {
   "cell_type": "markdown",
   "id": "97ed204b-7932-4d5a-b046-e6437dd1207d",
   "metadata": {
    "id": "97ed204b-7932-4d5a-b046-e6437dd1207d"
   },
   "source": [
    "The T-statistic is -1.88. The negative sign indicates that the mean BMI of the male group is lower than that of the female group. However, the sign itself doesn't tell us about the statistical significance.\n",
    "\n",
    "The P-value is 0.06. This value represents the probability of observing a test statistic as extreme as, or more extreme than, the one observed, under the assumption that the null hypothesis (no difference in means) is true. The difference in mean BMI between male and female patients in your dataset is not statistically significant at the standard threshold of 0.05."
   ]
  },
  {
   "cell_type": "code",
   "execution_count": null,
   "id": "d44423b8-436e-49d7-9c01-e0bc59d5630b",
   "metadata": {
    "id": "d44423b8-436e-49d7-9c01-e0bc59d5630b"
   },
   "outputs": [],
   "source": [
    "# YOUR CODE -  START\n",
    "\n",
    "\n",
    "# YOUR CODE -  END"
   ]
  },
  {
   "cell_type": "markdown",
   "id": "d9ea9ff3-b252-41db-8d9c-47d8e5dcf5f9",
   "metadata": {
    "id": "d9ea9ff3-b252-41db-8d9c-47d8e5dcf5f9"
   },
   "source": [
    "[Your Brief Interpretation Here]"
   ]
  },
  {
   "cell_type": "markdown",
   "id": "fc0e9d95-19f8-4ff4-829a-e1fc22b94214",
   "metadata": {
    "id": "fc0e9d95-19f8-4ff4-829a-e1fc22b94214"
   },
   "source": [
    "# Real World Dataset"
   ]
  },
  {
   "cell_type": "markdown",
   "id": "b0a3700c-26a4-4089-8bce-66bfa7e39c38",
   "metadata": {
    "id": "b0a3700c-26a4-4089-8bce-66bfa7e39c38"
   },
   "source": [
    "\"The Behavioral Risk Factor Surveillance System (BRFSS) is a health-related telephone survey that is collected annually by the CDC. Each year, the survey collects responses from over 400,000 Americans on health-related risk behaviors, chronic health conditions, and the use of preventative services. It has been conducted every year since 1984. For this project, we have the 2015 dataset. The original dataset contains responses from 441,455 individuals and has 330 features. These features are either questions directly asked of participants, or calculated variables based on individual participant responses.\n",
    "\n",
    "This dataset contains 253,680 survey responses from cleaned BRFSS 2015 to be used primarily for the binary classification of heart disease. Note that there is strong class imbalance in this dataset. 229,787 respondents do not have/have not had heart disease while 23,893 have had heart disease.\" - https://www.kaggle.com/datasets/alexteboul/heart-disease-health-indicators-dataset\n",
    "\n",
    "\n",
    "Here is more information about the dataset to help you understand the variables:\n",
    "\n",
    "Response Variable / Dependent Variable:\n",
    "\n",
    "- Respondents that have ever reported having coronary heart disease (CHD) or myocardial infarction (MI) --> HeartDiseaseorAttack\n",
    "\n",
    "Independent Variables:\n",
    "\n",
    "High Blood Pressure\n",
    "\n",
    "- Adults who have been told they have high blood pressure by a doctor, nurse, or other health professional --> HighBP\n",
    "\n",
    "High Cholesterol\n",
    "\n",
    "- Have you EVER been told by a doctor, nurse or other health professional that your blood cholesterol is high? --> HighChol\n",
    "- Cholesterol check within past five years --> CholCheck\n",
    "\n",
    "BMI\n",
    "\n",
    "- Body Mass Index (BMI) --> BMI\n",
    "\n",
    "Smoking\n",
    "\n",
    "- Have you smoked at least 100 cigarettes in your entire life? [Note: 5 packs = 100 cigarettes] --> Smoker\n",
    "\n",
    "Other Chronic Health Conditions\n",
    "\n",
    "- (Ever told) you had a stroke. --> Stroke\n",
    "- (Ever told) you have diabetes (If \"Yes\" and respondent is female, ask \"Was this only when you were pregnant?\". If Respondent says pre-diabetes or borderline diabetes, use response code 4.) --> Diabetes\n",
    "\n",
    "Physical Activity\n",
    "\n",
    "- Adults who reported doing physical activity or exercise during the past 30 days other than their regular job --> PhysActivity\n",
    "\n",
    "Diet\n",
    "\n",
    "- Consume Fruit 1 or more times per day --> Fruits\n",
    "- Consume Vegetables 1 or more times per day --> Veggies\n",
    "\n",
    "Alcohol Consumption\n",
    "\n",
    "- Heavy drinkers (adult men having more than 14 drinks per week and adult women having more than 7 drinks per week) --> HvyAlcoholConsump\n",
    "\n",
    "Health Care\n",
    "\n",
    "- Do you have any kind of health care coverage, including health insurance, prepaid plans such as HMOs, or government plans such as Medicare, or Indian Health Service? --> AnyHealthcare\n",
    "- Was there a time in the past 12 months when you needed to see a doctor but could not because of cost? --> NoDocbcCost\n",
    "\n",
    "Health General and Mental Health\n",
    "\n",
    "- Would you say that in general your health is: --> GenHlth\n",
    "- Now thinking about your mental health, which includes stress, depression, and problems with emotions, for how many days during the past 30 days was your mental health not good? --> MentHlth\n",
    "- Now thinking about your physical health, which includes physical illness and injury, for how many days during the past 30 days was your physical health not good? --> PHYSHLTH\n",
    "- Do you have serious difficulty walking or climbing stairs? --> DiffWalk\n",
    "\n",
    "Demographics\n",
    "\n",
    "- Indicate sex of respondent. --> Sex\n",
    "- Fourteen-level age category --> Age\n",
    "- What is the highest grade or year of Education you completed? --> Education\n",
    "- Is your annual household income from all sources: (If respondent refuses at any income level, code \"Refused.\") --> Income\n",
    "\n"
   ]
  },
  {
   "cell_type": "markdown",
   "id": "5ee0d63b-cbac-4cf9-8f73-90d5aadd2898",
   "metadata": {
    "id": "5ee0d63b-cbac-4cf9-8f73-90d5aadd2898"
   },
   "source": [
    "Here are some topics to investigate:\n",
    "\n",
    "- **What are the top risk factors for heart disease?**\n",
    "    - Identify which variables (like high blood pressure, cholesterol levels, smoking status, etc.) are most strongly associated with the occurrence of heart disease.\n",
    "    - Determine if certain combinations of risk factors significantly increase the likelihood of developing heart disease.\n",
    "    \n",
    "\n",
    "- **How does the prevalence of heart disease vary with demographic and socioeconomic factors?**\n",
    "    - Analyze the impact of age, sex, education, and income levels on heart disease prevalence.\n",
    "    - Investigate any noticeable trends or patterns among different demographic groups.\n",
    "\n",
    "- **Is there a relationship between lifestyle choices and heart disease?**\n",
    "    - Examine the influence of factors such as physical activity, smoking, and diet (consumption of fruits and vegetables) on heart disease.\n",
    "    - Understand the role of preventive health behaviors (like regular cholesterol checks) in mitigating heart disease risk.\n",
    "\n",
    "- **What is the impact of chronic conditions on heart disease?**\n",
    "    - Assess how chronic conditions like diabetes, stroke, and mental health issues correlate with heart disease.\n",
    "    - Which conditions are most correlated with the risk of developing heart disease.\n",
    "\n",
    "- **How do general health perceptions relate to actual heart disease outcomes?**\n",
    "    - Compare respondents’ self-reported general health status with the occurrence of heart disease.\n",
    "    - Determine if subjective health assessments align with the actual prevalence of heart disease.\n",
    "\n",
    "- **Does accessibility to healthcare affect heart disease prevalence?**\n",
    "    - Investigate if factors like having healthcare coverage or being unable to see a doctor due to cost are associated with heart disease.\n",
    "    - Explore the potential impact of healthcare access on the early detection and management of heart disease.\n",
    "\n"
   ]
  },
  {
   "cell_type": "code",
   "execution_count": null,
   "id": "75e97d2a-46bc-42b7-977a-fbe7ad8f0cf0",
   "metadata": {
    "id": "75e97d2a-46bc-42b7-977a-fbe7ad8f0cf0"
   },
   "outputs": [],
   "source": [
    "heart_disease_df = pd.read_csv('heart_disease_health_indicators_BRFSS2015.csv')\n",
    "heart_disease_df"
   ]
  },
  {
   "cell_type": "code",
   "execution_count": null,
   "id": "d5542c80-a4ca-4f2f-93c3-a589c951b647",
   "metadata": {
    "id": "d5542c80-a4ca-4f2f-93c3-a589c951b647"
   },
   "outputs": [],
   "source": [
    "print(heart_disease_df)"
   ]
  },
  {
   "cell_type": "markdown",
   "id": "1be4bafe-5ea9-48f3-afdf-f5ba93533da8",
   "metadata": {
    "id": "1be4bafe-5ea9-48f3-afdf-f5ba93533da8"
   },
   "source": [
    "- **What are the top risk factors for heart disease?**\n",
    "    - Identify which variables (like high blood pressure, cholesterol levels, smoking status, etc.) are most strongly associated with the occurrence of heart disease.\n",
    "    - Determine if certain combinations of risk factors significantly increase the likelihood of developing heart disease."
   ]
  },
  {
   "cell_type": "code",
   "execution_count": null,
   "id": "50601167-ee94-4916-919f-25d544669548",
   "metadata": {
    "id": "50601167-ee94-4916-919f-25d544669548",
    "tags": []
   },
   "outputs": [],
   "source": [
    "# YOUR CODE -  START\n",
    "\n",
    "\n",
    "# YOUR CODE -  END"
   ]
  },
  {
   "cell_type": "markdown",
   "id": "cd2815d8-9aa6-4daf-aa24-487558f9c05f",
   "metadata": {
    "id": "cd2815d8-9aa6-4daf-aa24-487558f9c05f"
   },
   "source": [
    "(Your Analysis Here)\n"
   ]
  },
  {
   "cell_type": "markdown",
   "id": "28aeb861-cfc2-4a67-a0be-35f479f51282",
   "metadata": {
    "id": "28aeb861-cfc2-4a67-a0be-35f479f51282"
   },
   "source": [
    "- **How does the prevalence of heart disease vary with demographic and socioeconomic factors?**\n",
    "    - Analyse the impact of age, sex, education, and income levels on heart disease prevalence.\n",
    "    - Investigate any noticeable trends or patterns among different demographic groups.\n",
    "\n"
   ]
  },
  {
   "cell_type": "code",
   "execution_count": null,
   "id": "c3e43afc-8cb2-46ab-8ffc-8998060ade9a",
   "metadata": {
    "id": "c3e43afc-8cb2-46ab-8ffc-8998060ade9a"
   },
   "outputs": [],
   "source": [
    "# YOUR CODE -  START\n",
    "\n",
    "\n",
    "# YOUR CODE -  END"
   ]
  },
  {
   "cell_type": "markdown",
   "id": "38b97e67-8689-468c-b938-6ffd29fdf28d",
   "metadata": {
    "id": "38b97e67-8689-468c-b938-6ffd29fdf28d"
   },
   "source": [
    "(Your Analysis Here)"
   ]
  },
  {
   "cell_type": "markdown",
   "id": "b6fc8ae9-9758-4cd9-bb3b-26596be8f472",
   "metadata": {
    "id": "b6fc8ae9-9758-4cd9-bb3b-26596be8f472"
   },
   "source": [
    "- **Is there a relationship between lifestyle choices and heart disease?**\n",
    "    - Examine the influence of factors such as physical activity, smoking, and diet (consumption of fruits and vegetables) on heart disease.\n",
    "    - Understand the role of preventive health behaviors (like regular cholesterol checks) in mitigating heart disease risk.\n",
    "\n"
   ]
  },
  {
   "cell_type": "code",
   "execution_count": null,
   "id": "35664abd-cd8a-450d-a123-4c143af2b1af",
   "metadata": {
    "id": "35664abd-cd8a-450d-a123-4c143af2b1af"
   },
   "outputs": [],
   "source": [
    "# YOUR CODE -  START\n",
    "\n",
    "\n",
    "# YOUR CODE -  END"
   ]
  },
  {
   "cell_type": "markdown",
   "id": "b6e7a84f-2771-4357-9207-f81fdcf98ac9",
   "metadata": {
    "id": "b6e7a84f-2771-4357-9207-f81fdcf98ac9"
   },
   "source": [
    "- **What is the impact of chronic conditions on heart disease?**\n",
    "    - Assess how chronic conditions like diabetes, stroke, and mental health issues correlate with heart disease.\n",
    "    - Which conditions are most correlated with the risk of developing heart disease.\n",
    "\n"
   ]
  },
  {
   "cell_type": "code",
   "execution_count": null,
   "id": "6f44ffdc-5ac3-4e7c-983a-fa0dce2ac77c",
   "metadata": {
    "id": "6f44ffdc-5ac3-4e7c-983a-fa0dce2ac77c"
   },
   "outputs": [],
   "source": [
    "# YOUR CODE -  START\n",
    "\n",
    "\n",
    "# YOUR CODE -  END"
   ]
  },
  {
   "cell_type": "markdown",
   "id": "25a3f744-e20a-49da-a05a-c97cfa6aa56b",
   "metadata": {
    "id": "25a3f744-e20a-49da-a05a-c97cfa6aa56b"
   },
   "source": [
    "(Your Analysis Here)"
   ]
  },
  {
   "cell_type": "markdown",
   "id": "e216d8c3-685c-4feb-b2d6-e0c900a8d503",
   "metadata": {
    "id": "e216d8c3-685c-4feb-b2d6-e0c900a8d503"
   },
   "source": [
    "- **How do general health perceptions relate to actual heart disease outcomes?**\n",
    "    - Compare respondents’ self-reported general health status with the occurrence of heart disease.\n",
    "    - Determine if subjective health assessments align with the actual prevalence of heart disease.\n",
    "\n"
   ]
  },
  {
   "cell_type": "code",
   "execution_count": null,
   "id": "e44a28ef-1295-414d-b558-f6cb3095c243",
   "metadata": {
    "id": "e44a28ef-1295-414d-b558-f6cb3095c243",
    "tags": []
   },
   "outputs": [],
   "source": [
    "# YOUR CODE -  START\n",
    "\n",
    "\n",
    "# YOUR CODE -  END"
   ]
  },
  {
   "cell_type": "markdown",
   "id": "2cfeff94-75cd-44f3-937d-33348e66f283",
   "metadata": {
    "id": "2cfeff94-75cd-44f3-937d-33348e66f283"
   },
   "source": [
    "(Your Analysis Here)"
   ]
  },
  {
   "cell_type": "markdown",
   "id": "3e6ee712-9d88-42b6-85c5-a31873f6264e",
   "metadata": {
    "id": "3e6ee712-9d88-42b6-85c5-a31873f6264e"
   },
   "source": [
    "- **Does accessibility to healthcare affect heart disease prevalence?**\n",
    "    - Investigate if factors like having healthcare coverage or being unable to see a doctor due to cost are associated with heart disease.\n",
    "    - Explore the potential impact of healthcare access on the early detection and management of heart disease."
   ]
  },
  {
   "cell_type": "code",
   "execution_count": null,
   "id": "96acde3b-7def-4558-bbb1-526ed610a44f",
   "metadata": {
    "id": "96acde3b-7def-4558-bbb1-526ed610a44f"
   },
   "outputs": [],
   "source": [
    "# YOUR CODE -  START\n",
    "\n",
    "\n",
    "# YOUR CODE -  END"
   ]
  },
  {
   "cell_type": "markdown",
   "id": "0716c7b3-777c-414f-8e60-e324d83d665e",
   "metadata": {
    "id": "0716c7b3-777c-414f-8e60-e324d83d665e"
   },
   "source": [
    "(Your Analysis here)"
   ]
  },
  {
   "cell_type": "markdown",
   "id": "Wtg3kGTbSszf",
   "metadata": {
    "id": "Wtg3kGTbSszf"
   },
   "source": [
    "Try and come up with your own questions and perform analysis."
   ]
  },
  {
   "cell_type": "code",
   "execution_count": null,
   "id": "sZ634-_9S8sw",
   "metadata": {
    "id": "sZ634-_9S8sw"
   },
   "outputs": [],
   "source": []
  }
 ],
 "metadata": {
  "colab": {
   "provenance": []
  },
  "kernelspec": {
   "display_name": "base",
   "language": "python",
   "name": "python3"
  },
  "language_info": {
   "codemirror_mode": {
    "name": "ipython",
    "version": 3
   },
   "file_extension": ".py",
   "mimetype": "text/x-python",
   "name": "python",
   "nbconvert_exporter": "python",
   "pygments_lexer": "ipython3",
   "version": "3.9.7"
  }
 },
 "nbformat": 4,
 "nbformat_minor": 5
}
